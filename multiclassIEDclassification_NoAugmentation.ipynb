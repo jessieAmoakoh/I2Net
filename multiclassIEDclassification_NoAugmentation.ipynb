{
 "cells": [
  {
   "cell_type": "markdown",
   "id": "c2ea0eb2",
   "metadata": {},
   "source": [
    "# Import needed libraries"
   ]
  },
  {
   "cell_type": "code",
   "execution_count": 137,
   "id": "09a86578",
   "metadata": {},
   "outputs": [],
   "source": [
    "##pip install Augmentor "
   ]
  },
  {
   "cell_type": "code",
   "execution_count": 138,
   "id": "d2f21405",
   "metadata": {},
   "outputs": [],
   "source": [
    "##pip install tensorflow"
   ]
  },
  {
   "cell_type": "code",
   "execution_count": 139,
   "id": "cdb87ef9",
   "metadata": {},
   "outputs": [
    {
     "data": {
      "text/plain": [
       "'\\nfrom glob import glob\\n'"
      ]
     },
     "execution_count": 139,
     "metadata": {},
     "output_type": "execute_result"
    }
   ],
   "source": [
    "import time # used to measure model training time\n",
    "exp_start_time = time.time()\n",
    "import numpy as np, pandas as pd\n",
    "import matplotlib.pyplot as plt, seaborn as sns\n",
    "import os\n",
    "from skimage import io\n",
    "from PIL import Image\n",
    "from pathlib import Path\n",
    "import Augmentor\n",
    "\n",
    "from sklearn.metrics import confusion_matrix, classification_report, \\\n",
    "        ConfusionMatrixDisplay, accuracy_score, precision_score, recall_score, roc_auc_score\n",
    "import warnings\n",
    "warnings.filterwarnings('ignore')\n",
    "\n",
    "import tensorflow as tf\n",
    "import keras\n",
    "from keras.preprocessing.image import ImageDataGenerator\n",
    "from keras.preprocessing import image\n",
    "from tensorflow.keras import applications\n",
    "from keras import optimizers, layers, models\n",
    "from tensorflow.keras.models import Sequential, load_model, Model\n",
    "from tensorflow.keras.layers import Conv2D, MaxPooling2D, GlobalAveragePooling2D, \\\n",
    "    Flatten, Dense, Dropout, Input, Lambda, LeakyReLU, PReLU, Activation\n",
    "# import cv2\n",
    "'''\n",
    "from glob import glob\n",
    "'''"
   ]
  },
  {
   "cell_type": "markdown",
   "id": "53c98e88",
   "metadata": {},
   "source": [
    "## Load Images into workspace and preprocess"
   ]
  },
  {
   "cell_type": "code",
   "execution_count": 140,
   "id": "ef9bf413",
   "metadata": {},
   "outputs": [],
   "source": [
    "# Read datasets from local directories as train/val/test sets\n",
    "train_dir = r'C:\\Amoakoh\\dataset\\multiclassRawDataset\\train'\n",
    "val_dir = r'C:\\Amoakoh\\dataset\\multiclassRawDataset\\val'\n",
    "test_dir = r'C:\\Amoakoh\\dataset\\multiclassRawDataset\\test'\n",
    "\n",
    "train_paper = r'C:\\Amoakoh\\dataset\\multiclassRawDataset\\train\\paper'\n",
    "val_paper = r'C:\\Amoakoh\\dataset\\multiclassRawDataset\\val\\paper'\n",
    "test_paper = r'C:\\Amoakoh\\dataset\\multiclassRawDataset\\test\\paper'"
   ]
  },
  {
   "cell_type": "markdown",
   "id": "919378b1",
   "metadata": {},
   "source": [
    "## Set general model hyperparameters"
   ]
  },
  {
   "cell_type": "code",
   "execution_count": 141,
   "id": "6acf6486",
   "metadata": {},
   "outputs": [],
   "source": [
    "img_height = 224\n",
    "img_width = 224\n",
    "num_channels = 3 # 3 for RGB images but 1 for grayscale images\n",
    "batchSize = 128 #32, 64, 128\n",
    "epochs = 5 #18\n",
    "N = 0  # number of neurons in first layer of top layer\n",
    "dropout_rate = 0  # 0.5 < dropout rate range < 0.8, 0 rate means no dropout\n",
    "dropout_seed = 200 # optional parameter\n",
    "\n",
    "pool_size =(2, 2) \n",
    "pool_strides =(2, 2)\n",
    "kernel_size =(3, 3) \n",
    "conv2D_strides =(1, 1)\n",
    "\n",
    "target_names = ['cardboard', 'glass','ied', 'metal','paper', 'plastic','trash']\n",
    "\n",
    "steps_per_epoch = len(os.listdir(train_paper))//batchSize # terminates an epoch\n",
    "validation_steps =  len(os.listdir(val_paper))//batchSize\n",
    "\n",
    "kInitializer = tf.keras.initializers.TruncatedNormal(mean=0.0, stddev=0.1, seed=60) # kernel initializer\n",
    "bInitializer = tf.keras.initializers.TruncatedNormal(mean=0.3, stddev=0.1, seed=60) # bias initializer\n",
    "\n",
    "import functools\n",
    "#SS = tf.keras.metrics.SpecificityAtSensitivity()\n",
    "#recall = tf.keras.metrics.Recall()\n",
    "#accuracy = tf.keras.metrics.Accuracy()\n",
    "mse = tf.keras.metrics.MeanSquaredError(name='mean_squared_error', dtype=None)\n",
    "top1_acc = functools.partial(keras.metrics.top_k_categorical_accuracy, k=1)\n",
    "top5_acc = functools.partial(keras.metrics.top_k_categorical_accuracy, k=5)\n",
    "top1_acc.__name__ = 'top1_acc'\n",
    "top5_acc.__name__ = 'top5_acc'\n",
    "metrics=['acc','top_k_categorical_accuracy',top1_acc, top5_acc, mse] #, recall, accuracy]"
   ]
  },
  {
   "cell_type": "markdown",
   "id": "f2095088",
   "metadata": {},
   "source": [
    "## Define the optimizer for the training"
   ]
  },
  {
   "cell_type": "code",
   "execution_count": 142,
   "id": "7880fe7c",
   "metadata": {},
   "outputs": [
    {
     "data": {
      "text/plain": [
       "'\\noptimizer = optimizers.Adam(learning_rate=0.001, beta_1=0.9, beta_2=0.999, epsilon=1e-07)\\n'"
      ]
     },
     "execution_count": 142,
     "metadata": {},
     "output_type": "execute_result"
    }
   ],
   "source": [
    "# define the optimization algorithm or optimizer\n",
    "\n",
    "##optimizer = optimizers.SGD(learning_rate=0.05, momentum=0.9, clipvalue=1.0, nesterov=True)\n",
    "optimizer = optimizers.legacy.SGD(learning_rate=0.05, momentum=0.9, clipvalue=1.0, nesterov=True)\n",
    "'''\n",
    "optimizer = optimizers.Adam(learning_rate=0.001, beta_1=0.9, beta_2=0.999, epsilon=1e-07)\n",
    "'''"
   ]
  },
  {
   "cell_type": "markdown",
   "id": "f2f475b4",
   "metadata": {},
   "source": [
    "## Define activation functions"
   ]
  },
  {
   "cell_type": "code",
   "execution_count": 143,
   "id": "793d44fa",
   "metadata": {},
   "outputs": [
    {
     "data": {
      "text/plain": [
       "'\\nactivation_function = layers.LeakyReLU(alpha=0.008)\\n\\nactivation_function = layers.PReLU()\\n'"
      ]
     },
     "execution_count": 143,
     "metadata": {},
     "output_type": "execute_result"
    }
   ],
   "source": [
    "\n",
    "activation_function = Activation('relu')\n",
    "'''\n",
    "activation_function = layers.LeakyReLU(alpha=0.008)\n",
    "\n",
    "activation_function = layers.PReLU()\n",
    "'''"
   ]
  },
  {
   "cell_type": "markdown",
   "id": "99d52554",
   "metadata": {},
   "source": [
    "## Define functions for data standardization"
   ]
  },
  {
   "cell_type": "code",
   "execution_count": 144,
   "id": "ee300152",
   "metadata": {},
   "outputs": [],
   "source": [
    "def read_pil_image(img_path, img_height, img_width):\n",
    "        with open(img_path, 'rb') as f:\n",
    "            return np.array(Image.open(f).convert('RGB').resize((img_width, img_height)))\n",
    "\n",
    "def load_all_images(dataset_path, img_height, img_width, img_ext='jpg'):\n",
    "    return np.array([read_pil_image(str(p), img_height, img_width) for p in \n",
    "                                    Path(dataset_path).rglob(\"*.\"+img_ext)]) "
   ]
  },
  {
   "cell_type": "markdown",
   "id": "7568c784",
   "metadata": {},
   "source": [
    "### Perform standardization and normalization of non-augmented dataset"
   ]
  },
  {
   "cell_type": "code",
   "execution_count": 145,
   "id": "6cf1cd33",
   "metadata": {},
   "outputs": [],
   "source": [
    "## Create the image data generator to standardize the images\n",
    "datagen = ImageDataGenerator(\n",
    "    rescale = 1./255, # dataset standardization i.e. rescale all images from (0,255) to (0,1)\n",
    "    featurewise_center=True, # zero-centering\n",
    "    featurewise_std_normalization=True, # unit variance\n",
    "    ) "
   ]
  },
  {
   "cell_type": "code",
   "execution_count": 146,
   "id": "a63b8368",
   "metadata": {},
   "outputs": [],
   "source": [
    "# Compute statistics (i.e. mean and standard deviation) of train set\n",
    "datagen.fit(load_all_images(train_dir, img_height, img_width))"
   ]
  },
  {
   "cell_type": "code",
   "execution_count": 147,
   "id": "33a95dec",
   "metadata": {},
   "outputs": [
    {
     "name": "stdout",
     "output_type": "stream",
     "text": [
      "Found 1882 images belonging to 7 classes.\n",
      "Found 401 images belonging to 7 classes.\n",
      "Found 410 images belonging to 7 classes.\n"
     ]
    }
   ],
   "source": [
    "train_generator = datagen.flow_from_directory(\n",
    "    train_dir,\n",
    "    target_size = (img_height, img_width),\n",
    "    batch_size = batchSize,\n",
    "    class_mode = \"categorical\")\n",
    "\n",
    "validation_generator = datagen.flow_from_directory(\n",
    "    val_dir,\n",
    "    target_size = (img_height, img_width),\n",
    "    batch_size = batchSize,\n",
    "    class_mode = \"categorical\")\n",
    "\n",
    "test_generator = datagen.flow_from_directory(\n",
    "    test_dir,\n",
    "    target_size = (img_height, img_width),\n",
    "    batch_size = batchSize,\n",
    "    class_mode = \"categorical\")"
   ]
  },
  {
   "cell_type": "code",
   "execution_count": 148,
   "id": "22c35603",
   "metadata": {},
   "outputs": [
    {
     "data": {
      "text/plain": [
       "\"\\nfor data_batch, labels_batch in train_generator:\\n    #print('Train labels: ', labels_batch)\\n    print('Data batch shape: ', data_batch.shape)\\n    print('Labels batch shape: ', labels_batch.shape)\\n    \\nfor data_batch, labels_batch in validation_generator:\\n    print('Data batch shape: ', data_batch.shape)\\n    print('Labels batch shape: ', labels_batch.shape)\\n    \\nfor data_batch, labels_batch in test_generator:\\n    print('Data batch shape: ', data_batch.shape)\\n    print('Labels batch shape: ', labels_batch.shape)\\n\""
      ]
     },
     "execution_count": 148,
     "metadata": {},
     "output_type": "execute_result"
    }
   ],
   "source": [
    "# Let's examine the outputs of the generators. A generator is an object that acts like an iterator\n",
    "'''\n",
    "for data_batch, labels_batch in train_generator:\n",
    "    #print('Train labels: ', labels_batch)\n",
    "    print('Data batch shape: ', data_batch.shape)\n",
    "    print('Labels batch shape: ', labels_batch.shape)\n",
    "    \n",
    "for data_batch, labels_batch in validation_generator:\n",
    "    print('Data batch shape: ', data_batch.shape)\n",
    "    print('Labels batch shape: ', labels_batch.shape)\n",
    "    \n",
    "for data_batch, labels_batch in test_generator:\n",
    "    print('Data batch shape: ', data_batch.shape)\n",
    "    print('Labels batch shape: ', labels_batch.shape)\n",
    "'''"
   ]
  },
  {
   "cell_type": "markdown",
   "id": "69f56c1c",
   "metadata": {},
   "source": [
    "## Function to compute the classification performance"
   ]
  },
  {
   "cell_type": "code",
   "execution_count": 149,
   "id": "10721a67",
   "metadata": {},
   "outputs": [],
   "source": [
    "def classification_performance(y_test, y_pred):\n",
    "    #tp, fp, fn, tn = confusion_matrix(y_test, y_pred).ravel()\n",
    "    accuracy = round(accuracy_score(y_true = y_test, y_pred = y_pred, normalize=True, sample_weight=None),2)\n",
    "    precision = round(precision_score(y_true = y_test, y_pred = y_pred, average='weighted'),2)\n",
    "    recall = round(recall_score(y_true = y_test, y_pred = y_pred, average='weighted'),2)\n",
    "    f1_score = round(2*precision*recall/(precision + recall),2)    \n",
    "    auc_roc = round(roc_auc_score(y_score = y_pred, y_true = y_test),2)\n",
    "\n",
    "    result = pd.DataFrame({'Accuracy' : [accuracy],\n",
    "                         'Precision (or PPV)' : [precision],\n",
    "                         'Recall (senitivity or TPR)' : [recall],\n",
    "                         'f1 score' : [f1_score],\n",
    "                         'AUC_ROC' : [auc_roc],\n",
    "                         })\n",
    "    return result"
   ]
  },
  {
   "cell_type": "markdown",
   "id": "a1d711c8",
   "metadata": {},
   "source": [
    "## Define a function for the top layer in transfer learning"
   ]
  },
  {
   "cell_type": "code",
   "execution_count": 150,
   "id": "58c416e1",
   "metadata": {},
   "outputs": [],
   "source": [
    "def new_top_layers(input_model):\n",
    "    output_model = Sequential()\n",
    "    output_model.add(input_model)\n",
    "    output_model.add(Flatten())\n",
    "    output_model.add(Dense(N,  # number of neurons in first layer of top layer\n",
    "        use_bias=True,\n",
    "        kernel_initializer=kInitializer,\n",
    "        bias_initializer=bInitializer,\n",
    "        kernel_regularizer=None,\n",
    "        bias_regularizer=None,\n",
    "        activity_regularizer=None,\n",
    "        kernel_constraint=None,\n",
    "        bias_constraint=None))\n",
    "    output_model.add(activation_function)\n",
    "    output_model.add(layers.Dropout(rate=dropout_rate, seed=dropout_seed)) # add dropout to mimize overfitting\n",
    "    \n",
    "    output_model.add(Dense(7, # layer has only 7 neurons for seven classes\n",
    "        use_bias=True,\n",
    "        kernel_initializer=kInitializer,\n",
    "        bias_initializer=bInitializer,\n",
    "        kernel_regularizer=None,\n",
    "        bias_regularizer=None,\n",
    "        activity_regularizer=None,\n",
    "        kernel_constraint=None,\n",
    "        bias_constraint=None, \n",
    "        activation='softmax')) \n",
    "    return output_model"
   ]
  },
  {
   "cell_type": "markdown",
   "id": "c07bfec6",
   "metadata": {},
   "source": [
    "## TL 1: Transfer Learning with MobileNetV2"
   ]
  },
  {
   "cell_type": "code",
   "execution_count": 151,
   "id": "1485188c",
   "metadata": {},
   "outputs": [],
   "source": [
    "# Create the pretrained model as the base model\n",
    "from keras.applications.mobilenet_v2 import MobileNetV2 # import the pre-trained model\n",
    "\n",
    "base_model_MblNetV2 = MobileNetV2(input_shape=(img_height, img_width, 3), \n",
    "                include_top=False, # ideal for feature extraction\n",
    "                weights='imagenet' )\n",
    "\n",
    "base_model_MblNetV2.trainable = False # Prevent the weights of the base model from being updated before compiling & training the model"
   ]
  },
  {
   "cell_type": "code",
   "execution_count": 152,
   "id": "a0b86189",
   "metadata": {},
   "outputs": [
    {
     "name": "stdout",
     "output_type": "stream",
     "text": [
      "Model: \"mobilenetv2_1.00_224\"\n",
      "__________________________________________________________________________________________________\n",
      " Layer (type)                Output Shape                 Param #   Connected to                  \n",
      "==================================================================================================\n",
      " input_10 (InputLayer)       [(None, 224, 224, 3)]        0         []                            \n",
      "                                                                                                  \n",
      " Conv1 (Conv2D)              (None, 112, 112, 32)         864       ['input_10[0][0]']            \n",
      "                                                                                                  \n",
      " bn_Conv1 (BatchNormalizati  (None, 112, 112, 32)         128       ['Conv1[0][0]']               \n",
      " on)                                                                                              \n",
      "                                                                                                  \n",
      " Conv1_relu (ReLU)           (None, 112, 112, 32)         0         ['bn_Conv1[0][0]']            \n",
      "                                                                                                  \n",
      " expanded_conv_depthwise (D  (None, 112, 112, 32)         288       ['Conv1_relu[0][0]']          \n",
      " epthwiseConv2D)                                                                                  \n",
      "                                                                                                  \n",
      " expanded_conv_depthwise_BN  (None, 112, 112, 32)         128       ['expanded_conv_depthwise[0][0\n",
      "  (BatchNormalization)                                              ]']                           \n",
      "                                                                                                  \n",
      " expanded_conv_depthwise_re  (None, 112, 112, 32)         0         ['expanded_conv_depthwise_BN[0\n",
      " lu (ReLU)                                                          ][0]']                        \n",
      "                                                                                                  \n",
      " expanded_conv_project (Con  (None, 112, 112, 16)         512       ['expanded_conv_depthwise_relu\n",
      " v2D)                                                               [0][0]']                      \n",
      "                                                                                                  \n",
      " expanded_conv_project_BN (  (None, 112, 112, 16)         64        ['expanded_conv_project[0][0]'\n",
      " BatchNormalization)                                                ]                             \n",
      "                                                                                                  \n",
      " block_1_expand (Conv2D)     (None, 112, 112, 96)         1536      ['expanded_conv_project_BN[0][\n",
      "                                                                    0]']                          \n",
      "                                                                                                  \n",
      " block_1_expand_BN (BatchNo  (None, 112, 112, 96)         384       ['block_1_expand[0][0]']      \n",
      " rmalization)                                                                                     \n",
      "                                                                                                  \n",
      " block_1_expand_relu (ReLU)  (None, 112, 112, 96)         0         ['block_1_expand_BN[0][0]']   \n",
      "                                                                                                  \n",
      " block_1_pad (ZeroPadding2D  (None, 113, 113, 96)         0         ['block_1_expand_relu[0][0]'] \n",
      " )                                                                                                \n",
      "                                                                                                  \n",
      " block_1_depthwise (Depthwi  (None, 56, 56, 96)           864       ['block_1_pad[0][0]']         \n",
      " seConv2D)                                                                                        \n",
      "                                                                                                  \n",
      " block_1_depthwise_BN (Batc  (None, 56, 56, 96)           384       ['block_1_depthwise[0][0]']   \n",
      " hNormalization)                                                                                  \n",
      "                                                                                                  \n",
      " block_1_depthwise_relu (Re  (None, 56, 56, 96)           0         ['block_1_depthwise_BN[0][0]']\n",
      " LU)                                                                                              \n",
      "                                                                                                  \n",
      " block_1_project (Conv2D)    (None, 56, 56, 24)           2304      ['block_1_depthwise_relu[0][0]\n",
      "                                                                    ']                            \n",
      "                                                                                                  \n",
      " block_1_project_BN (BatchN  (None, 56, 56, 24)           96        ['block_1_project[0][0]']     \n",
      " ormalization)                                                                                    \n",
      "                                                                                                  \n",
      " block_2_expand (Conv2D)     (None, 56, 56, 144)          3456      ['block_1_project_BN[0][0]']  \n",
      "                                                                                                  \n",
      " block_2_expand_BN (BatchNo  (None, 56, 56, 144)          576       ['block_2_expand[0][0]']      \n",
      " rmalization)                                                                                     \n",
      "                                                                                                  \n",
      " block_2_expand_relu (ReLU)  (None, 56, 56, 144)          0         ['block_2_expand_BN[0][0]']   \n",
      "                                                                                                  \n",
      " block_2_depthwise (Depthwi  (None, 56, 56, 144)          1296      ['block_2_expand_relu[0][0]'] \n",
      " seConv2D)                                                                                        \n",
      "                                                                                                  \n",
      " block_2_depthwise_BN (Batc  (None, 56, 56, 144)          576       ['block_2_depthwise[0][0]']   \n",
      " hNormalization)                                                                                  \n",
      "                                                                                                  \n",
      " block_2_depthwise_relu (Re  (None, 56, 56, 144)          0         ['block_2_depthwise_BN[0][0]']\n",
      " LU)                                                                                              \n",
      "                                                                                                  \n",
      " block_2_project (Conv2D)    (None, 56, 56, 24)           3456      ['block_2_depthwise_relu[0][0]\n",
      "                                                                    ']                            \n",
      "                                                                                                  \n",
      " block_2_project_BN (BatchN  (None, 56, 56, 24)           96        ['block_2_project[0][0]']     \n",
      " ormalization)                                                                                    \n",
      "                                                                                                  \n",
      " block_2_add (Add)           (None, 56, 56, 24)           0         ['block_1_project_BN[0][0]',  \n",
      "                                                                     'block_2_project_BN[0][0]']  \n",
      "                                                                                                  \n",
      " block_3_expand (Conv2D)     (None, 56, 56, 144)          3456      ['block_2_add[0][0]']         \n",
      "                                                                                                  \n",
      " block_3_expand_BN (BatchNo  (None, 56, 56, 144)          576       ['block_3_expand[0][0]']      \n",
      " rmalization)                                                                                     \n",
      "                                                                                                  \n",
      " block_3_expand_relu (ReLU)  (None, 56, 56, 144)          0         ['block_3_expand_BN[0][0]']   \n",
      "                                                                                                  \n",
      " block_3_pad (ZeroPadding2D  (None, 57, 57, 144)          0         ['block_3_expand_relu[0][0]'] \n",
      " )                                                                                                \n",
      "                                                                                                  \n",
      " block_3_depthwise (Depthwi  (None, 28, 28, 144)          1296      ['block_3_pad[0][0]']         \n",
      " seConv2D)                                                                                        \n",
      "                                                                                                  \n",
      " block_3_depthwise_BN (Batc  (None, 28, 28, 144)          576       ['block_3_depthwise[0][0]']   \n",
      " hNormalization)                                                                                  \n",
      "                                                                                                  \n",
      " block_3_depthwise_relu (Re  (None, 28, 28, 144)          0         ['block_3_depthwise_BN[0][0]']\n",
      " LU)                                                                                              \n",
      "                                                                                                  \n",
      " block_3_project (Conv2D)    (None, 28, 28, 32)           4608      ['block_3_depthwise_relu[0][0]\n",
      "                                                                    ']                            \n",
      "                                                                                                  \n",
      " block_3_project_BN (BatchN  (None, 28, 28, 32)           128       ['block_3_project[0][0]']     \n",
      " ormalization)                                                                                    \n",
      "                                                                                                  \n",
      " block_4_expand (Conv2D)     (None, 28, 28, 192)          6144      ['block_3_project_BN[0][0]']  \n",
      "                                                                                                  \n",
      " block_4_expand_BN (BatchNo  (None, 28, 28, 192)          768       ['block_4_expand[0][0]']      \n",
      " rmalization)                                                                                     \n",
      "                                                                                                  \n",
      " block_4_expand_relu (ReLU)  (None, 28, 28, 192)          0         ['block_4_expand_BN[0][0]']   \n",
      "                                                                                                  \n",
      " block_4_depthwise (Depthwi  (None, 28, 28, 192)          1728      ['block_4_expand_relu[0][0]'] \n",
      " seConv2D)                                                                                        \n",
      "                                                                                                  \n",
      " block_4_depthwise_BN (Batc  (None, 28, 28, 192)          768       ['block_4_depthwise[0][0]']   \n",
      " hNormalization)                                                                                  \n",
      "                                                                                                  \n",
      " block_4_depthwise_relu (Re  (None, 28, 28, 192)          0         ['block_4_depthwise_BN[0][0]']\n",
      " LU)                                                                                              \n",
      "                                                                                                  \n",
      " block_4_project (Conv2D)    (None, 28, 28, 32)           6144      ['block_4_depthwise_relu[0][0]\n",
      "                                                                    ']                            \n",
      "                                                                                                  \n",
      " block_4_project_BN (BatchN  (None, 28, 28, 32)           128       ['block_4_project[0][0]']     \n",
      " ormalization)                                                                                    \n",
      "                                                                                                  \n",
      " block_4_add (Add)           (None, 28, 28, 32)           0         ['block_3_project_BN[0][0]',  \n",
      "                                                                     'block_4_project_BN[0][0]']  \n",
      "                                                                                                  \n",
      " block_5_expand (Conv2D)     (None, 28, 28, 192)          6144      ['block_4_add[0][0]']         \n",
      "                                                                                                  \n",
      " block_5_expand_BN (BatchNo  (None, 28, 28, 192)          768       ['block_5_expand[0][0]']      \n",
      " rmalization)                                                                                     \n",
      "                                                                                                  \n",
      " block_5_expand_relu (ReLU)  (None, 28, 28, 192)          0         ['block_5_expand_BN[0][0]']   \n",
      "                                                                                                  \n",
      " block_5_depthwise (Depthwi  (None, 28, 28, 192)          1728      ['block_5_expand_relu[0][0]'] \n",
      " seConv2D)                                                                                        \n",
      "                                                                                                  \n",
      " block_5_depthwise_BN (Batc  (None, 28, 28, 192)          768       ['block_5_depthwise[0][0]']   \n",
      " hNormalization)                                                                                  \n",
      "                                                                                                  \n",
      " block_5_depthwise_relu (Re  (None, 28, 28, 192)          0         ['block_5_depthwise_BN[0][0]']\n",
      " LU)                                                                                              \n",
      "                                                                                                  \n",
      " block_5_project (Conv2D)    (None, 28, 28, 32)           6144      ['block_5_depthwise_relu[0][0]\n",
      "                                                                    ']                            \n",
      "                                                                                                  \n",
      " block_5_project_BN (BatchN  (None, 28, 28, 32)           128       ['block_5_project[0][0]']     \n",
      " ormalization)                                                                                    \n",
      "                                                                                                  \n",
      " block_5_add (Add)           (None, 28, 28, 32)           0         ['block_4_add[0][0]',         \n",
      "                                                                     'block_5_project_BN[0][0]']  \n",
      "                                                                                                  \n",
      " block_6_expand (Conv2D)     (None, 28, 28, 192)          6144      ['block_5_add[0][0]']         \n",
      "                                                                                                  \n",
      " block_6_expand_BN (BatchNo  (None, 28, 28, 192)          768       ['block_6_expand[0][0]']      \n",
      " rmalization)                                                                                     \n",
      "                                                                                                  \n",
      " block_6_expand_relu (ReLU)  (None, 28, 28, 192)          0         ['block_6_expand_BN[0][0]']   \n",
      "                                                                                                  \n",
      " block_6_pad (ZeroPadding2D  (None, 29, 29, 192)          0         ['block_6_expand_relu[0][0]'] \n",
      " )                                                                                                \n",
      "                                                                                                  \n",
      " block_6_depthwise (Depthwi  (None, 14, 14, 192)          1728      ['block_6_pad[0][0]']         \n",
      " seConv2D)                                                                                        \n",
      "                                                                                                  \n",
      " block_6_depthwise_BN (Batc  (None, 14, 14, 192)          768       ['block_6_depthwise[0][0]']   \n",
      " hNormalization)                                                                                  \n",
      "                                                                                                  \n",
      " block_6_depthwise_relu (Re  (None, 14, 14, 192)          0         ['block_6_depthwise_BN[0][0]']\n",
      " LU)                                                                                              \n",
      "                                                                                                  \n",
      " block_6_project (Conv2D)    (None, 14, 14, 64)           12288     ['block_6_depthwise_relu[0][0]\n",
      "                                                                    ']                            \n",
      "                                                                                                  \n",
      " block_6_project_BN (BatchN  (None, 14, 14, 64)           256       ['block_6_project[0][0]']     \n",
      " ormalization)                                                                                    \n",
      "                                                                                                  \n",
      " block_7_expand (Conv2D)     (None, 14, 14, 384)          24576     ['block_6_project_BN[0][0]']  \n",
      "                                                                                                  \n",
      " block_7_expand_BN (BatchNo  (None, 14, 14, 384)          1536      ['block_7_expand[0][0]']      \n",
      " rmalization)                                                                                     \n",
      "                                                                                                  \n",
      " block_7_expand_relu (ReLU)  (None, 14, 14, 384)          0         ['block_7_expand_BN[0][0]']   \n",
      "                                                                                                  \n",
      " block_7_depthwise (Depthwi  (None, 14, 14, 384)          3456      ['block_7_expand_relu[0][0]'] \n",
      " seConv2D)                                                                                        \n",
      "                                                                                                  \n",
      " block_7_depthwise_BN (Batc  (None, 14, 14, 384)          1536      ['block_7_depthwise[0][0]']   \n",
      " hNormalization)                                                                                  \n",
      "                                                                                                  \n",
      " block_7_depthwise_relu (Re  (None, 14, 14, 384)          0         ['block_7_depthwise_BN[0][0]']\n",
      " LU)                                                                                              \n",
      "                                                                                                  \n",
      " block_7_project (Conv2D)    (None, 14, 14, 64)           24576     ['block_7_depthwise_relu[0][0]\n",
      "                                                                    ']                            \n",
      "                                                                                                  \n",
      " block_7_project_BN (BatchN  (None, 14, 14, 64)           256       ['block_7_project[0][0]']     \n",
      " ormalization)                                                                                    \n",
      "                                                                                                  \n",
      " block_7_add (Add)           (None, 14, 14, 64)           0         ['block_6_project_BN[0][0]',  \n",
      "                                                                     'block_7_project_BN[0][0]']  \n",
      "                                                                                                  \n",
      " block_8_expand (Conv2D)     (None, 14, 14, 384)          24576     ['block_7_add[0][0]']         \n",
      "                                                                                                  \n",
      " block_8_expand_BN (BatchNo  (None, 14, 14, 384)          1536      ['block_8_expand[0][0]']      \n",
      " rmalization)                                                                                     \n",
      "                                                                                                  \n",
      " block_8_expand_relu (ReLU)  (None, 14, 14, 384)          0         ['block_8_expand_BN[0][0]']   \n",
      "                                                                                                  \n",
      " block_8_depthwise (Depthwi  (None, 14, 14, 384)          3456      ['block_8_expand_relu[0][0]'] \n",
      " seConv2D)                                                                                        \n",
      "                                                                                                  \n",
      " block_8_depthwise_BN (Batc  (None, 14, 14, 384)          1536      ['block_8_depthwise[0][0]']   \n",
      " hNormalization)                                                                                  \n",
      "                                                                                                  \n",
      " block_8_depthwise_relu (Re  (None, 14, 14, 384)          0         ['block_8_depthwise_BN[0][0]']\n",
      " LU)                                                                                              \n",
      "                                                                                                  \n",
      " block_8_project (Conv2D)    (None, 14, 14, 64)           24576     ['block_8_depthwise_relu[0][0]\n",
      "                                                                    ']                            \n",
      "                                                                                                  \n",
      " block_8_project_BN (BatchN  (None, 14, 14, 64)           256       ['block_8_project[0][0]']     \n",
      " ormalization)                                                                                    \n",
      "                                                                                                  \n",
      " block_8_add (Add)           (None, 14, 14, 64)           0         ['block_7_add[0][0]',         \n",
      "                                                                     'block_8_project_BN[0][0]']  \n",
      "                                                                                                  \n",
      " block_9_expand (Conv2D)     (None, 14, 14, 384)          24576     ['block_8_add[0][0]']         \n",
      "                                                                                                  \n",
      " block_9_expand_BN (BatchNo  (None, 14, 14, 384)          1536      ['block_9_expand[0][0]']      \n",
      " rmalization)                                                                                     \n",
      "                                                                                                  \n",
      " block_9_expand_relu (ReLU)  (None, 14, 14, 384)          0         ['block_9_expand_BN[0][0]']   \n",
      "                                                                                                  \n",
      " block_9_depthwise (Depthwi  (None, 14, 14, 384)          3456      ['block_9_expand_relu[0][0]'] \n",
      " seConv2D)                                                                                        \n",
      "                                                                                                  \n",
      " block_9_depthwise_BN (Batc  (None, 14, 14, 384)          1536      ['block_9_depthwise[0][0]']   \n",
      " hNormalization)                                                                                  \n",
      "                                                                                                  \n",
      " block_9_depthwise_relu (Re  (None, 14, 14, 384)          0         ['block_9_depthwise_BN[0][0]']\n",
      " LU)                                                                                              \n",
      "                                                                                                  \n",
      " block_9_project (Conv2D)    (None, 14, 14, 64)           24576     ['block_9_depthwise_relu[0][0]\n",
      "                                                                    ']                            \n",
      "                                                                                                  \n",
      " block_9_project_BN (BatchN  (None, 14, 14, 64)           256       ['block_9_project[0][0]']     \n",
      " ormalization)                                                                                    \n",
      "                                                                                                  \n",
      " block_9_add (Add)           (None, 14, 14, 64)           0         ['block_8_add[0][0]',         \n",
      "                                                                     'block_9_project_BN[0][0]']  \n",
      "                                                                                                  \n",
      " block_10_expand (Conv2D)    (None, 14, 14, 384)          24576     ['block_9_add[0][0]']         \n",
      "                                                                                                  \n",
      " block_10_expand_BN (BatchN  (None, 14, 14, 384)          1536      ['block_10_expand[0][0]']     \n",
      " ormalization)                                                                                    \n",
      "                                                                                                  \n",
      " block_10_expand_relu (ReLU  (None, 14, 14, 384)          0         ['block_10_expand_BN[0][0]']  \n",
      " )                                                                                                \n",
      "                                                                                                  \n",
      " block_10_depthwise (Depthw  (None, 14, 14, 384)          3456      ['block_10_expand_relu[0][0]']\n",
      " iseConv2D)                                                                                       \n",
      "                                                                                                  \n",
      " block_10_depthwise_BN (Bat  (None, 14, 14, 384)          1536      ['block_10_depthwise[0][0]']  \n",
      " chNormalization)                                                                                 \n",
      "                                                                                                  \n",
      " block_10_depthwise_relu (R  (None, 14, 14, 384)          0         ['block_10_depthwise_BN[0][0]'\n",
      " eLU)                                                               ]                             \n",
      "                                                                                                  \n",
      " block_10_project (Conv2D)   (None, 14, 14, 96)           36864     ['block_10_depthwise_relu[0][0\n",
      "                                                                    ]']                           \n",
      "                                                                                                  \n",
      " block_10_project_BN (Batch  (None, 14, 14, 96)           384       ['block_10_project[0][0]']    \n",
      " Normalization)                                                                                   \n",
      "                                                                                                  \n",
      " block_11_expand (Conv2D)    (None, 14, 14, 576)          55296     ['block_10_project_BN[0][0]'] \n",
      "                                                                                                  \n",
      " block_11_expand_BN (BatchN  (None, 14, 14, 576)          2304      ['block_11_expand[0][0]']     \n",
      " ormalization)                                                                                    \n",
      "                                                                                                  \n",
      " block_11_expand_relu (ReLU  (None, 14, 14, 576)          0         ['block_11_expand_BN[0][0]']  \n",
      " )                                                                                                \n",
      "                                                                                                  \n",
      " block_11_depthwise (Depthw  (None, 14, 14, 576)          5184      ['block_11_expand_relu[0][0]']\n",
      " iseConv2D)                                                                                       \n",
      "                                                                                                  \n",
      " block_11_depthwise_BN (Bat  (None, 14, 14, 576)          2304      ['block_11_depthwise[0][0]']  \n",
      " chNormalization)                                                                                 \n",
      "                                                                                                  \n",
      " block_11_depthwise_relu (R  (None, 14, 14, 576)          0         ['block_11_depthwise_BN[0][0]'\n",
      " eLU)                                                               ]                             \n",
      "                                                                                                  \n",
      " block_11_project (Conv2D)   (None, 14, 14, 96)           55296     ['block_11_depthwise_relu[0][0\n",
      "                                                                    ]']                           \n",
      "                                                                                                  \n",
      " block_11_project_BN (Batch  (None, 14, 14, 96)           384       ['block_11_project[0][0]']    \n",
      " Normalization)                                                                                   \n",
      "                                                                                                  \n",
      " block_11_add (Add)          (None, 14, 14, 96)           0         ['block_10_project_BN[0][0]', \n",
      "                                                                     'block_11_project_BN[0][0]'] \n",
      "                                                                                                  \n",
      " block_12_expand (Conv2D)    (None, 14, 14, 576)          55296     ['block_11_add[0][0]']        \n",
      "                                                                                                  \n",
      " block_12_expand_BN (BatchN  (None, 14, 14, 576)          2304      ['block_12_expand[0][0]']     \n",
      " ormalization)                                                                                    \n",
      "                                                                                                  \n",
      " block_12_expand_relu (ReLU  (None, 14, 14, 576)          0         ['block_12_expand_BN[0][0]']  \n",
      " )                                                                                                \n",
      "                                                                                                  \n",
      " block_12_depthwise (Depthw  (None, 14, 14, 576)          5184      ['block_12_expand_relu[0][0]']\n",
      " iseConv2D)                                                                                       \n",
      "                                                                                                  \n",
      " block_12_depthwise_BN (Bat  (None, 14, 14, 576)          2304      ['block_12_depthwise[0][0]']  \n",
      " chNormalization)                                                                                 \n",
      "                                                                                                  \n",
      " block_12_depthwise_relu (R  (None, 14, 14, 576)          0         ['block_12_depthwise_BN[0][0]'\n",
      " eLU)                                                               ]                             \n",
      "                                                                                                  \n",
      " block_12_project (Conv2D)   (None, 14, 14, 96)           55296     ['block_12_depthwise_relu[0][0\n",
      "                                                                    ]']                           \n",
      "                                                                                                  \n",
      " block_12_project_BN (Batch  (None, 14, 14, 96)           384       ['block_12_project[0][0]']    \n",
      " Normalization)                                                                                   \n",
      "                                                                                                  \n",
      " block_12_add (Add)          (None, 14, 14, 96)           0         ['block_11_add[0][0]',        \n",
      "                                                                     'block_12_project_BN[0][0]'] \n",
      "                                                                                                  \n",
      " block_13_expand (Conv2D)    (None, 14, 14, 576)          55296     ['block_12_add[0][0]']        \n",
      "                                                                                                  \n",
      " block_13_expand_BN (BatchN  (None, 14, 14, 576)          2304      ['block_13_expand[0][0]']     \n",
      " ormalization)                                                                                    \n",
      "                                                                                                  \n",
      " block_13_expand_relu (ReLU  (None, 14, 14, 576)          0         ['block_13_expand_BN[0][0]']  \n",
      " )                                                                                                \n",
      "                                                                                                  \n",
      " block_13_pad (ZeroPadding2  (None, 15, 15, 576)          0         ['block_13_expand_relu[0][0]']\n",
      " D)                                                                                               \n",
      "                                                                                                  \n",
      " block_13_depthwise (Depthw  (None, 7, 7, 576)            5184      ['block_13_pad[0][0]']        \n",
      " iseConv2D)                                                                                       \n",
      "                                                                                                  \n",
      " block_13_depthwise_BN (Bat  (None, 7, 7, 576)            2304      ['block_13_depthwise[0][0]']  \n",
      " chNormalization)                                                                                 \n",
      "                                                                                                  \n",
      " block_13_depthwise_relu (R  (None, 7, 7, 576)            0         ['block_13_depthwise_BN[0][0]'\n",
      " eLU)                                                               ]                             \n",
      "                                                                                                  \n",
      " block_13_project (Conv2D)   (None, 7, 7, 160)            92160     ['block_13_depthwise_relu[0][0\n",
      "                                                                    ]']                           \n",
      "                                                                                                  \n",
      " block_13_project_BN (Batch  (None, 7, 7, 160)            640       ['block_13_project[0][0]']    \n",
      " Normalization)                                                                                   \n",
      "                                                                                                  \n",
      " block_14_expand (Conv2D)    (None, 7, 7, 960)            153600    ['block_13_project_BN[0][0]'] \n",
      "                                                                                                  \n",
      " block_14_expand_BN (BatchN  (None, 7, 7, 960)            3840      ['block_14_expand[0][0]']     \n",
      " ormalization)                                                                                    \n",
      "                                                                                                  \n",
      " block_14_expand_relu (ReLU  (None, 7, 7, 960)            0         ['block_14_expand_BN[0][0]']  \n",
      " )                                                                                                \n",
      "                                                                                                  \n",
      " block_14_depthwise (Depthw  (None, 7, 7, 960)            8640      ['block_14_expand_relu[0][0]']\n",
      " iseConv2D)                                                                                       \n",
      "                                                                                                  \n",
      " block_14_depthwise_BN (Bat  (None, 7, 7, 960)            3840      ['block_14_depthwise[0][0]']  \n",
      " chNormalization)                                                                                 \n",
      "                                                                                                  \n",
      " block_14_depthwise_relu (R  (None, 7, 7, 960)            0         ['block_14_depthwise_BN[0][0]'\n",
      " eLU)                                                               ]                             \n",
      "                                                                                                  \n",
      " block_14_project (Conv2D)   (None, 7, 7, 160)            153600    ['block_14_depthwise_relu[0][0\n",
      "                                                                    ]']                           \n",
      "                                                                                                  \n",
      " block_14_project_BN (Batch  (None, 7, 7, 160)            640       ['block_14_project[0][0]']    \n",
      " Normalization)                                                                                   \n",
      "                                                                                                  \n",
      " block_14_add (Add)          (None, 7, 7, 160)            0         ['block_13_project_BN[0][0]', \n",
      "                                                                     'block_14_project_BN[0][0]'] \n",
      "                                                                                                  \n",
      " block_15_expand (Conv2D)    (None, 7, 7, 960)            153600    ['block_14_add[0][0]']        \n",
      "                                                                                                  \n",
      " block_15_expand_BN (BatchN  (None, 7, 7, 960)            3840      ['block_15_expand[0][0]']     \n",
      " ormalization)                                                                                    \n",
      "                                                                                                  \n",
      " block_15_expand_relu (ReLU  (None, 7, 7, 960)            0         ['block_15_expand_BN[0][0]']  \n",
      " )                                                                                                \n",
      "                                                                                                  \n",
      " block_15_depthwise (Depthw  (None, 7, 7, 960)            8640      ['block_15_expand_relu[0][0]']\n",
      " iseConv2D)                                                                                       \n",
      "                                                                                                  \n",
      " block_15_depthwise_BN (Bat  (None, 7, 7, 960)            3840      ['block_15_depthwise[0][0]']  \n",
      " chNormalization)                                                                                 \n",
      "                                                                                                  \n",
      " block_15_depthwise_relu (R  (None, 7, 7, 960)            0         ['block_15_depthwise_BN[0][0]'\n",
      " eLU)                                                               ]                             \n",
      "                                                                                                  \n",
      " block_15_project (Conv2D)   (None, 7, 7, 160)            153600    ['block_15_depthwise_relu[0][0\n",
      "                                                                    ]']                           \n",
      "                                                                                                  \n",
      " block_15_project_BN (Batch  (None, 7, 7, 160)            640       ['block_15_project[0][0]']    \n",
      " Normalization)                                                                                   \n",
      "                                                                                                  \n",
      " block_15_add (Add)          (None, 7, 7, 160)            0         ['block_14_add[0][0]',        \n",
      "                                                                     'block_15_project_BN[0][0]'] \n",
      "                                                                                                  \n",
      " block_16_expand (Conv2D)    (None, 7, 7, 960)            153600    ['block_15_add[0][0]']        \n",
      "                                                                                                  \n",
      " block_16_expand_BN (BatchN  (None, 7, 7, 960)            3840      ['block_16_expand[0][0]']     \n",
      " ormalization)                                                                                    \n",
      "                                                                                                  \n",
      " block_16_expand_relu (ReLU  (None, 7, 7, 960)            0         ['block_16_expand_BN[0][0]']  \n",
      " )                                                                                                \n",
      "                                                                                                  \n",
      " block_16_depthwise (Depthw  (None, 7, 7, 960)            8640      ['block_16_expand_relu[0][0]']\n",
      " iseConv2D)                                                                                       \n",
      "                                                                                                  \n",
      " block_16_depthwise_BN (Bat  (None, 7, 7, 960)            3840      ['block_16_depthwise[0][0]']  \n",
      " chNormalization)                                                                                 \n",
      "                                                                                                  \n",
      " block_16_depthwise_relu (R  (None, 7, 7, 960)            0         ['block_16_depthwise_BN[0][0]'\n",
      " eLU)                                                               ]                             \n",
      "                                                                                                  \n",
      " block_16_project (Conv2D)   (None, 7, 7, 320)            307200    ['block_16_depthwise_relu[0][0\n",
      "                                                                    ]']                           \n",
      "                                                                                                  \n",
      " block_16_project_BN (Batch  (None, 7, 7, 320)            1280      ['block_16_project[0][0]']    \n",
      " Normalization)                                                                                   \n",
      "                                                                                                  \n",
      " Conv_1 (Conv2D)             (None, 7, 7, 1280)           409600    ['block_16_project_BN[0][0]'] \n",
      "                                                                                                  \n",
      " Conv_1_bn (BatchNormalizat  (None, 7, 7, 1280)           5120      ['Conv_1[0][0]']              \n",
      " ion)                                                                                             \n",
      "                                                                                                  \n",
      " out_relu (ReLU)             (None, 7, 7, 1280)           0         ['Conv_1_bn[0][0]']           \n",
      "                                                                                                  \n",
      "==================================================================================================\n",
      "Total params: 2257984 (8.61 MB)\n",
      "Trainable params: 0 (0.00 Byte)\n",
      "Non-trainable params: 2257984 (8.61 MB)\n",
      "__________________________________________________________________________________________________\n"
     ]
    }
   ],
   "source": [
    "# Find number of model parameters\n",
    "base_model_MblNetV2.summary()"
   ]
  },
  {
   "cell_type": "code",
   "execution_count": 153,
   "id": "51793e1a",
   "metadata": {},
   "outputs": [],
   "source": [
    "# Add extra layers to the pre-trained base model by function call\n",
    "MblNetV2_model = new_top_layers(base_model_MblNetV2)"
   ]
  },
  {
   "cell_type": "code",
   "execution_count": 154,
   "id": "b989fff9",
   "metadata": {},
   "outputs": [
    {
     "name": "stdout",
     "output_type": "stream",
     "text": [
      "Model: \"sequential_9\"\n",
      "_________________________________________________________________\n",
      " Layer (type)                Output Shape              Param #   \n",
      "=================================================================\n",
      " mobilenetv2_1.00_224 (Func  (None, 7, 7, 1280)        2257984   \n",
      " tional)                                                         \n",
      "                                                                 \n",
      " flatten_9 (Flatten)         (None, 62720)             0         \n",
      "                                                                 \n",
      " dense_18 (Dense)            (None, 0)                 0         \n",
      "                                                                 \n",
      " activation_379 (Activation  (None, 0)                 0         \n",
      " )                                                               \n",
      "                                                                 \n",
      " dropout_9 (Dropout)         (None, 0)                 0         \n",
      "                                                                 \n",
      " dense_19 (Dense)            (None, 7)                 7         \n",
      "                                                                 \n",
      "=================================================================\n",
      "Total params: 2257991 (8.61 MB)\n",
      "Trainable params: 7 (28.00 Byte)\n",
      "Non-trainable params: 2257984 (8.61 MB)\n",
      "_________________________________________________________________\n"
     ]
    }
   ],
   "source": [
    "# Number of model parameters\n",
    "MblNetV2_model.summary()"
   ]
  },
  {
   "cell_type": "code",
   "execution_count": 155,
   "id": "7df524af",
   "metadata": {},
   "outputs": [],
   "source": [
    "# Compile the model\n",
    "MblNetV2_model.compile(loss='categorical_crossentropy', optimizer=optimizer, metrics=metrics)"
   ]
  },
  {
   "cell_type": "code",
   "execution_count": 156,
   "id": "2bbb1bd1",
   "metadata": {},
   "outputs": [
    {
     "name": "stdout",
     "output_type": "stream",
     "text": [
      "Epoch 1/5\n",
      "3/3 [==============================] - 121s 41s/step - loss: 1.9459 - acc: 0.1406 - top_k_categorical_accuracy: 1.0000 - top1_acc: 1.0000 - top5_acc: 1.0000 - mean_squared_error: 0.1224\n",
      "Epoch 2/5\n",
      "3/3 [==============================] - 81s 29s/step - loss: 1.9459 - acc: 0.1618 - top_k_categorical_accuracy: 1.0000 - top1_acc: 1.0000 - top5_acc: 1.0000 - mean_squared_error: 0.1224\n",
      "Epoch 3/5\n",
      "3/3 [==============================] - 80s 24s/step - loss: 1.9459 - acc: 0.1994 - top_k_categorical_accuracy: 1.0000 - top1_acc: 1.0000 - top5_acc: 1.0000 - mean_squared_error: 0.1224\n",
      "Epoch 4/5\n",
      "3/3 [==============================] - 90s 28s/step - loss: 1.9459 - acc: 0.1224 - top_k_categorical_accuracy: 1.0000 - top1_acc: 1.0000 - top5_acc: 1.0000 - mean_squared_error: 0.1224\n",
      "Epoch 5/5\n",
      "3/3 [==============================] - 88s 28s/step - loss: 1.9459 - acc: 0.1250 - top_k_categorical_accuracy: 1.0000 - top1_acc: 1.0000 - top5_acc: 1.0000 - mean_squared_error: 0.1224\n",
      "Model training time in seconds:  612.1001801490784\n"
     ]
    }
   ],
   "source": [
    "#Fit the model to the dataset\n",
    "MNv2_st = time.time()\n",
    "history = MblNetV2_model.fit(\n",
    "    train_generator,\n",
    "    steps_per_epoch = steps_per_epoch,\n",
    "    epochs = epochs,\n",
    "    #workers = 4,\n",
    "    validation_data = validation_generator,\n",
    "    validation_steps = validation_steps)\n",
    "MNv2_et = time.time()\n",
    "MNv2_training_time = MNv2_et - MNv2_st\n",
    "print('Model training time in seconds: ', MNv2_training_time)"
   ]
  },
  {
   "cell_type": "markdown",
   "id": "2e3b0e21",
   "metadata": {},
   "source": [
    "### Evaluate results"
   ]
  },
  {
   "cell_type": "code",
   "execution_count": 157,
   "id": "a1a7a101",
   "metadata": {},
   "outputs": [
    {
     "ename": "KeyError",
     "evalue": "'val_loss'",
     "output_type": "error",
     "traceback": [
      "\u001b[1;31m---------------------------------------------------------------------------\u001b[0m",
      "\u001b[1;31mKeyError\u001b[0m                                  Traceback (most recent call last)",
      "Cell \u001b[1;32mIn[157], line 3\u001b[0m\n\u001b[0;32m      1\u001b[0m fig1, (ax1,ax2) \u001b[38;5;241m=\u001b[39m plt\u001b[38;5;241m.\u001b[39msubplots(nrows\u001b[38;5;241m=\u001b[39m\u001b[38;5;241m1\u001b[39m,ncols\u001b[38;5;241m=\u001b[39m\u001b[38;5;241m2\u001b[39m)\n\u001b[0;32m      2\u001b[0m ax1\u001b[38;5;241m.\u001b[39mplot(history\u001b[38;5;241m.\u001b[39mhistory[\u001b[38;5;124m'\u001b[39m\u001b[38;5;124mloss\u001b[39m\u001b[38;5;124m'\u001b[39m], \u001b[38;5;124m'\u001b[39m\u001b[38;5;124mbo\u001b[39m\u001b[38;5;124m'\u001b[39m,label\u001b[38;5;241m=\u001b[39m\u001b[38;5;124m'\u001b[39m\u001b[38;5;124mTraining Loss\u001b[39m\u001b[38;5;124m'\u001b[39m)\n\u001b[1;32m----> 3\u001b[0m ax1\u001b[38;5;241m.\u001b[39mplot(\u001b[43mhistory\u001b[49m\u001b[38;5;241;43m.\u001b[39;49m\u001b[43mhistory\u001b[49m\u001b[43m[\u001b[49m\u001b[38;5;124;43m'\u001b[39;49m\u001b[38;5;124;43mval_loss\u001b[39;49m\u001b[38;5;124;43m'\u001b[39;49m\u001b[43m]\u001b[49m, \u001b[38;5;124m'\u001b[39m\u001b[38;5;124m-r\u001b[39m\u001b[38;5;124m'\u001b[39m, label\u001b[38;5;241m=\u001b[39m\u001b[38;5;124m'\u001b[39m\u001b[38;5;124mValidation Loss\u001b[39m\u001b[38;5;124m'\u001b[39m)\n\u001b[0;32m      4\u001b[0m ax1\u001b[38;5;241m.\u001b[39mlegend()\n\u001b[0;32m      5\u001b[0m ax1\u001b[38;5;241m.\u001b[39mset_xlabel(\u001b[38;5;124m'\u001b[39m\u001b[38;5;124mEpoch\u001b[39m\u001b[38;5;124m'\u001b[39m)\n",
      "\u001b[1;31mKeyError\u001b[0m: 'val_loss'"
     ]
    },
    {
     "data": {
      "image/png": "[encoded data removed]",
      "text/plain": [
       "<Figure size 640x480 with 2 Axes>"
      ]
     },
     "metadata": {},
     "output_type": "display_data"
    }
   ],
   "source": [
    "fig1, (ax1,ax2) = plt.subplots(nrows=1,ncols=2)\n",
    "ax1.plot(history.history['loss'], 'bo',label='Training Loss')\n",
    "ax1.plot(history.history['val_loss'], '-r', label='Validation Loss')\n",
    "ax1.legend()\n",
    "ax1.set_xlabel('Epoch')\n",
    "#ax1.set_ylabel('Loss')\n",
    "##plt.savefig('LossVal_loss')\n",
    "\n",
    "ax2.plot(history.history['acc'], 'bo',label='Training Accuracy')\n",
    "ax2.plot(history.history['val_acc'], '-r', label='Validation Accuracy')\n",
    "ax2.legend()\n",
    "ax2.set_xlabel('Epoch')\n",
    "#ax2.set_ylabel('Accuracy')\n",
    "plt.show()"
   ]
  },
  {
   "cell_type": "code",
   "execution_count": 180,
   "id": "d273e94f",
   "metadata": {},
   "outputs": [
    {
     "ename": "KeyError",
     "evalue": "'val_acc'",
     "output_type": "error",
     "traceback": [
      "\u001b[1;31m---------------------------------------------------------------------------\u001b[0m",
      "\u001b[1;31mKeyError\u001b[0m                                  Traceback (most recent call last)",
      "Cell \u001b[1;32mIn[180], line 2\u001b[0m\n\u001b[0;32m      1\u001b[0m \u001b[38;5;66;03m#Find the maximum accuracy and its corresponding losses\u001b[39;00m\n\u001b[1;32m----> 2\u001b[0m valAccuracy \u001b[38;5;241m=\u001b[39m np\u001b[38;5;241m.\u001b[39marray(\u001b[43mhistory\u001b[49m\u001b[38;5;241;43m.\u001b[39;49m\u001b[43mhistory\u001b[49m\u001b[43m[\u001b[49m\u001b[38;5;124;43m'\u001b[39;49m\u001b[38;5;124;43mval_acc\u001b[39;49m\u001b[38;5;124;43m'\u001b[39;49m\u001b[43m]\u001b[49m)\n\u001b[0;32m      3\u001b[0m trainAccuracy \u001b[38;5;241m=\u001b[39m np\u001b[38;5;241m.\u001b[39marray(history\u001b[38;5;241m.\u001b[39mhistory[\u001b[38;5;124m'\u001b[39m\u001b[38;5;124macc\u001b[39m\u001b[38;5;124m'\u001b[39m])\n\u001b[0;32m      4\u001b[0m valLoss \u001b[38;5;241m=\u001b[39m np\u001b[38;5;241m.\u001b[39marray(history\u001b[38;5;241m.\u001b[39mhistory[\u001b[38;5;124m'\u001b[39m\u001b[38;5;124mval_loss\u001b[39m\u001b[38;5;124m'\u001b[39m])\n",
      "\u001b[1;31mKeyError\u001b[0m: 'val_acc'"
     ]
    }
   ],
   "source": [
    "'''\n",
    "#Find the maximum accuracy and its corresponding losses\n",
    "valAccuracy = np.array(history.history['val_acc'])\n",
    "trainAccuracy = np.array(history.history['acc'])\n",
    "valLoss = np.array(history.history['val_loss'])\n",
    "trainLoss = np.array(history.history['loss'])\n",
    "\n",
    "epoch0 = np.where(valAccuracy==max(valAccuracy))\n",
    "print(epoch0)\n",
    "max_val_acc = valAccuracy[epoch0]\n",
    "cor_train_acc = trainAccuracy[epoch0] # Train accuracy corresponding to the max val accuracy\n",
    "cor_val_loss = valLoss[epoch0]\n",
    "cor_train_loss = trainLoss[epoch0]\n",
    "\n",
    "print('epoch for max val acc: ', epoch0)\n",
    "print('max val acc; ', max_val_acc)\n",
    "print('cor_val_loss: ', cor_val_loss)\n",
    "print('cor_train_loss: ', cor_train_loss)\n",
    "print('cor_train_acc: ', cor_train_acc)\n",
    "'''"
   ]
  },
  {
   "cell_type": "code",
   "execution_count": 181,
   "id": "3481f75a",
   "metadata": {},
   "outputs": [
    {
     "name": "stdout",
     "output_type": "stream",
     "text": [
      "4/4 [==============================] - 97s 21s/step - loss: 1.9459 - acc: 0.1488 - top_k_categorical_accuracy: 1.0000 - top1_acc: 1.0000 - top5_acc: 1.0000 - mean_squared_error: 0.1224\n",
      "loss  :  1.9459103345870972\n",
      "acc  :  0.14878049492835999\n",
      "top_k_categorical_accuracy  :  1.0\n",
      "top1_acc  :  1.0\n",
      "top5_acc  :  1.0\n",
      "mean_squared_error  :  0.12244898080825806\n"
     ]
    }
   ],
   "source": [
    "#Evaluate model performance on test dataset\n",
    "results = MblNetV2_model.evaluate(test_generator)\n",
    "for i in range(len(MblNetV2_model.metrics_names)):\n",
    "    print(MblNetV2_model.metrics_names[i], \" : \", results[i])"
   ]
  },
  {
   "cell_type": "markdown",
   "id": "cdffcbfe",
   "metadata": {},
   "source": [
    "## Compute performance metrics, e.g. recall and precision"
   ]
  },
  {
   "cell_type": "code",
   "execution_count": null,
   "id": "ccc84ed0",
   "metadata": {},
   "outputs": [],
   "source": [
    "'''\n",
    "Y_pred = MblNetV2_model.predict(test_generator,\n",
    "        len(os.listdir(test_paper))//batchSize + 1)\n",
    "y_pred = np.argmax(Y_pred, axis=1)\n",
    "res = classification_performance(test_generator.classes, y_pred)\n",
    "print(res.recall)\n",
    "print(res.precision)\n",
    "print(res.f1_score)\n",
    "print(res.accuracy)\n",
    "'''"
   ]
  },
  {
   "cell_type": "markdown",
   "id": "ff008e88",
   "metadata": {},
   "source": [
    "### Use model for prediction and compute the confusion matrix (CM)"
   ]
  },
  {
   "cell_type": "code",
   "execution_count": 182,
   "id": "20fb474d",
   "metadata": {},
   "outputs": [
    {
     "name": "stdout",
     "output_type": "stream",
     "text": [
      "4/4 [==============================] - 94s 20s/step\n",
      "Confusion Matrix\n",
      "[[61  0  0  0  0  0  0]\n",
      " [76  0  0  0  0  0  0]\n",
      " [26  0  0  0  0  0  0]\n",
      " [62  0  0  0  0  0  0]\n",
      " [90  0  0  0  0  0  0]\n",
      " [73  0  0  0  0  0  0]\n",
      " [22  0  0  0  0  0  0]]\n",
      "Classification Report\n",
      "              precision    recall  f1-score   support\n",
      "\n",
      "   cardboard       0.15      1.00      0.26        61\n",
      "       glass       0.00      0.00      0.00        76\n",
      "         ied       0.00      0.00      0.00        26\n",
      "       metal       0.00      0.00      0.00        62\n",
      "       paper       0.00      0.00      0.00        90\n",
      "     plastic       0.00      0.00      0.00        73\n",
      "       trash       0.00      0.00      0.00        22\n",
      "\n",
      "    accuracy                           0.15       410\n",
      "   macro avg       0.02      0.14      0.04       410\n",
      "weighted avg       0.02      0.15      0.04       410\n",
      "\n"
     ]
    },
    {
     "data": {
      "image/png": "[encoded data removed]",
      "text/plain": [
       "<Figure size 640x480 with 2 Axes>"
      ]
     },
     "metadata": {},
     "output_type": "display_data"
    }
   ],
   "source": [
    "Y_pred = MblNetV2_model.predict(test_generator,\n",
    "        len(os.listdir(test_paper))//batchSize + 1)\n",
    "y_pred = np.argmax(Y_pred, axis=1)\n",
    "cm = confusion_matrix(test_generator.classes, y_pred)\n",
    "\n",
    "print('Confusion Matrix')\n",
    "print(cm)\n",
    "\n",
    "print('Classification Report')\n",
    "target_names = target_names\n",
    "print(classification_report(test_generator.classes, y_pred, target_names=target_names))\n",
    "\n",
    "disp = ConfusionMatrixDisplay(confusion_matrix=cm, display_labels=target_names)\n",
    "disp.plot(cmap=plt.cm.Blues)\n",
    "plt.show()\n"
   ]
  },
  {
   "cell_type": "markdown",
   "id": "0fbd3585",
   "metadata": {},
   "source": [
    "## TL 2: Transfer Learning with DenseNet121"
   ]
  },
  {
   "cell_type": "code",
   "execution_count": 159,
   "id": "ae19224b",
   "metadata": {},
   "outputs": [],
   "source": [
    "# Create the pretrained model as the base model\n",
    "base_model_DN121 = tf.keras.applications.DenseNet121(input_shape=(img_height, img_width, 3), \n",
    "                include_top=False, # ideal for feature extraction\n",
    "                weights='imagenet' )\n",
    "\n",
    "base_model_DN121.trainable = False # Prevent the weights of the base model from being updated before compiling & training the model\n"
   ]
  },
  {
   "cell_type": "code",
   "execution_count": 160,
   "id": "8609a08b",
   "metadata": {},
   "outputs": [],
   "source": [
    "##base_model_DN121.summary()"
   ]
  },
  {
   "cell_type": "code",
   "execution_count": 161,
   "id": "0eb49e00",
   "metadata": {},
   "outputs": [],
   "source": [
    "# Add extra layers to the pre-trained base model by function call\n",
    "DN121_model = new_top_layers(base_model_DN121)"
   ]
  },
  {
   "cell_type": "code",
   "execution_count": 162,
   "id": "3dbfd3d0",
   "metadata": {},
   "outputs": [
    {
     "name": "stdout",
     "output_type": "stream",
     "text": [
      "Model: \"sequential_10\"\n",
      "_________________________________________________________________\n",
      " Layer (type)                Output Shape              Param #   \n",
      "=================================================================\n",
      " densenet121 (Functional)    (None, 7, 7, 1024)        7037504   \n",
      "                                                                 \n",
      " flatten_10 (Flatten)        (None, 50176)             0         \n",
      "                                                                 \n",
      " dense_20 (Dense)            (None, 0)                 0         \n",
      "                                                                 \n",
      " activation_379 (Activation  (None, 0)                 0         \n",
      " )                                                               \n",
      "                                                                 \n",
      " dropout_10 (Dropout)        (None, 0)                 0         \n",
      "                                                                 \n",
      " dense_21 (Dense)            (None, 7)                 7         \n",
      "                                                                 \n",
      "=================================================================\n",
      "Total params: 7037511 (26.85 MB)\n",
      "Trainable params: 7 (28.00 Byte)\n",
      "Non-trainable params: 7037504 (26.85 MB)\n",
      "_________________________________________________________________\n"
     ]
    }
   ],
   "source": [
    "# Find the number of parameters\n",
    "DN121_model.summary()"
   ]
  },
  {
   "cell_type": "code",
   "execution_count": 163,
   "id": "857de19b",
   "metadata": {},
   "outputs": [],
   "source": [
    "# Compile the model\n",
    "DN121_model.compile(loss='categorical_crossentropy', optimizer=optimizer, metrics=['acc'])"
   ]
  },
  {
   "cell_type": "code",
   "execution_count": 164,
   "id": "a85eee2f",
   "metadata": {},
   "outputs": [
    {
     "name": "stdout",
     "output_type": "stream",
     "text": [
      "Epoch 1/5\n",
      "3/3 [==============================] - 169s 58s/step - loss: 1.9459 - acc: 0.1676\n",
      "Epoch 2/5\n",
      "3/3 [==============================] - 142s 42s/step - loss: 1.9459 - acc: 0.1953\n",
      "Epoch 3/5\n",
      "3/3 [==============================] - 149s 44s/step - loss: 1.9459 - acc: 0.1667\n",
      "Epoch 4/5\n",
      "3/3 [==============================] - 133s 37s/step - loss: 1.9459 - acc: 0.1734\n",
      "Epoch 5/5\n",
      "3/3 [==============================] - 145s 43s/step - loss: 1.9459 - acc: 0.1354\n",
      "Model training time in minutes is:  13.841937434673309\n"
     ]
    }
   ],
   "source": [
    "#Fit the model to the dataset\n",
    "DN121_st = time.time() # start the clock\n",
    "history = DN121_model.fit(\n",
    "    train_generator,\n",
    "    steps_per_epoch = steps_per_epoch,\n",
    "    epochs = epochs,\n",
    "    #workers = 4,\n",
    "    validation_data = validation_generator,\n",
    "    validation_steps =  validation_steps)\n",
    "\n",
    "DN121_et = time.time()\n",
    "DN121_training_time = (DN121_et - DN121_st)/60\n",
    "print('Model training time in minutes is: ', DN121_training_time)"
   ]
  },
  {
   "cell_type": "code",
   "execution_count": 165,
   "id": "3240da3c",
   "metadata": {},
   "outputs": [
    {
     "ename": "KeyError",
     "evalue": "'val_loss'",
     "output_type": "error",
     "traceback": [
      "\u001b[1;31m---------------------------------------------------------------------------\u001b[0m",
      "\u001b[1;31mKeyError\u001b[0m                                  Traceback (most recent call last)",
      "Cell \u001b[1;32mIn[165], line 3\u001b[0m\n\u001b[0;32m      1\u001b[0m fig1, (ax1,ax2) \u001b[38;5;241m=\u001b[39m plt\u001b[38;5;241m.\u001b[39msubplots(nrows\u001b[38;5;241m=\u001b[39m\u001b[38;5;241m1\u001b[39m,ncols\u001b[38;5;241m=\u001b[39m\u001b[38;5;241m2\u001b[39m)\n\u001b[0;32m      2\u001b[0m ax1\u001b[38;5;241m.\u001b[39mplot(history\u001b[38;5;241m.\u001b[39mhistory[\u001b[38;5;124m'\u001b[39m\u001b[38;5;124mloss\u001b[39m\u001b[38;5;124m'\u001b[39m], \u001b[38;5;124m'\u001b[39m\u001b[38;5;124mbo\u001b[39m\u001b[38;5;124m'\u001b[39m,label\u001b[38;5;241m=\u001b[39m\u001b[38;5;124m'\u001b[39m\u001b[38;5;124mTraining Loss\u001b[39m\u001b[38;5;124m'\u001b[39m)\n\u001b[1;32m----> 3\u001b[0m ax1\u001b[38;5;241m.\u001b[39mplot(\u001b[43mhistory\u001b[49m\u001b[38;5;241;43m.\u001b[39;49m\u001b[43mhistory\u001b[49m\u001b[43m[\u001b[49m\u001b[38;5;124;43m'\u001b[39;49m\u001b[38;5;124;43mval_loss\u001b[39;49m\u001b[38;5;124;43m'\u001b[39;49m\u001b[43m]\u001b[49m, \u001b[38;5;124m'\u001b[39m\u001b[38;5;124m-r\u001b[39m\u001b[38;5;124m'\u001b[39m, label\u001b[38;5;241m=\u001b[39m\u001b[38;5;124m'\u001b[39m\u001b[38;5;124mValidation Loss\u001b[39m\u001b[38;5;124m'\u001b[39m)\n\u001b[0;32m      4\u001b[0m ax1\u001b[38;5;241m.\u001b[39mlegend()\n\u001b[0;32m      5\u001b[0m ax1\u001b[38;5;241m.\u001b[39mset_xlabel(\u001b[38;5;124m'\u001b[39m\u001b[38;5;124mEpoch\u001b[39m\u001b[38;5;124m'\u001b[39m)\n",
      "\u001b[1;31mKeyError\u001b[0m: 'val_loss'"
     ]
    },
    {
     "data": {
      "image/png": "[encoded data removed]",
      "text/plain": [
       "<Figure size 640x480 with 2 Axes>"
      ]
     },
     "metadata": {},
     "output_type": "display_data"
    }
   ],
   "source": [
    "fig1, (ax1,ax2) = plt.subplots(nrows=1,ncols=2)\n",
    "ax1.plot(history.history['loss'], 'bo',label='Training Loss')\n",
    "ax1.plot(history.history['val_loss'], '-r', label='Validation Loss')\n",
    "ax1.legend()\n",
    "ax1.set_xlabel('Epoch')\n",
    "#ax1.set_ylabel('Loss')\n",
    "plt.savefig('LossVal_loss')\n",
    "\n",
    "ax2.plot(history.history['acc'], 'bo',label='Training Accuracy')\n",
    "ax2.plot(history.history['val_acc'], '-r', label='Validation Accuracy')\n",
    "ax2.legend()\n",
    "ax2.set_xlabel('Epoch')\n",
    "#ax2.set_ylabel('Accuracy')\n",
    "plt.show()\n",
    "#plt.savefig('AccVal_acc')"
   ]
  },
  {
   "cell_type": "code",
   "execution_count": null,
   "id": "99569679",
   "metadata": {},
   "outputs": [],
   "source": [
    "'''\n",
    "#Find the maximum accuracy and its corresponding losses\n",
    "valAccuracy = np.array(history.history['val_acc'])\n",
    "trainAccuracy = np.array(history.history['acc'])\n",
    "valLoss = np.array(history.history['val_loss'])\n",
    "trainLoss = np.array(history.history['loss'])\n",
    "\n",
    "epoch0 = np.where(valAccuracy==max(valAccuracy))\n",
    "print(epoch0)\n",
    "max_val_acc = valAccuracy[epoch0]\n",
    "cor_train_acc = trainAccuracy[epoch0] # Train accuracy corresponding to the max val accuracy\n",
    "cor_val_loss = valLoss[epoch0]\n",
    "cor_train_loss = trainLoss[epoch0]\n",
    "\n",
    "print('epoch for max val acc: ', epoch0)\n",
    "print('max val acc; ', max_val_acc)\n",
    "print('cor_val_loss: ', cor_val_loss)\n",
    "print('cor_train_loss: ', cor_train_loss)\n",
    "print('cor_train_acc: ', cor_train_acc)\n",
    "'''"
   ]
  },
  {
   "cell_type": "code",
   "execution_count": 183,
   "id": "f0d7dbc6",
   "metadata": {},
   "outputs": [
    {
     "name": "stdout",
     "output_type": "stream",
     "text": [
      "4/4 [==============================] - 146s 28s/step - loss: 1.9459 - acc: 0.1488\n",
      "loss  :  1.9459103345870972\n",
      "acc  :  0.14878049492835999\n"
     ]
    }
   ],
   "source": [
    "#Evaluate model performance on test dataset\n",
    "results = DN121_model.evaluate(test_generator)\n",
    "for i in range(len(DN121_model.metrics_names)):\n",
    "    print(DN121_model.metrics_names[i], \" : \", results[i])"
   ]
  },
  {
   "cell_type": "code",
   "execution_count": null,
   "id": "de3b0a06",
   "metadata": {},
   "outputs": [],
   "source": [
    "'''\n",
    "Y_pred = DN121_model.predict(test_generator,\n",
    "        len(os.listdir(test_paper))//batchSize + 1)\n",
    "y_pred = np.argmax(Y_pred, axis=1)\n",
    "res = classification_performance(test_generator.classes, y_pred)\n",
    "print(res.recall)\n",
    "print(res.precision)\n",
    "print(res.f1_score)\n",
    "print(res.accuracy)\n",
    "'''"
   ]
  },
  {
   "cell_type": "code",
   "execution_count": null,
   "id": "3d3233a8",
   "metadata": {},
   "outputs": [],
   "source": [
    "Y_pred = DN121_model.predict(test_generator,\n",
    "        len(os.listdir(test_paper))//batchSize + 1)\n",
    "y_pred = np.argmax(Y_pred, axis=1)\n",
    "cm = confusion_matrix(test_generator.classes, y_pred)\n",
    "\n",
    "print('Confusion Matrix')\n",
    "print(cm)\n",
    "\n",
    "print('Classification Report')\n",
    "target_names = target_names\n",
    "print(classification_report(test_generator.classes, y_pred, target_names=target_names))\n",
    "\n",
    "disp = ConfusionMatrixDisplay(confusion_matrix=cm, display_labels=target_names)\n",
    "disp.plot(cmap=plt.cm.Blues)\n",
    "plt.show()"
   ]
  },
  {
   "cell_type": "markdown",
   "id": "0b07256e",
   "metadata": {},
   "source": [
    "## TL 3: Transfer Learning with NASNetMobile"
   ]
  },
  {
   "cell_type": "code",
   "execution_count": 166,
   "id": "c8ebb996",
   "metadata": {},
   "outputs": [],
   "source": [
    "# Create the pretrained model as the base model\n",
    "base_model_NNmobile = tf.keras.applications.NASNetMobile(input_shape=(img_height, img_width, 3), \n",
    "                include_top=False, # ideal for feature extraction\n",
    "                weights='imagenet' )\n",
    "\n",
    "base_model_NNmobile.trainable = False # Prevent the weights of the base model from being updated before compiling & training the model"
   ]
  },
  {
   "cell_type": "code",
   "execution_count": 167,
   "id": "e55035bb",
   "metadata": {},
   "outputs": [
    {
     "data": {
      "text/plain": [
       "'\\nbase_model_NNmobile.summary()\\n'"
      ]
     },
     "execution_count": 167,
     "metadata": {},
     "output_type": "execute_result"
    }
   ],
   "source": [
    "# Number of base model parameters\n",
    "'''\n",
    "base_model_NNmobile.summary()\n",
    "'''"
   ]
  },
  {
   "cell_type": "code",
   "execution_count": 168,
   "id": "0402ca07",
   "metadata": {},
   "outputs": [],
   "source": [
    "# Add extra layers to the pre-trained base model by function call\n",
    "NNMobile_model = new_top_layers(base_model_NNmobile)"
   ]
  },
  {
   "cell_type": "code",
   "execution_count": 169,
   "id": "cc64b7ac",
   "metadata": {},
   "outputs": [
    {
     "name": "stdout",
     "output_type": "stream",
     "text": [
      "Model: \"sequential_11\"\n",
      "_________________________________________________________________\n",
      " Layer (type)                Output Shape              Param #   \n",
      "=================================================================\n",
      " NASNet (Functional)         (None, 7, 7, 1056)        4269716   \n",
      "                                                                 \n",
      " flatten_11 (Flatten)        (None, 51744)             0         \n",
      "                                                                 \n",
      " dense_22 (Dense)            (None, 0)                 0         \n",
      "                                                                 \n",
      " activation_379 (Activation  (None, 0)                 0         \n",
      " )                                                               \n",
      "                                                                 \n",
      " dropout_11 (Dropout)        (None, 0)                 0         \n",
      "                                                                 \n",
      " dense_23 (Dense)            (None, 7)                 7         \n",
      "                                                                 \n",
      "=================================================================\n",
      "Total params: 4269723 (16.29 MB)\n",
      "Trainable params: 7 (28.00 Byte)\n",
      "Non-trainable params: 4269716 (16.29 MB)\n",
      "_________________________________________________________________\n"
     ]
    }
   ],
   "source": [
    "# Find number of model parameters\n",
    "NNMobile_model.summary()"
   ]
  },
  {
   "cell_type": "code",
   "execution_count": 170,
   "id": "35c00cdc",
   "metadata": {},
   "outputs": [],
   "source": [
    "# Compile the model\n",
    "NNMobile_model.compile(loss='categorical_crossentropy', optimizer=optimizer, metrics=metrics)"
   ]
  },
  {
   "cell_type": "code",
   "execution_count": 171,
   "id": "3c63dd6e",
   "metadata": {},
   "outputs": [
    {
     "name": "stdout",
     "output_type": "stream",
     "text": [
      "Epoch 1/5\n",
      "3/3 [==============================] - 191s 45s/step - loss: 1.9459 - acc: 0.1536 - top_k_categorical_accuracy: 1.0000 - top1_acc: 1.0000 - top5_acc: 1.0000 - mean_squared_error: 0.1224\n",
      "Epoch 2/5\n",
      "3/3 [==============================] - 97s 33s/step - loss: 1.9459 - acc: 0.1618 - top_k_categorical_accuracy: 1.0000 - top1_acc: 1.0000 - top5_acc: 1.0000 - mean_squared_error: 0.1224\n",
      "Epoch 3/5\n",
      "3/3 [==============================] - 103s 31s/step - loss: 1.9459 - acc: 0.1432 - top_k_categorical_accuracy: 1.0000 - top1_acc: 1.0000 - top5_acc: 1.0000 - mean_squared_error: 0.1224\n",
      "Epoch 4/5\n",
      "3/3 [==============================] - 105s 32s/step - loss: 1.9459 - acc: 0.1562 - top_k_categorical_accuracy: 1.0000 - top1_acc: 1.0000 - top5_acc: 1.0000 - mean_squared_error: 0.1224\n",
      "Epoch 5/5\n",
      "3/3 [==============================] - 110s 35s/step - loss: 1.9459 - acc: 0.1380 - top_k_categorical_accuracy: 1.0000 - top1_acc: 1.0000 - top5_acc: 1.0000 - mean_squared_error: 0.1224\n",
      "Model training time in secs is:  730.2886219024658\n"
     ]
    }
   ],
   "source": [
    "#Fit the model to the dataset\n",
    "start_time = time.time() # start the clock\n",
    "\n",
    "history = NNMobile_model.fit(\n",
    "    train_generator,\n",
    "    steps_per_epoch = steps_per_epoch,\n",
    "    epochs = epochs,\n",
    "    #workers = 4,\n",
    "    validation_data = validation_generator,\n",
    "    validation_steps =  validation_steps)\n",
    "\n",
    "end_time = time.time()\n",
    "training_time = end_time - start_time\n",
    "print('Model training time in secs is: ', training_time)"
   ]
  },
  {
   "cell_type": "code",
   "execution_count": 172,
   "id": "aad74806",
   "metadata": {},
   "outputs": [
    {
     "ename": "KeyError",
     "evalue": "'val_loss'",
     "output_type": "error",
     "traceback": [
      "\u001b[1;31m---------------------------------------------------------------------------\u001b[0m",
      "\u001b[1;31mKeyError\u001b[0m                                  Traceback (most recent call last)",
      "Cell \u001b[1;32mIn[172], line 3\u001b[0m\n\u001b[0;32m      1\u001b[0m fig1, (ax1,ax2) \u001b[38;5;241m=\u001b[39m plt\u001b[38;5;241m.\u001b[39msubplots(nrows\u001b[38;5;241m=\u001b[39m\u001b[38;5;241m1\u001b[39m,ncols\u001b[38;5;241m=\u001b[39m\u001b[38;5;241m2\u001b[39m)\n\u001b[0;32m      2\u001b[0m ax1\u001b[38;5;241m.\u001b[39mplot(history\u001b[38;5;241m.\u001b[39mhistory[\u001b[38;5;124m'\u001b[39m\u001b[38;5;124mloss\u001b[39m\u001b[38;5;124m'\u001b[39m], \u001b[38;5;124m'\u001b[39m\u001b[38;5;124mbo\u001b[39m\u001b[38;5;124m'\u001b[39m,label\u001b[38;5;241m=\u001b[39m\u001b[38;5;124m'\u001b[39m\u001b[38;5;124mTraining Loss\u001b[39m\u001b[38;5;124m'\u001b[39m)\n\u001b[1;32m----> 3\u001b[0m ax1\u001b[38;5;241m.\u001b[39mplot(\u001b[43mhistory\u001b[49m\u001b[38;5;241;43m.\u001b[39;49m\u001b[43mhistory\u001b[49m\u001b[43m[\u001b[49m\u001b[38;5;124;43m'\u001b[39;49m\u001b[38;5;124;43mval_loss\u001b[39;49m\u001b[38;5;124;43m'\u001b[39;49m\u001b[43m]\u001b[49m, \u001b[38;5;124m'\u001b[39m\u001b[38;5;124m-r\u001b[39m\u001b[38;5;124m'\u001b[39m, label\u001b[38;5;241m=\u001b[39m\u001b[38;5;124m'\u001b[39m\u001b[38;5;124mValidation Loss\u001b[39m\u001b[38;5;124m'\u001b[39m)\n\u001b[0;32m      4\u001b[0m ax1\u001b[38;5;241m.\u001b[39mlegend()\n\u001b[0;32m      5\u001b[0m ax1\u001b[38;5;241m.\u001b[39mset_xlabel(\u001b[38;5;124m'\u001b[39m\u001b[38;5;124mEpoch\u001b[39m\u001b[38;5;124m'\u001b[39m)\n",
      "\u001b[1;31mKeyError\u001b[0m: 'val_loss'"
     ]
    },
    {
     "data": {
      "image/png": "[encoded data removed]",
      "text/plain": [
       "<Figure size 640x480 with 2 Axes>"
      ]
     },
     "metadata": {},
     "output_type": "display_data"
    }
   ],
   "source": [
    "fig1, (ax1,ax2) = plt.subplots(nrows=1,ncols=2)\n",
    "ax1.plot(history.history['loss'], 'bo',label='Training Loss')\n",
    "ax1.plot(history.history['val_loss'], '-r', label='Validation Loss')\n",
    "ax1.legend()\n",
    "ax1.set_xlabel('Epoch')\n",
    "#ax1.set_ylabel('Loss')\n",
    "plt.savefig('LossVal_loss')\n",
    "\n",
    "ax2.plot(history.history['acc'], 'bo',label='Training Accuracy')\n",
    "ax2.plot(history.history['val_acc'], '-r', label='Validation Accuracy')\n",
    "ax2.legend()\n",
    "ax2.set_xlabel('Epoch')\n",
    "#ax2.set_ylabel('Accuracy')\n",
    "plt.show()\n",
    "#plt.savefig('AccVal_acc')"
   ]
  },
  {
   "cell_type": "code",
   "execution_count": null,
   "id": "a6b5b0b9",
   "metadata": {},
   "outputs": [],
   "source": [
    "'''\n",
    "#Find the maximum accuracy and its corresponding losses\n",
    "valAccuracy = np.array(history.history['val_acc'])\n",
    "trainAccuracy = np.array(history.history['acc'])\n",
    "valLoss = np.array(history.history['val_loss'])\n",
    "trainLoss = np.array(history.history['loss'])\n",
    "\n",
    "epoch0 = np.where(valAccuracy==max(valAccuracy))\n",
    "print(epoch0)\n",
    "max_val_acc = valAccuracy[epoch0]\n",
    "cor_train_acc = trainAccuracy[epoch0] # Train accuracy corresponding to the max val accuracy\n",
    "cor_val_loss = valLoss[epoch0]\n",
    "cor_train_loss = trainLoss[epoch0]\n",
    "\n",
    "print('epoch for max val acc: ', epoch0)\n",
    "print('max val acc; ', max_val_acc)\n",
    "print('cor_val_loss: ', cor_val_loss)\n",
    "print('cor_train_loss: ', cor_train_loss)\n",
    "print('cor_train_acc: ', cor_train_acc)\n",
    "'''"
   ]
  },
  {
   "cell_type": "code",
   "execution_count": 184,
   "id": "b25343f2",
   "metadata": {},
   "outputs": [
    {
     "name": "stdout",
     "output_type": "stream",
     "text": [
      "4/4 [==============================] - 112s 21s/step - loss: 1.9459 - acc: 0.1488 - top_k_categorical_accuracy: 1.0000 - top1_acc: 1.0000 - top5_acc: 1.0000 - mean_squared_error: 0.1224\n",
      "loss  :  1.9459103345870972\n",
      "acc  :  0.14878049492835999\n",
      "top_k_categorical_accuracy  :  1.0\n",
      "top1_acc  :  1.0\n",
      "top5_acc  :  1.0\n",
      "mean_squared_error  :  0.12244898080825806\n"
     ]
    }
   ],
   "source": [
    "#Evaluate model performance on test dataset\n",
    "results = NNMobile_model.evaluate(test_generator)\n",
    "for i in range(len(NNMobile_model.metrics_names)):\n",
    "    print(NNMobile_model.metrics_names[i], \" : \", results[i])"
   ]
  },
  {
   "cell_type": "code",
   "execution_count": null,
   "id": "6502e60a",
   "metadata": {},
   "outputs": [],
   "source": [
    "'''\n",
    "Y_pred = NNMobile_model.predict(test_generator,\n",
    "        len(os.listdir(test_paper))//batchSize + 1)\n",
    "y_pred = np.argmax(Y_pred, axis=1)\n",
    "res = classification_performance(test_generator.classes, y_pred)\n",
    "print(res.recall)\n",
    "print(res.precision)\n",
    "print(res.f1_score)\n",
    "print(res.accuracy)\n",
    "'''"
   ]
  },
  {
   "cell_type": "code",
   "execution_count": null,
   "id": "d1435c24",
   "metadata": {},
   "outputs": [],
   "source": [
    "Y_pred = NNMobile_model.predict(test_generator,\n",
    "        len(os.listdir(test_paper))//batchSize + 1)\n",
    "y_pred = np.argmax(Y_pred, axis=1)\n",
    "cm = confusion_matrix(test_generator.classes, y_pred)\n",
    "\n",
    "print('Confusion Matrix')\n",
    "print(cm)\n",
    "\n",
    "print('Classification Report')\n",
    "target_names = target_names\n",
    "print(classification_report(test_generator.classes, y_pred, target_names=target_names))\n",
    "\n",
    "disp = ConfusionMatrixDisplay(confusion_matrix=cm, display_labels=target_names)\n",
    "disp.plot(cmap=plt.cm.Blues)\n",
    "plt.show()"
   ]
  },
  {
   "cell_type": "markdown",
   "id": "c8c96419",
   "metadata": {},
   "source": [
    "## TL 4: Transfer Learning with VGG16-D"
   ]
  },
  {
   "cell_type": "code",
   "execution_count": 173,
   "id": "9951c3b8",
   "metadata": {},
   "outputs": [],
   "source": [
    "# Create the pretrained model as the base model\n",
    "from tensorflow.keras.applications.vgg16 import VGG16\n",
    "base_model_vgg16d = VGG16(input_shape=(img_height, img_width, 3), \n",
    "                include_top=False, # ideal for feature extraction\n",
    "                weights='imagenet' )\n",
    "\n",
    "base_model_vgg16d.trainable = False # Prevent the weights of the base model from being updated before compiling & training the model\n"
   ]
  },
  {
   "cell_type": "code",
   "execution_count": 174,
   "id": "dfaf8c3f",
   "metadata": {},
   "outputs": [
    {
     "data": {
      "text/plain": [
       "'\\nbase_model_vgg16d.summary()\\n'"
      ]
     },
     "execution_count": 174,
     "metadata": {},
     "output_type": "execute_result"
    }
   ],
   "source": [
    "# Find number of base model parameters\n",
    "'''\n",
    "base_model_vgg16d.summary()\n",
    "'''"
   ]
  },
  {
   "cell_type": "code",
   "execution_count": 175,
   "id": "2ed3685c",
   "metadata": {},
   "outputs": [],
   "source": [
    "# Add extra layers to the pre-trained base model by function call\n",
    "vgg16d_model = new_top_layers(base_model_vgg16d)"
   ]
  },
  {
   "cell_type": "code",
   "execution_count": 176,
   "id": "afb178fa",
   "metadata": {},
   "outputs": [
    {
     "name": "stdout",
     "output_type": "stream",
     "text": [
      "Model: \"sequential_12\"\n",
      "_________________________________________________________________\n",
      " Layer (type)                Output Shape              Param #   \n",
      "=================================================================\n",
      " vgg16 (Functional)          (None, 7, 7, 512)         14714688  \n",
      "                                                                 \n",
      " flatten_12 (Flatten)        (None, 25088)             0         \n",
      "                                                                 \n",
      " dense_24 (Dense)            (None, 0)                 0         \n",
      "                                                                 \n",
      " activation_379 (Activation  (None, 0)                 0         \n",
      " )                                                               \n",
      "                                                                 \n",
      " dropout_12 (Dropout)        (None, 0)                 0         \n",
      "                                                                 \n",
      " dense_25 (Dense)            (None, 7)                 7         \n",
      "                                                                 \n",
      "=================================================================\n",
      "Total params: 14714695 (56.13 MB)\n",
      "Trainable params: 7 (28.00 Byte)\n",
      "Non-trainable params: 14714688 (56.13 MB)\n",
      "_________________________________________________________________\n"
     ]
    }
   ],
   "source": [
    "# Find number of model parameters\n",
    "vgg16d_model.summary()"
   ]
  },
  {
   "cell_type": "code",
   "execution_count": 177,
   "id": "7c475869",
   "metadata": {},
   "outputs": [],
   "source": [
    "# Compile the model\n",
    "vgg16d_model.compile(loss='categorical_crossentropy', optimizer=optimizer, metrics=metrics)"
   ]
  },
  {
   "cell_type": "code",
   "execution_count": 178,
   "id": "74ea338b",
   "metadata": {},
   "outputs": [
    {
     "name": "stdout",
     "output_type": "stream",
     "text": [
      "Epoch 1/5\n",
      "3/3 [==============================] - 378s 137s/step - loss: 1.9459 - acc: 0.1763 - top_k_categorical_accuracy: 1.0000 - top1_acc: 1.0000 - top5_acc: 1.0000 - mean_squared_error: 0.1224\n",
      "Epoch 2/5\n",
      "3/3 [==============================] - 422s 126s/step - loss: 1.9459 - acc: 0.1406 - top_k_categorical_accuracy: 1.0000 - top1_acc: 1.0000 - top5_acc: 1.0000 - mean_squared_error: 0.1224\n",
      "Epoch 3/5\n",
      "3/3 [==============================] - 376s 112s/step - loss: 1.9459 - acc: 0.1615 - top_k_categorical_accuracy: 1.0000 - top1_acc: 1.0000 - top5_acc: 1.0000 - mean_squared_error: 0.1224\n",
      "Epoch 4/5\n",
      "3/3 [==============================] - 363s 112s/step - loss: 1.9459 - acc: 0.1719 - top_k_categorical_accuracy: 1.0000 - top1_acc: 1.0000 - top5_acc: 1.0000 - mean_squared_error: 0.1224\n",
      "Epoch 5/5\n",
      "3/3 [==============================] - 361s 128s/step - loss: 1.9459 - acc: 0.1532 - top_k_categorical_accuracy: 1.0000 - top1_acc: 1.0000 - top5_acc: 1.0000 - mean_squared_error: 0.1224\n",
      "Model training time in secs is:  1939.6874794960022\n"
     ]
    }
   ],
   "source": [
    "#Fit the model to the dataset\n",
    "start_time = time.time() # start the clock\n",
    "\n",
    "history = vgg16d_model.fit(\n",
    "    train_generator,\n",
    "    steps_per_epoch = steps_per_epoch,\n",
    "    epochs = epochs,\n",
    "    #workers = 4,\n",
    "    validation_data = validation_generator,\n",
    "    validation_steps = validation_steps)\n",
    "\n",
    "end_time = time.time()\n",
    "training_time = end_time - start_time\n",
    "print('Model training time in secs is: ', training_time)"
   ]
  },
  {
   "cell_type": "code",
   "execution_count": 179,
   "id": "4340b640",
   "metadata": {},
   "outputs": [
    {
     "ename": "KeyError",
     "evalue": "'val_loss'",
     "output_type": "error",
     "traceback": [
      "\u001b[1;31m---------------------------------------------------------------------------\u001b[0m",
      "\u001b[1;31mKeyError\u001b[0m                                  Traceback (most recent call last)",
      "Cell \u001b[1;32mIn[179], line 3\u001b[0m\n\u001b[0;32m      1\u001b[0m fig1, (ax1,ax2) \u001b[38;5;241m=\u001b[39m plt\u001b[38;5;241m.\u001b[39msubplots(nrows\u001b[38;5;241m=\u001b[39m\u001b[38;5;241m1\u001b[39m,ncols\u001b[38;5;241m=\u001b[39m\u001b[38;5;241m2\u001b[39m)\n\u001b[0;32m      2\u001b[0m ax1\u001b[38;5;241m.\u001b[39mplot(history\u001b[38;5;241m.\u001b[39mhistory[\u001b[38;5;124m'\u001b[39m\u001b[38;5;124mloss\u001b[39m\u001b[38;5;124m'\u001b[39m], \u001b[38;5;124m'\u001b[39m\u001b[38;5;124mbo\u001b[39m\u001b[38;5;124m'\u001b[39m,label\u001b[38;5;241m=\u001b[39m\u001b[38;5;124m'\u001b[39m\u001b[38;5;124mTraining Loss\u001b[39m\u001b[38;5;124m'\u001b[39m)\n\u001b[1;32m----> 3\u001b[0m ax1\u001b[38;5;241m.\u001b[39mplot(\u001b[43mhistory\u001b[49m\u001b[38;5;241;43m.\u001b[39;49m\u001b[43mhistory\u001b[49m\u001b[43m[\u001b[49m\u001b[38;5;124;43m'\u001b[39;49m\u001b[38;5;124;43mval_loss\u001b[39;49m\u001b[38;5;124;43m'\u001b[39;49m\u001b[43m]\u001b[49m, \u001b[38;5;124m'\u001b[39m\u001b[38;5;124m-r\u001b[39m\u001b[38;5;124m'\u001b[39m, label\u001b[38;5;241m=\u001b[39m\u001b[38;5;124m'\u001b[39m\u001b[38;5;124mValidation Loss\u001b[39m\u001b[38;5;124m'\u001b[39m)\n\u001b[0;32m      4\u001b[0m ax1\u001b[38;5;241m.\u001b[39mlegend()\n\u001b[0;32m      5\u001b[0m ax1\u001b[38;5;241m.\u001b[39mset_xlabel(\u001b[38;5;124m'\u001b[39m\u001b[38;5;124mEpoch\u001b[39m\u001b[38;5;124m'\u001b[39m)\n",
      "\u001b[1;31mKeyError\u001b[0m: 'val_loss'"
     ]
    },
    {
     "data": {
      "image/png": "[encoded data removed]",
      "text/plain": [
       "<Figure size 640x480 with 2 Axes>"
      ]
     },
     "metadata": {},
     "output_type": "display_data"
    }
   ],
   "source": [
    "fig1, (ax1,ax2) = plt.subplots(nrows=1,ncols=2)\n",
    "ax1.plot(history.history['loss'], 'bo',label='Training Loss')\n",
    "ax1.plot(history.history['val_loss'], '-r', label='Validation Loss')\n",
    "ax1.legend()\n",
    "ax1.set_xlabel('Epoch')\n",
    "#ax1.set_ylabel('Loss')\n",
    "plt.savefig('LossVal_loss')\n",
    "\n",
    "ax2.plot(history.history['acc'], 'bo',label='Training Accuracy')\n",
    "ax2.plot(history.history['val_acc'], '-r', label='Validation Accuracy')\n",
    "ax2.legend()\n",
    "ax2.set_xlabel('Epoch')\n",
    "#ax2.set_ylabel('Accuracy')\n",
    "plt.show()\n",
    "#plt.savefig('AccVal_acc')"
   ]
  },
  {
   "cell_type": "code",
   "execution_count": null,
   "id": "949ec62a",
   "metadata": {},
   "outputs": [],
   "source": [
    "'''\n",
    "#Find the maximum accuracy and its corresponding losses\n",
    "valAccuracy = np.array(history.history['val_acc'])\n",
    "trainAccuracy = np.array(history.history['acc'])\n",
    "valLoss = np.array(history.history['val_loss'])\n",
    "trainLoss = np.array(history.history['loss'])\n",
    "\n",
    "epoch0 = np.where(valAccuracy==max(valAccuracy))\n",
    "print(epoch0)\n",
    "max_val_acc = valAccuracy[epoch0]\n",
    "cor_train_acc = trainAccuracy[epoch0] # Train accuracy corresponding to the max val accuracy\n",
    "cor_val_loss = valLoss[epoch0]\n",
    "cor_train_loss = trainLoss[epoch0]\n",
    "\n",
    "print('epoch for max val acc: ', epoch0)\n",
    "print('max val acc; ', max_val_acc)\n",
    "print('cor_val_loss: ', cor_val_loss)\n",
    "print('cor_train_loss: ', cor_train_loss)\n",
    "print('cor_train_acc: ', cor_train_acc)\n",
    "'''"
   ]
  },
  {
   "cell_type": "code",
   "execution_count": 185,
   "id": "d2151d38",
   "metadata": {},
   "outputs": [
    {
     "name": "stdout",
     "output_type": "stream",
     "text": [
      "4/4 [==============================] - 410s 87s/step - loss: 1.9459 - acc: 0.1488 - top_k_categorical_accuracy: 1.0000 - top1_acc: 1.0000 - top5_acc: 1.0000 - mean_squared_error: 0.1224\n",
      "loss  :  1.9459103345870972\n",
      "acc  :  0.14878049492835999\n",
      "top_k_categorical_accuracy  :  1.0\n",
      "top1_acc  :  1.0\n",
      "top5_acc  :  1.0\n",
      "mean_squared_error  :  0.12244898080825806\n"
     ]
    }
   ],
   "source": [
    "#Evaluate model performance on test dataset\n",
    "results = vgg16d_model.evaluate(test_generator)\n",
    "for i in range(len(vgg16d_model.metrics_names)):\n",
    "    print(vgg16d_model.metrics_names[i], \" : \", results[i])"
   ]
  },
  {
   "cell_type": "code",
   "execution_count": null,
   "id": "7776afb0",
   "metadata": {},
   "outputs": [],
   "source": [
    "'''\n",
    "Y_pred = vgg16d_model.predict(test_generator,\n",
    "        len(os.listdir(test_paper))//batchSize + 1)\n",
    "y_pred = np.argmax(Y_pred, axis=1)\n",
    "res = classification_performance(test_generator.classes, y_pred)\n",
    "print(res.recall)\n",
    "print(res.precision)\n",
    "print(res.f1_score)\n",
    "print(res.accuracy)\n",
    "'''"
   ]
  },
  {
   "cell_type": "code",
   "execution_count": null,
   "id": "c63524e7",
   "metadata": {},
   "outputs": [],
   "source": [
    "Y_pred = vgg16d_model.predict(test_generator,\n",
    "        len(os.listdir(test_paper))//batchSize + 1)\n",
    "y_pred = np.argmax(Y_pred, axis=1)\n",
    "cm = confusion_matrix(test_generator.classes, y_pred)\n",
    "\n",
    "print('Confusion Matrix')\n",
    "print(cm)\n",
    "\n",
    "print('Classification Report')\n",
    "target_names = target_names\n",
    "print(classification_report(test_generator.classes, y_pred, target_names=target_names))\n",
    "\n",
    "disp = ConfusionMatrixDisplay(confusion_matrix=cm, display_labels=target_names)\n",
    "disp.plot(cmap=plt.cm.Blues)\n",
    "plt.show()"
   ]
  }
 ],
 "metadata": {
  "kernelspec": {
   "display_name": "Python 3 (ipykernel)",
   "language": "python",
   "name": "python3"
  },
  "language_info": {
   "codemirror_mode": {
    "name": "ipython",
    "version": 3
   },
   "file_extension": ".py",
   "mimetype": "text/x-python",
   "name": "python",
   "nbconvert_exporter": "python",
   "pygments_lexer": "ipython3",
   "version": "3.10.9"
  }
 },
 "nbformat": 4,
 "nbformat_minor": 5
}
