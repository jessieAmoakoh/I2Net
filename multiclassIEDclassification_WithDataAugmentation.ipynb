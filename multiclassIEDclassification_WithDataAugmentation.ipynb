{
 "cells": [
  {
   "cell_type": "markdown",
   "id": "c2ea0eb2",
   "metadata": {},
   "source": [
    "# Import needed libraries"
   ]
  },
  {
   "cell_type": "code",
   "execution_count": 1,
   "id": "09a86578",
   "metadata": {},
   "outputs": [],
   "source": [
    "##pip install Augmentor "
   ]
  },
  {
   "cell_type": "code",
   "execution_count": 2,
   "id": "d2f21405",
   "metadata": {},
   "outputs": [],
   "source": [
    "##pip install tensorflow"
   ]
  },
  {
   "cell_type": "code",
   "execution_count": 3,
   "id": "cdb87ef9",
   "metadata": {},
   "outputs": [
    {
     "data": {
      "text/plain": [
       "'\\nfrom glob import glob\\n'"
      ]
     },
     "execution_count": 3,
     "metadata": {},
     "output_type": "execute_result"
    }
   ],
   "source": [
    "import time # used to measure model training time\n",
    "exp_start_time = time.time()\n",
    "import numpy as np, pandas as pd\n",
    "import matplotlib.pyplot as plt, seaborn as sns\n",
    "import os\n",
    "from skimage import io\n",
    "from PIL import Image\n",
    "from pathlib import Path\n",
    "import Augmentor\n",
    "\n",
    "from sklearn.metrics import confusion_matrix, classification_report, \\\n",
    "        ConfusionMatrixDisplay, accuracy_score, precision_score, recall_score, roc_auc_score\n",
    "import warnings\n",
    "warnings.filterwarnings('ignore')\n",
    "\n",
    "import tensorflow as tf\n",
    "import keras\n",
    "from keras.preprocessing.image import ImageDataGenerator\n",
    "from keras.preprocessing import image\n",
    "from tensorflow.keras import applications\n",
    "from keras import optimizers, layers, models\n",
    "from tensorflow.keras.models import Sequential, load_model, Model\n",
    "from tensorflow.keras.layers import Conv2D, MaxPooling2D, GlobalAveragePooling2D, \\\n",
    "    Flatten, Dense, Dropout, Input, Lambda, LeakyReLU, PReLU, Activation\n",
    "# import cv2\n",
    "'''\n",
    "from glob import glob\n",
    "'''"
   ]
  },
  {
   "cell_type": "markdown",
   "id": "53c98e88",
   "metadata": {},
   "source": [
    "## Load Images into workspace and preprocess"
   ]
  },
  {
   "cell_type": "code",
   "execution_count": 4,
   "id": "ef9bf413",
   "metadata": {},
   "outputs": [],
   "source": [
    "# Read datasets from local directories as train/val/test sets\n",
    "train_dir = r'C:\\Amoakoh\\dataset\\multiclassDatasetAugmented\\train'\n",
    "val_dir = r'C:\\Amoakoh\\dataset\\multiclassDatasetAugmented\\val'\n",
    "test_dir = r'C:\\Amoakoh\\dataset\\multiclassDatasetAugmented\\test'\n",
    "\n",
    "train_paper = r'C:\\Amoakoh\\dataset\\multiclassDatasetAugmented\\train\\paper'\n",
    "val_paper = r'C:\\Amoakoh\\dataset\\multiclassDatasetAugmented\\val\\paper'\n",
    "test_paper = r'C:\\Amoakoh\\dataset\\multiclassDatasetAugmented\\test\\paper'"
   ]
  },
  {
   "cell_type": "markdown",
   "id": "919378b1",
   "metadata": {},
   "source": [
    "## Set general model hyperparameters"
   ]
  },
  {
   "cell_type": "code",
   "execution_count": 5,
   "id": "6acf6486",
   "metadata": {},
   "outputs": [],
   "source": [
    "img_height = 224\n",
    "img_width = 224\n",
    "num_channels = 3 # 3 for RGB images but 1 for grayscale images\n",
    "batchSize = 32 #32, 64, 128\n",
    "epochs = 11 #18\n",
    "N = 64  # number of neurons in first layer of top layer\n",
    "dropout_rate = 0  # 0.5 < dropout rate range < 0.8, 0 rate means no dropout\n",
    "dropout_seed = 200 # optional parameter\n",
    "\n",
    "pool_size =(2, 2) \n",
    "pool_strides =(2, 2)\n",
    "kernel_size =(3, 3) \n",
    "conv2D_strides =(1, 1)\n",
    "\n",
    "target_names = ['cardboard', 'glass','ied', 'metal','paper', 'plastic','trash']\n",
    "\n",
    "steps_per_epoch = len(os.listdir(train_paper))//batchSize # terminates an epoch\n",
    "validation_steps =  len(os.listdir(val_paper))//batchSize\n",
    "\n",
    "kInitializer = tf.keras.initializers.TruncatedNormal(mean=0.0, stddev=0.1, seed=60) # kernel initializer\n",
    "bInitializer = tf.keras.initializers.TruncatedNormal(mean=0.3, stddev=0.1, seed=60) # bias initializer\n",
    "\n",
    "import functools\n",
    "#SS = tf.keras.metrics.SpecificityAtSensitivity()\n",
    "#recall = tf.keras.metrics.Recall()\n",
    "#accuracy = tf.keras.metrics.Accuracy()\n",
    "mse = tf.keras.metrics.MeanSquaredError(name='mean_squared_error', dtype=None)\n",
    "top1_acc = functools.partial(keras.metrics.top_k_categorical_accuracy, k=1)\n",
    "top5_acc = functools.partial(keras.metrics.top_k_categorical_accuracy, k=5)\n",
    "top1_acc.__name__ = 'top1_acc'\n",
    "top5_acc.__name__ = 'top5_acc'\n",
    "metrics=['acc','top_k_categorical_accuracy',top1_acc, top5_acc, mse] #, recall, accuracy]"
   ]
  },
  {
   "cell_type": "markdown",
   "id": "f2095088",
   "metadata": {},
   "source": [
    "## Define the optimizer for the training"
   ]
  },
  {
   "cell_type": "code",
   "execution_count": 6,
   "id": "7880fe7c",
   "metadata": {},
   "outputs": [
    {
     "data": {
      "text/plain": [
       "'\\noptimizer = optimizers.Adam(learning_rate=0.001, beta_1=0.9, beta_2=0.999, epsilon=1e-07)\\n'"
      ]
     },
     "execution_count": 6,
     "metadata": {},
     "output_type": "execute_result"
    }
   ],
   "source": [
    "# define the optimization algorithm or optimizer\n",
    "\n",
    "##optimizer = optimizers.SGD(learning_rate=0.05, momentum=0.9, clipvalue=1.0, nesterov=True)\n",
    "optimizer = optimizers.legacy.SGD(learning_rate=0.05, momentum=0.9, clipvalue=1.0, nesterov=True)\n",
    "'''\n",
    "optimizer = optimizers.Adam(learning_rate=0.001, beta_1=0.9, beta_2=0.999, epsilon=1e-07)\n",
    "'''"
   ]
  },
  {
   "cell_type": "markdown",
   "id": "f2f475b4",
   "metadata": {},
   "source": [
    "## Define activation functions"
   ]
  },
  {
   "cell_type": "code",
   "execution_count": 7,
   "id": "793d44fa",
   "metadata": {},
   "outputs": [
    {
     "data": {
      "text/plain": [
       "'\\nactivation_function = layers.LeakyReLU(alpha=0.008)\\n\\nactivation_function = layers.PReLU()\\n'"
      ]
     },
     "execution_count": 7,
     "metadata": {},
     "output_type": "execute_result"
    }
   ],
   "source": [
    "\n",
    "activation_function = Activation('relu')\n",
    "'''\n",
    "activation_function = layers.LeakyReLU(alpha=0.008)\n",
    "\n",
    "activation_function = layers.PReLU()\n",
    "'''"
   ]
  },
  {
   "cell_type": "markdown",
   "id": "99d52554",
   "metadata": {},
   "source": [
    "## Define functions for data standardization"
   ]
  },
  {
   "cell_type": "code",
   "execution_count": 8,
   "id": "ee300152",
   "metadata": {},
   "outputs": [],
   "source": [
    "def read_pil_image(img_path, img_height, img_width):\n",
    "        with open(img_path, 'rb') as f:\n",
    "            return np.array(Image.open(f).convert('RGB').resize((img_width, img_height)))\n",
    "\n",
    "def load_all_images(dataset_path, img_height, img_width, img_ext='jpg'):\n",
    "    return np.array([read_pil_image(str(p), img_height, img_width) for p in \n",
    "                                    Path(dataset_path).rglob(\"*.\"+img_ext)]) "
   ]
  },
  {
   "cell_type": "markdown",
   "id": "7568c784",
   "metadata": {},
   "source": [
    "### Perform standardization and normalization of non-augmented dataset"
   ]
  },
  {
   "cell_type": "code",
   "execution_count": 9,
   "id": "6cf1cd33",
   "metadata": {},
   "outputs": [],
   "source": [
    "## Create the image data generator to standardize the images\n",
    "datagen = ImageDataGenerator(\n",
    "    rescale = 1./255, # dataset standardization i.e. rescale all images from (0,255) to (0,1)\n",
    "    featurewise_center=True, # zero-centering\n",
    "    featurewise_std_normalization=True, # unit variance\n",
    "    ) "
   ]
  },
  {
   "cell_type": "code",
   "execution_count": 10,
   "id": "a63b8368",
   "metadata": {},
   "outputs": [],
   "source": [
    "# Compute statistics (i.e. mean and standard deviation) of train set\n",
    "datagen.fit(load_all_images(train_dir, img_height, img_width))"
   ]
  },
  {
   "cell_type": "code",
   "execution_count": 11,
   "id": "33a95dec",
   "metadata": {},
   "outputs": [
    {
     "name": "stdout",
     "output_type": "stream",
     "text": [
      "Found 2114 images belonging to 7 classes.\n",
      "Found 401 images belonging to 7 classes.\n",
      "Found 410 images belonging to 7 classes.\n"
     ]
    }
   ],
   "source": [
    "train_generator = datagen.flow_from_directory(\n",
    "    train_dir,\n",
    "    target_size = (img_height, img_width),\n",
    "    batch_size = batchSize,\n",
    "    class_mode = \"categorical\")\n",
    "\n",
    "validation_generator = datagen.flow_from_directory(\n",
    "    val_dir,\n",
    "    target_size = (img_height, img_width),\n",
    "    batch_size = batchSize,\n",
    "    class_mode = \"categorical\")\n",
    "\n",
    "test_generator = datagen.flow_from_directory(\n",
    "    test_dir,\n",
    "    target_size = (img_height, img_width),\n",
    "    batch_size = batchSize,\n",
    "    class_mode = \"categorical\")"
   ]
  },
  {
   "cell_type": "code",
   "execution_count": 12,
   "id": "22c35603",
   "metadata": {},
   "outputs": [
    {
     "data": {
      "text/plain": [
       "\"\\nfor data_batch, labels_batch in train_generator:\\n    #print('Train labels: ', labels_batch)\\n    print('Data batch shape: ', data_batch.shape)\\n    print('Labels batch shape: ', labels_batch.shape)\\n    \\nfor data_batch, labels_batch in validation_generator:\\n    print('Data batch shape: ', data_batch.shape)\\n    print('Labels batch shape: ', labels_batch.shape)\\n    \\nfor data_batch, labels_batch in test_generator:\\n    print('Data batch shape: ', data_batch.shape)\\n    print('Labels batch shape: ', labels_batch.shape)\\n\""
      ]
     },
     "execution_count": 12,
     "metadata": {},
     "output_type": "execute_result"
    }
   ],
   "source": [
    "# Let's examine the outputs of the generators. A generator is an object that acts like an iterator\n",
    "'''\n",
    "for data_batch, labels_batch in train_generator:\n",
    "    #print('Train labels: ', labels_batch)\n",
    "    print('Data batch shape: ', data_batch.shape)\n",
    "    print('Labels batch shape: ', labels_batch.shape)\n",
    "    \n",
    "for data_batch, labels_batch in validation_generator:\n",
    "    print('Data batch shape: ', data_batch.shape)\n",
    "    print('Labels batch shape: ', labels_batch.shape)\n",
    "    \n",
    "for data_batch, labels_batch in test_generator:\n",
    "    print('Data batch shape: ', data_batch.shape)\n",
    "    print('Labels batch shape: ', labels_batch.shape)\n",
    "'''"
   ]
  },
  {
   "cell_type": "markdown",
   "id": "69f56c1c",
   "metadata": {},
   "source": [
    "## Function to compute the classification performance"
   ]
  },
  {
   "cell_type": "code",
   "execution_count": 13,
   "id": "10721a67",
   "metadata": {},
   "outputs": [],
   "source": [
    "def classification_performance(y_test, y_pred):\n",
    "    #tp, fp, fn, tn = confusion_matrix(y_test, y_pred).ravel()\n",
    "    accuracy = round(accuracy_score(y_true = y_test, y_pred = y_pred, normalize=True, sample_weight=None),2)\n",
    "    precision = round(precision_score(y_true = y_test, y_pred = y_pred, average='weighted'),2)\n",
    "    recall = round(recall_score(y_true = y_test, y_pred = y_pred, average='weighted'),2)\n",
    "    f1_score = round(2*precision*recall/(precision + recall),2)    \n",
    "    auc_roc = round(roc_auc_score(y_score = y_pred, y_true = y_test),2)\n",
    "\n",
    "    result = pd.DataFrame({'Accuracy' : [accuracy],\n",
    "                         'Precision (or PPV)' : [precision],\n",
    "                         'Recall (senitivity or TPR)' : [recall],\n",
    "                         'f1 score' : [f1_score],\n",
    "                         'AUC_ROC' : [auc_roc],\n",
    "                         })\n",
    "    return result"
   ]
  },
  {
   "cell_type": "markdown",
   "id": "a1d711c8",
   "metadata": {},
   "source": [
    "## Define a function for the top layer in transfer learning"
   ]
  },
  {
   "cell_type": "code",
   "execution_count": 14,
   "id": "58c416e1",
   "metadata": {},
   "outputs": [],
   "source": [
    "def new_top_layers(input_model):\n",
    "    output_model = Sequential()\n",
    "    output_model.add(input_model)\n",
    "    output_model.add(Flatten())\n",
    "    output_model.add(Dense(N,  # number of neurons in first layer of top layer\n",
    "        use_bias=True,\n",
    "        kernel_initializer=kInitializer,\n",
    "        bias_initializer=bInitializer,\n",
    "        kernel_regularizer=None,\n",
    "        bias_regularizer=None,\n",
    "        activity_regularizer=None,\n",
    "        kernel_constraint=None,\n",
    "        bias_constraint=None))\n",
    "    output_model.add(activation_function)\n",
    "    output_model.add(layers.Dropout(rate=dropout_rate, seed=dropout_seed)) # add dropout to mimize overfitting\n",
    "    \n",
    "    output_model.add(Dense(7, # layer has only 7 neurons for seven classes\n",
    "        use_bias=True,\n",
    "        kernel_initializer=kInitializer,\n",
    "        bias_initializer=bInitializer,\n",
    "        kernel_regularizer=None,\n",
    "        bias_regularizer=None,\n",
    "        activity_regularizer=None,\n",
    "        kernel_constraint=None,\n",
    "        bias_constraint=None, \n",
    "        activation='softmax')) \n",
    "    return output_model"
   ]
  },
  {
   "cell_type": "markdown",
   "id": "c07bfec6",
   "metadata": {},
   "source": [
    "## TL 1: Transfer Learning with MobileNetV2"
   ]
  },
  {
   "cell_type": "code",
   "execution_count": 15,
   "id": "1485188c",
   "metadata": {},
   "outputs": [],
   "source": [
    "# Create the pretrained model as the base model\n",
    "from keras.applications.mobilenet_v2 import MobileNetV2 # import the pre-trained model\n",
    "\n",
    "base_model_MblNetV2 = MobileNetV2(input_shape=(img_height, img_width, 3), \n",
    "                include_top=False, # ideal for feature extraction\n",
    "                weights='imagenet' )\n",
    "\n",
    "base_model_MblNetV2.trainable = False # Prevent the weights of the base model from being updated before compiling & training the model"
   ]
  },
  {
   "cell_type": "code",
   "execution_count": 16,
   "id": "a0b86189",
   "metadata": {},
   "outputs": [
    {
     "name": "stdout",
     "output_type": "stream",
     "text": [
      "Model: \"mobilenetv2_1.00_224\"\n",
      "__________________________________________________________________________________________________\n",
      " Layer (type)                Output Shape                 Param #   Connected to                  \n",
      "==================================================================================================\n",
      " input_1 (InputLayer)        [(None, 224, 224, 3)]        0         []                            \n",
      "                                                                                                  \n",
      " Conv1 (Conv2D)              (None, 112, 112, 32)         864       ['input_1[0][0]']             \n",
      "                                                                                                  \n",
      " bn_Conv1 (BatchNormalizati  (None, 112, 112, 32)         128       ['Conv1[0][0]']               \n",
      " on)                                                                                              \n",
      "                                                                                                  \n",
      " Conv1_relu (ReLU)           (None, 112, 112, 32)         0         ['bn_Conv1[0][0]']            \n",
      "                                                                                                  \n",
      " expanded_conv_depthwise (D  (None, 112, 112, 32)         288       ['Conv1_relu[0][0]']          \n",
      " epthwiseConv2D)                                                                                  \n",
      "                                                                                                  \n",
      " expanded_conv_depthwise_BN  (None, 112, 112, 32)         128       ['expanded_conv_depthwise[0][0\n",
      "  (BatchNormalization)                                              ]']                           \n",
      "                                                                                                  \n",
      " expanded_conv_depthwise_re  (None, 112, 112, 32)         0         ['expanded_conv_depthwise_BN[0\n",
      " lu (ReLU)                                                          ][0]']                        \n",
      "                                                                                                  \n",
      " expanded_conv_project (Con  (None, 112, 112, 16)         512       ['expanded_conv_depthwise_relu\n",
      " v2D)                                                               [0][0]']                      \n",
      "                                                                                                  \n",
      " expanded_conv_project_BN (  (None, 112, 112, 16)         64        ['expanded_conv_project[0][0]'\n",
      " BatchNormalization)                                                ]                             \n",
      "                                                                                                  \n",
      " block_1_expand (Conv2D)     (None, 112, 112, 96)         1536      ['expanded_conv_project_BN[0][\n",
      "                                                                    0]']                          \n",
      "                                                                                                  \n",
      " block_1_expand_BN (BatchNo  (None, 112, 112, 96)         384       ['block_1_expand[0][0]']      \n",
      " rmalization)                                                                                     \n",
      "                                                                                                  \n",
      " block_1_expand_relu (ReLU)  (None, 112, 112, 96)         0         ['block_1_expand_BN[0][0]']   \n",
      "                                                                                                  \n",
      " block_1_pad (ZeroPadding2D  (None, 113, 113, 96)         0         ['block_1_expand_relu[0][0]'] \n",
      " )                                                                                                \n",
      "                                                                                                  \n",
      " block_1_depthwise (Depthwi  (None, 56, 56, 96)           864       ['block_1_pad[0][0]']         \n",
      " seConv2D)                                                                                        \n",
      "                                                                                                  \n",
      " block_1_depthwise_BN (Batc  (None, 56, 56, 96)           384       ['block_1_depthwise[0][0]']   \n",
      " hNormalization)                                                                                  \n",
      "                                                                                                  \n",
      " block_1_depthwise_relu (Re  (None, 56, 56, 96)           0         ['block_1_depthwise_BN[0][0]']\n",
      " LU)                                                                                              \n",
      "                                                                                                  \n",
      " block_1_project (Conv2D)    (None, 56, 56, 24)           2304      ['block_1_depthwise_relu[0][0]\n",
      "                                                                    ']                            \n",
      "                                                                                                  \n",
      " block_1_project_BN (BatchN  (None, 56, 56, 24)           96        ['block_1_project[0][0]']     \n",
      " ormalization)                                                                                    \n",
      "                                                                                                  \n",
      " block_2_expand (Conv2D)     (None, 56, 56, 144)          3456      ['block_1_project_BN[0][0]']  \n",
      "                                                                                                  \n",
      " block_2_expand_BN (BatchNo  (None, 56, 56, 144)          576       ['block_2_expand[0][0]']      \n",
      " rmalization)                                                                                     \n",
      "                                                                                                  \n",
      " block_2_expand_relu (ReLU)  (None, 56, 56, 144)          0         ['block_2_expand_BN[0][0]']   \n",
      "                                                                                                  \n",
      " block_2_depthwise (Depthwi  (None, 56, 56, 144)          1296      ['block_2_expand_relu[0][0]'] \n",
      " seConv2D)                                                                                        \n",
      "                                                                                                  \n",
      " block_2_depthwise_BN (Batc  (None, 56, 56, 144)          576       ['block_2_depthwise[0][0]']   \n",
      " hNormalization)                                                                                  \n",
      "                                                                                                  \n",
      " block_2_depthwise_relu (Re  (None, 56, 56, 144)          0         ['block_2_depthwise_BN[0][0]']\n",
      " LU)                                                                                              \n",
      "                                                                                                  \n",
      " block_2_project (Conv2D)    (None, 56, 56, 24)           3456      ['block_2_depthwise_relu[0][0]\n",
      "                                                                    ']                            \n",
      "                                                                                                  \n",
      " block_2_project_BN (BatchN  (None, 56, 56, 24)           96        ['block_2_project[0][0]']     \n",
      " ormalization)                                                                                    \n",
      "                                                                                                  \n",
      " block_2_add (Add)           (None, 56, 56, 24)           0         ['block_1_project_BN[0][0]',  \n",
      "                                                                     'block_2_project_BN[0][0]']  \n",
      "                                                                                                  \n",
      " block_3_expand (Conv2D)     (None, 56, 56, 144)          3456      ['block_2_add[0][0]']         \n",
      "                                                                                                  \n",
      " block_3_expand_BN (BatchNo  (None, 56, 56, 144)          576       ['block_3_expand[0][0]']      \n",
      " rmalization)                                                                                     \n",
      "                                                                                                  \n",
      " block_3_expand_relu (ReLU)  (None, 56, 56, 144)          0         ['block_3_expand_BN[0][0]']   \n",
      "                                                                                                  \n",
      " block_3_pad (ZeroPadding2D  (None, 57, 57, 144)          0         ['block_3_expand_relu[0][0]'] \n",
      " )                                                                                                \n",
      "                                                                                                  \n",
      " block_3_depthwise (Depthwi  (None, 28, 28, 144)          1296      ['block_3_pad[0][0]']         \n",
      " seConv2D)                                                                                        \n",
      "                                                                                                  \n",
      " block_3_depthwise_BN (Batc  (None, 28, 28, 144)          576       ['block_3_depthwise[0][0]']   \n",
      " hNormalization)                                                                                  \n",
      "                                                                                                  \n",
      " block_3_depthwise_relu (Re  (None, 28, 28, 144)          0         ['block_3_depthwise_BN[0][0]']\n",
      " LU)                                                                                              \n",
      "                                                                                                  \n",
      " block_3_project (Conv2D)    (None, 28, 28, 32)           4608      ['block_3_depthwise_relu[0][0]\n",
      "                                                                    ']                            \n",
      "                                                                                                  \n",
      " block_3_project_BN (BatchN  (None, 28, 28, 32)           128       ['block_3_project[0][0]']     \n",
      " ormalization)                                                                                    \n",
      "                                                                                                  \n",
      " block_4_expand (Conv2D)     (None, 28, 28, 192)          6144      ['block_3_project_BN[0][0]']  \n",
      "                                                                                                  \n",
      " block_4_expand_BN (BatchNo  (None, 28, 28, 192)          768       ['block_4_expand[0][0]']      \n",
      " rmalization)                                                                                     \n",
      "                                                                                                  \n",
      " block_4_expand_relu (ReLU)  (None, 28, 28, 192)          0         ['block_4_expand_BN[0][0]']   \n",
      "                                                                                                  \n",
      " block_4_depthwise (Depthwi  (None, 28, 28, 192)          1728      ['block_4_expand_relu[0][0]'] \n",
      " seConv2D)                                                                                        \n",
      "                                                                                                  \n",
      " block_4_depthwise_BN (Batc  (None, 28, 28, 192)          768       ['block_4_depthwise[0][0]']   \n",
      " hNormalization)                                                                                  \n",
      "                                                                                                  \n",
      " block_4_depthwise_relu (Re  (None, 28, 28, 192)          0         ['block_4_depthwise_BN[0][0]']\n",
      " LU)                                                                                              \n",
      "                                                                                                  \n",
      " block_4_project (Conv2D)    (None, 28, 28, 32)           6144      ['block_4_depthwise_relu[0][0]\n",
      "                                                                    ']                            \n",
      "                                                                                                  \n",
      " block_4_project_BN (BatchN  (None, 28, 28, 32)           128       ['block_4_project[0][0]']     \n",
      " ormalization)                                                                                    \n",
      "                                                                                                  \n",
      " block_4_add (Add)           (None, 28, 28, 32)           0         ['block_3_project_BN[0][0]',  \n",
      "                                                                     'block_4_project_BN[0][0]']  \n",
      "                                                                                                  \n",
      " block_5_expand (Conv2D)     (None, 28, 28, 192)          6144      ['block_4_add[0][0]']         \n",
      "                                                                                                  \n",
      " block_5_expand_BN (BatchNo  (None, 28, 28, 192)          768       ['block_5_expand[0][0]']      \n",
      " rmalization)                                                                                     \n",
      "                                                                                                  \n",
      " block_5_expand_relu (ReLU)  (None, 28, 28, 192)          0         ['block_5_expand_BN[0][0]']   \n",
      "                                                                                                  \n",
      " block_5_depthwise (Depthwi  (None, 28, 28, 192)          1728      ['block_5_expand_relu[0][0]'] \n",
      " seConv2D)                                                                                        \n",
      "                                                                                                  \n",
      " block_5_depthwise_BN (Batc  (None, 28, 28, 192)          768       ['block_5_depthwise[0][0]']   \n",
      " hNormalization)                                                                                  \n",
      "                                                                                                  \n",
      " block_5_depthwise_relu (Re  (None, 28, 28, 192)          0         ['block_5_depthwise_BN[0][0]']\n",
      " LU)                                                                                              \n",
      "                                                                                                  \n",
      " block_5_project (Conv2D)    (None, 28, 28, 32)           6144      ['block_5_depthwise_relu[0][0]\n",
      "                                                                    ']                            \n",
      "                                                                                                  \n",
      " block_5_project_BN (BatchN  (None, 28, 28, 32)           128       ['block_5_project[0][0]']     \n",
      " ormalization)                                                                                    \n",
      "                                                                                                  \n",
      " block_5_add (Add)           (None, 28, 28, 32)           0         ['block_4_add[0][0]',         \n",
      "                                                                     'block_5_project_BN[0][0]']  \n",
      "                                                                                                  \n",
      " block_6_expand (Conv2D)     (None, 28, 28, 192)          6144      ['block_5_add[0][0]']         \n",
      "                                                                                                  \n",
      " block_6_expand_BN (BatchNo  (None, 28, 28, 192)          768       ['block_6_expand[0][0]']      \n",
      " rmalization)                                                                                     \n",
      "                                                                                                  \n",
      " block_6_expand_relu (ReLU)  (None, 28, 28, 192)          0         ['block_6_expand_BN[0][0]']   \n",
      "                                                                                                  \n",
      " block_6_pad (ZeroPadding2D  (None, 29, 29, 192)          0         ['block_6_expand_relu[0][0]'] \n",
      " )                                                                                                \n",
      "                                                                                                  \n",
      " block_6_depthwise (Depthwi  (None, 14, 14, 192)          1728      ['block_6_pad[0][0]']         \n",
      " seConv2D)                                                                                        \n",
      "                                                                                                  \n",
      " block_6_depthwise_BN (Batc  (None, 14, 14, 192)          768       ['block_6_depthwise[0][0]']   \n",
      " hNormalization)                                                                                  \n",
      "                                                                                                  \n",
      " block_6_depthwise_relu (Re  (None, 14, 14, 192)          0         ['block_6_depthwise_BN[0][0]']\n",
      " LU)                                                                                              \n",
      "                                                                                                  \n",
      " block_6_project (Conv2D)    (None, 14, 14, 64)           12288     ['block_6_depthwise_relu[0][0]\n",
      "                                                                    ']                            \n",
      "                                                                                                  \n",
      " block_6_project_BN (BatchN  (None, 14, 14, 64)           256       ['block_6_project[0][0]']     \n",
      " ormalization)                                                                                    \n",
      "                                                                                                  \n",
      " block_7_expand (Conv2D)     (None, 14, 14, 384)          24576     ['block_6_project_BN[0][0]']  \n",
      "                                                                                                  \n",
      " block_7_expand_BN (BatchNo  (None, 14, 14, 384)          1536      ['block_7_expand[0][0]']      \n",
      " rmalization)                                                                                     \n",
      "                                                                                                  \n",
      " block_7_expand_relu (ReLU)  (None, 14, 14, 384)          0         ['block_7_expand_BN[0][0]']   \n",
      "                                                                                                  \n",
      " block_7_depthwise (Depthwi  (None, 14, 14, 384)          3456      ['block_7_expand_relu[0][0]'] \n",
      " seConv2D)                                                                                        \n",
      "                                                                                                  \n",
      " block_7_depthwise_BN (Batc  (None, 14, 14, 384)          1536      ['block_7_depthwise[0][0]']   \n",
      " hNormalization)                                                                                  \n",
      "                                                                                                  \n",
      " block_7_depthwise_relu (Re  (None, 14, 14, 384)          0         ['block_7_depthwise_BN[0][0]']\n",
      " LU)                                                                                              \n",
      "                                                                                                  \n",
      " block_7_project (Conv2D)    (None, 14, 14, 64)           24576     ['block_7_depthwise_relu[0][0]\n",
      "                                                                    ']                            \n",
      "                                                                                                  \n",
      " block_7_project_BN (BatchN  (None, 14, 14, 64)           256       ['block_7_project[0][0]']     \n",
      " ormalization)                                                                                    \n",
      "                                                                                                  \n",
      " block_7_add (Add)           (None, 14, 14, 64)           0         ['block_6_project_BN[0][0]',  \n",
      "                                                                     'block_7_project_BN[0][0]']  \n",
      "                                                                                                  \n",
      " block_8_expand (Conv2D)     (None, 14, 14, 384)          24576     ['block_7_add[0][0]']         \n",
      "                                                                                                  \n",
      " block_8_expand_BN (BatchNo  (None, 14, 14, 384)          1536      ['block_8_expand[0][0]']      \n",
      " rmalization)                                                                                     \n",
      "                                                                                                  \n",
      " block_8_expand_relu (ReLU)  (None, 14, 14, 384)          0         ['block_8_expand_BN[0][0]']   \n",
      "                                                                                                  \n",
      " block_8_depthwise (Depthwi  (None, 14, 14, 384)          3456      ['block_8_expand_relu[0][0]'] \n",
      " seConv2D)                                                                                        \n",
      "                                                                                                  \n",
      " block_8_depthwise_BN (Batc  (None, 14, 14, 384)          1536      ['block_8_depthwise[0][0]']   \n",
      " hNormalization)                                                                                  \n",
      "                                                                                                  \n",
      " block_8_depthwise_relu (Re  (None, 14, 14, 384)          0         ['block_8_depthwise_BN[0][0]']\n",
      " LU)                                                                                              \n",
      "                                                                                                  \n",
      " block_8_project (Conv2D)    (None, 14, 14, 64)           24576     ['block_8_depthwise_relu[0][0]\n",
      "                                                                    ']                            \n",
      "                                                                                                  \n",
      " block_8_project_BN (BatchN  (None, 14, 14, 64)           256       ['block_8_project[0][0]']     \n",
      " ormalization)                                                                                    \n",
      "                                                                                                  \n",
      " block_8_add (Add)           (None, 14, 14, 64)           0         ['block_7_add[0][0]',         \n",
      "                                                                     'block_8_project_BN[0][0]']  \n",
      "                                                                                                  \n",
      " block_9_expand (Conv2D)     (None, 14, 14, 384)          24576     ['block_8_add[0][0]']         \n",
      "                                                                                                  \n",
      " block_9_expand_BN (BatchNo  (None, 14, 14, 384)          1536      ['block_9_expand[0][0]']      \n",
      " rmalization)                                                                                     \n",
      "                                                                                                  \n",
      " block_9_expand_relu (ReLU)  (None, 14, 14, 384)          0         ['block_9_expand_BN[0][0]']   \n",
      "                                                                                                  \n",
      " block_9_depthwise (Depthwi  (None, 14, 14, 384)          3456      ['block_9_expand_relu[0][0]'] \n",
      " seConv2D)                                                                                        \n",
      "                                                                                                  \n",
      " block_9_depthwise_BN (Batc  (None, 14, 14, 384)          1536      ['block_9_depthwise[0][0]']   \n",
      " hNormalization)                                                                                  \n",
      "                                                                                                  \n",
      " block_9_depthwise_relu (Re  (None, 14, 14, 384)          0         ['block_9_depthwise_BN[0][0]']\n",
      " LU)                                                                                              \n",
      "                                                                                                  \n",
      " block_9_project (Conv2D)    (None, 14, 14, 64)           24576     ['block_9_depthwise_relu[0][0]\n",
      "                                                                    ']                            \n",
      "                                                                                                  \n",
      " block_9_project_BN (BatchN  (None, 14, 14, 64)           256       ['block_9_project[0][0]']     \n",
      " ormalization)                                                                                    \n",
      "                                                                                                  \n",
      " block_9_add (Add)           (None, 14, 14, 64)           0         ['block_8_add[0][0]',         \n",
      "                                                                     'block_9_project_BN[0][0]']  \n",
      "                                                                                                  \n",
      " block_10_expand (Conv2D)    (None, 14, 14, 384)          24576     ['block_9_add[0][0]']         \n",
      "                                                                                                  \n",
      " block_10_expand_BN (BatchN  (None, 14, 14, 384)          1536      ['block_10_expand[0][0]']     \n",
      " ormalization)                                                                                    \n",
      "                                                                                                  \n",
      " block_10_expand_relu (ReLU  (None, 14, 14, 384)          0         ['block_10_expand_BN[0][0]']  \n",
      " )                                                                                                \n",
      "                                                                                                  \n",
      " block_10_depthwise (Depthw  (None, 14, 14, 384)          3456      ['block_10_expand_relu[0][0]']\n",
      " iseConv2D)                                                                                       \n",
      "                                                                                                  \n",
      " block_10_depthwise_BN (Bat  (None, 14, 14, 384)          1536      ['block_10_depthwise[0][0]']  \n",
      " chNormalization)                                                                                 \n",
      "                                                                                                  \n",
      " block_10_depthwise_relu (R  (None, 14, 14, 384)          0         ['block_10_depthwise_BN[0][0]'\n",
      " eLU)                                                               ]                             \n",
      "                                                                                                  \n",
      " block_10_project (Conv2D)   (None, 14, 14, 96)           36864     ['block_10_depthwise_relu[0][0\n",
      "                                                                    ]']                           \n",
      "                                                                                                  \n",
      " block_10_project_BN (Batch  (None, 14, 14, 96)           384       ['block_10_project[0][0]']    \n",
      " Normalization)                                                                                   \n",
      "                                                                                                  \n",
      " block_11_expand (Conv2D)    (None, 14, 14, 576)          55296     ['block_10_project_BN[0][0]'] \n",
      "                                                                                                  \n",
      " block_11_expand_BN (BatchN  (None, 14, 14, 576)          2304      ['block_11_expand[0][0]']     \n",
      " ormalization)                                                                                    \n",
      "                                                                                                  \n",
      " block_11_expand_relu (ReLU  (None, 14, 14, 576)          0         ['block_11_expand_BN[0][0]']  \n",
      " )                                                                                                \n",
      "                                                                                                  \n",
      " block_11_depthwise (Depthw  (None, 14, 14, 576)          5184      ['block_11_expand_relu[0][0]']\n",
      " iseConv2D)                                                                                       \n",
      "                                                                                                  \n",
      " block_11_depthwise_BN (Bat  (None, 14, 14, 576)          2304      ['block_11_depthwise[0][0]']  \n",
      " chNormalization)                                                                                 \n",
      "                                                                                                  \n",
      " block_11_depthwise_relu (R  (None, 14, 14, 576)          0         ['block_11_depthwise_BN[0][0]'\n",
      " eLU)                                                               ]                             \n",
      "                                                                                                  \n",
      " block_11_project (Conv2D)   (None, 14, 14, 96)           55296     ['block_11_depthwise_relu[0][0\n",
      "                                                                    ]']                           \n",
      "                                                                                                  \n",
      " block_11_project_BN (Batch  (None, 14, 14, 96)           384       ['block_11_project[0][0]']    \n",
      " Normalization)                                                                                   \n",
      "                                                                                                  \n",
      " block_11_add (Add)          (None, 14, 14, 96)           0         ['block_10_project_BN[0][0]', \n",
      "                                                                     'block_11_project_BN[0][0]'] \n",
      "                                                                                                  \n",
      " block_12_expand (Conv2D)    (None, 14, 14, 576)          55296     ['block_11_add[0][0]']        \n",
      "                                                                                                  \n",
      " block_12_expand_BN (BatchN  (None, 14, 14, 576)          2304      ['block_12_expand[0][0]']     \n",
      " ormalization)                                                                                    \n",
      "                                                                                                  \n",
      " block_12_expand_relu (ReLU  (None, 14, 14, 576)          0         ['block_12_expand_BN[0][0]']  \n",
      " )                                                                                                \n",
      "                                                                                                  \n",
      " block_12_depthwise (Depthw  (None, 14, 14, 576)          5184      ['block_12_expand_relu[0][0]']\n",
      " iseConv2D)                                                                                       \n",
      "                                                                                                  \n",
      " block_12_depthwise_BN (Bat  (None, 14, 14, 576)          2304      ['block_12_depthwise[0][0]']  \n",
      " chNormalization)                                                                                 \n",
      "                                                                                                  \n",
      " block_12_depthwise_relu (R  (None, 14, 14, 576)          0         ['block_12_depthwise_BN[0][0]'\n",
      " eLU)                                                               ]                             \n",
      "                                                                                                  \n",
      " block_12_project (Conv2D)   (None, 14, 14, 96)           55296     ['block_12_depthwise_relu[0][0\n",
      "                                                                    ]']                           \n",
      "                                                                                                  \n",
      " block_12_project_BN (Batch  (None, 14, 14, 96)           384       ['block_12_project[0][0]']    \n",
      " Normalization)                                                                                   \n",
      "                                                                                                  \n",
      " block_12_add (Add)          (None, 14, 14, 96)           0         ['block_11_add[0][0]',        \n",
      "                                                                     'block_12_project_BN[0][0]'] \n",
      "                                                                                                  \n",
      " block_13_expand (Conv2D)    (None, 14, 14, 576)          55296     ['block_12_add[0][0]']        \n",
      "                                                                                                  \n",
      " block_13_expand_BN (BatchN  (None, 14, 14, 576)          2304      ['block_13_expand[0][0]']     \n",
      " ormalization)                                                                                    \n",
      "                                                                                                  \n",
      " block_13_expand_relu (ReLU  (None, 14, 14, 576)          0         ['block_13_expand_BN[0][0]']  \n",
      " )                                                                                                \n",
      "                                                                                                  \n",
      " block_13_pad (ZeroPadding2  (None, 15, 15, 576)          0         ['block_13_expand_relu[0][0]']\n",
      " D)                                                                                               \n",
      "                                                                                                  \n",
      " block_13_depthwise (Depthw  (None, 7, 7, 576)            5184      ['block_13_pad[0][0]']        \n",
      " iseConv2D)                                                                                       \n",
      "                                                                                                  \n",
      " block_13_depthwise_BN (Bat  (None, 7, 7, 576)            2304      ['block_13_depthwise[0][0]']  \n",
      " chNormalization)                                                                                 \n",
      "                                                                                                  \n",
      " block_13_depthwise_relu (R  (None, 7, 7, 576)            0         ['block_13_depthwise_BN[0][0]'\n",
      " eLU)                                                               ]                             \n",
      "                                                                                                  \n",
      " block_13_project (Conv2D)   (None, 7, 7, 160)            92160     ['block_13_depthwise_relu[0][0\n",
      "                                                                    ]']                           \n",
      "                                                                                                  \n",
      " block_13_project_BN (Batch  (None, 7, 7, 160)            640       ['block_13_project[0][0]']    \n",
      " Normalization)                                                                                   \n",
      "                                                                                                  \n",
      " block_14_expand (Conv2D)    (None, 7, 7, 960)            153600    ['block_13_project_BN[0][0]'] \n",
      "                                                                                                  \n",
      " block_14_expand_BN (BatchN  (None, 7, 7, 960)            3840      ['block_14_expand[0][0]']     \n",
      " ormalization)                                                                                    \n",
      "                                                                                                  \n",
      " block_14_expand_relu (ReLU  (None, 7, 7, 960)            0         ['block_14_expand_BN[0][0]']  \n",
      " )                                                                                                \n",
      "                                                                                                  \n",
      " block_14_depthwise (Depthw  (None, 7, 7, 960)            8640      ['block_14_expand_relu[0][0]']\n",
      " iseConv2D)                                                                                       \n",
      "                                                                                                  \n",
      " block_14_depthwise_BN (Bat  (None, 7, 7, 960)            3840      ['block_14_depthwise[0][0]']  \n",
      " chNormalization)                                                                                 \n",
      "                                                                                                  \n",
      " block_14_depthwise_relu (R  (None, 7, 7, 960)            0         ['block_14_depthwise_BN[0][0]'\n",
      " eLU)                                                               ]                             \n",
      "                                                                                                  \n",
      " block_14_project (Conv2D)   (None, 7, 7, 160)            153600    ['block_14_depthwise_relu[0][0\n",
      "                                                                    ]']                           \n",
      "                                                                                                  \n",
      " block_14_project_BN (Batch  (None, 7, 7, 160)            640       ['block_14_project[0][0]']    \n",
      " Normalization)                                                                                   \n",
      "                                                                                                  \n",
      " block_14_add (Add)          (None, 7, 7, 160)            0         ['block_13_project_BN[0][0]', \n",
      "                                                                     'block_14_project_BN[0][0]'] \n",
      "                                                                                                  \n",
      " block_15_expand (Conv2D)    (None, 7, 7, 960)            153600    ['block_14_add[0][0]']        \n",
      "                                                                                                  \n",
      " block_15_expand_BN (BatchN  (None, 7, 7, 960)            3840      ['block_15_expand[0][0]']     \n",
      " ormalization)                                                                                    \n",
      "                                                                                                  \n",
      " block_15_expand_relu (ReLU  (None, 7, 7, 960)            0         ['block_15_expand_BN[0][0]']  \n",
      " )                                                                                                \n",
      "                                                                                                  \n",
      " block_15_depthwise (Depthw  (None, 7, 7, 960)            8640      ['block_15_expand_relu[0][0]']\n",
      " iseConv2D)                                                                                       \n",
      "                                                                                                  \n",
      " block_15_depthwise_BN (Bat  (None, 7, 7, 960)            3840      ['block_15_depthwise[0][0]']  \n",
      " chNormalization)                                                                                 \n",
      "                                                                                                  \n",
      " block_15_depthwise_relu (R  (None, 7, 7, 960)            0         ['block_15_depthwise_BN[0][0]'\n",
      " eLU)                                                               ]                             \n",
      "                                                                                                  \n",
      " block_15_project (Conv2D)   (None, 7, 7, 160)            153600    ['block_15_depthwise_relu[0][0\n",
      "                                                                    ]']                           \n",
      "                                                                                                  \n",
      " block_15_project_BN (Batch  (None, 7, 7, 160)            640       ['block_15_project[0][0]']    \n",
      " Normalization)                                                                                   \n",
      "                                                                                                  \n",
      " block_15_add (Add)          (None, 7, 7, 160)            0         ['block_14_add[0][0]',        \n",
      "                                                                     'block_15_project_BN[0][0]'] \n",
      "                                                                                                  \n",
      " block_16_expand (Conv2D)    (None, 7, 7, 960)            153600    ['block_15_add[0][0]']        \n",
      "                                                                                                  \n",
      " block_16_expand_BN (BatchN  (None, 7, 7, 960)            3840      ['block_16_expand[0][0]']     \n",
      " ormalization)                                                                                    \n",
      "                                                                                                  \n",
      " block_16_expand_relu (ReLU  (None, 7, 7, 960)            0         ['block_16_expand_BN[0][0]']  \n",
      " )                                                                                                \n",
      "                                                                                                  \n",
      " block_16_depthwise (Depthw  (None, 7, 7, 960)            8640      ['block_16_expand_relu[0][0]']\n",
      " iseConv2D)                                                                                       \n",
      "                                                                                                  \n",
      " block_16_depthwise_BN (Bat  (None, 7, 7, 960)            3840      ['block_16_depthwise[0][0]']  \n",
      " chNormalization)                                                                                 \n",
      "                                                                                                  \n",
      " block_16_depthwise_relu (R  (None, 7, 7, 960)            0         ['block_16_depthwise_BN[0][0]'\n",
      " eLU)                                                               ]                             \n",
      "                                                                                                  \n",
      " block_16_project (Conv2D)   (None, 7, 7, 320)            307200    ['block_16_depthwise_relu[0][0\n",
      "                                                                    ]']                           \n",
      "                                                                                                  \n",
      " block_16_project_BN (Batch  (None, 7, 7, 320)            1280      ['block_16_project[0][0]']    \n",
      " Normalization)                                                                                   \n",
      "                                                                                                  \n",
      " Conv_1 (Conv2D)             (None, 7, 7, 1280)           409600    ['block_16_project_BN[0][0]'] \n",
      "                                                                                                  \n",
      " Conv_1_bn (BatchNormalizat  (None, 7, 7, 1280)           5120      ['Conv_1[0][0]']              \n",
      " ion)                                                                                             \n",
      "                                                                                                  \n",
      " out_relu (ReLU)             (None, 7, 7, 1280)           0         ['Conv_1_bn[0][0]']           \n",
      "                                                                                                  \n",
      "==================================================================================================\n",
      "Total params: 2257984 (8.61 MB)\n",
      "Trainable params: 0 (0.00 Byte)\n",
      "Non-trainable params: 2257984 (8.61 MB)\n",
      "__________________________________________________________________________________________________\n"
     ]
    }
   ],
   "source": [
    "# Find number of model parameters\n",
    "base_model_MblNetV2.summary()"
   ]
  },
  {
   "cell_type": "code",
   "execution_count": 17,
   "id": "51793e1a",
   "metadata": {},
   "outputs": [],
   "source": [
    "# Add extra layers to the pre-trained base model by function call\n",
    "MblNetV2_model = new_top_layers(base_model_MblNetV2)"
   ]
  },
  {
   "cell_type": "code",
   "execution_count": 18,
   "id": "b989fff9",
   "metadata": {},
   "outputs": [
    {
     "name": "stdout",
     "output_type": "stream",
     "text": [
      "Model: \"sequential\"\n",
      "_________________________________________________________________\n",
      " Layer (type)                Output Shape              Param #   \n",
      "=================================================================\n",
      " mobilenetv2_1.00_224 (Func  (None, 7, 7, 1280)        2257984   \n",
      " tional)                                                         \n",
      "                                                                 \n",
      " flatten (Flatten)           (None, 62720)             0         \n",
      "                                                                 \n",
      " dense (Dense)               (None, 64)                4014144   \n",
      "                                                                 \n",
      " activation (Activation)     (None, 64)                0         \n",
      "                                                                 \n",
      " dropout (Dropout)           (None, 64)                0         \n",
      "                                                                 \n",
      " dense_1 (Dense)             (None, 7)                 455       \n",
      "                                                                 \n",
      "=================================================================\n",
      "Total params: 6272583 (23.93 MB)\n",
      "Trainable params: 4014599 (15.31 MB)\n",
      "Non-trainable params: 2257984 (8.61 MB)\n",
      "_________________________________________________________________\n"
     ]
    }
   ],
   "source": [
    "# Number of model parameters\n",
    "MblNetV2_model.summary()"
   ]
  },
  {
   "cell_type": "code",
   "execution_count": 19,
   "id": "7df524af",
   "metadata": {},
   "outputs": [],
   "source": [
    "# Compile the model\n",
    "MblNetV2_model.compile(loss='categorical_crossentropy', optimizer=optimizer, metrics=metrics)"
   ]
  },
  {
   "cell_type": "code",
   "execution_count": 20,
   "id": "2bbb1bd1",
   "metadata": {},
   "outputs": [
    {
     "name": "stdout",
     "output_type": "stream",
     "text": [
      "Epoch 1/11\n",
      "12/12 [==============================] - 121s 10s/step - loss: 14.8623 - acc: 0.1484 - top_k_categorical_accuracy: 0.7396 - top1_acc: 0.1484 - top5_acc: 0.7396 - mean_squared_error: 0.1537 - val_loss: 1.9386 - val_acc: 0.2500 - val_top_k_categorical_accuracy: 0.7500 - val_top1_acc: 0.2500 - val_top5_acc: 0.7500 - val_mean_squared_error: 0.1222\n",
      "Epoch 2/11\n",
      "12/12 [==============================] - 116s 10s/step - loss: 1.9518 - acc: 0.1875 - top_k_categorical_accuracy: 0.8021 - top1_acc: 0.1875 - top5_acc: 0.8021 - mean_squared_error: 0.1210 - val_loss: 1.9051 - val_acc: 0.0469 - val_top_k_categorical_accuracy: 0.8125 - val_top1_acc: 0.0469 - val_top5_acc: 0.8125 - val_mean_squared_error: 0.1212\n",
      "Epoch 3/11\n",
      "12/12 [==============================] - 117s 10s/step - loss: 1.8889 - acc: 0.1719 - top_k_categorical_accuracy: 0.8203 - top1_acc: 0.1719 - top5_acc: 0.8203 - mean_squared_error: 0.1206 - val_loss: 1.9241 - val_acc: 0.1875 - val_top_k_categorical_accuracy: 0.8438 - val_top1_acc: 0.1875 - val_top5_acc: 0.8438 - val_mean_squared_error: 0.1221\n",
      "Epoch 4/11\n",
      "12/12 [==============================] - 116s 10s/step - loss: 1.9407 - acc: 0.1641 - top_k_categorical_accuracy: 0.7865 - top1_acc: 0.1641 - top5_acc: 0.7865 - mean_squared_error: 0.1215 - val_loss: 1.8488 - val_acc: 0.2344 - val_top_k_categorical_accuracy: 0.8750 - val_top1_acc: 0.2344 - val_top5_acc: 0.8750 - val_mean_squared_error: 0.1193\n",
      "Epoch 5/11\n",
      "12/12 [==============================] - 155s 13s/step - loss: 1.8972 - acc: 0.1849 - top_k_categorical_accuracy: 0.8151 - top1_acc: 0.1849 - top5_acc: 0.8151 - mean_squared_error: 0.1206 - val_loss: 1.8610 - val_acc: 0.2969 - val_top_k_categorical_accuracy: 0.8125 - val_top1_acc: 0.2969 - val_top5_acc: 0.8125 - val_mean_squared_error: 0.1195\n",
      "Epoch 6/11\n",
      "12/12 [==============================] - 145s 12s/step - loss: 1.8978 - acc: 0.1510 - top_k_categorical_accuracy: 0.7839 - top1_acc: 0.1510 - top5_acc: 0.7839 - mean_squared_error: 0.1208 - val_loss: 1.8773 - val_acc: 0.2656 - val_top_k_categorical_accuracy: 0.7969 - val_top1_acc: 0.2656 - val_top5_acc: 0.7969 - val_mean_squared_error: 0.1203\n",
      "Epoch 7/11\n",
      "12/12 [==============================] - 190s 16s/step - loss: 1.8715 - acc: 0.1927 - top_k_categorical_accuracy: 0.8333 - top1_acc: 0.1927 - top5_acc: 0.8333 - mean_squared_error: 0.1195 - val_loss: 1.8520 - val_acc: 0.2500 - val_top_k_categorical_accuracy: 0.8438 - val_top1_acc: 0.2500 - val_top5_acc: 0.8438 - val_mean_squared_error: 0.1195\n",
      "Epoch 8/11\n",
      "12/12 [==============================] - 184s 16s/step - loss: 1.8809 - acc: 0.2034 - top_k_categorical_accuracy: 0.8475 - top1_acc: 0.2034 - top5_acc: 0.8475 - mean_squared_error: 0.1200 - val_loss: 1.9180 - val_acc: 0.2188 - val_top_k_categorical_accuracy: 0.7812 - val_top1_acc: 0.2188 - val_top5_acc: 0.7812 - val_mean_squared_error: 0.1214\n",
      "Epoch 9/11\n",
      "12/12 [==============================] - 180s 15s/step - loss: 1.8992 - acc: 0.1328 - top_k_categorical_accuracy: 0.8047 - top1_acc: 0.1328 - top5_acc: 0.8047 - mean_squared_error: 0.1210 - val_loss: 1.8592 - val_acc: 0.2031 - val_top_k_categorical_accuracy: 0.8125 - val_top1_acc: 0.2031 - val_top5_acc: 0.8125 - val_mean_squared_error: 0.1201\n",
      "Epoch 10/11\n",
      "12/12 [==============================] - 124s 10s/step - loss: 1.8718 - acc: 0.1875 - top_k_categorical_accuracy: 0.8438 - top1_acc: 0.1875 - top5_acc: 0.8438 - mean_squared_error: 0.1200 - val_loss: 1.9159 - val_acc: 0.1250 - val_top_k_categorical_accuracy: 0.7344 - val_top1_acc: 0.1250 - val_top5_acc: 0.7344 - val_mean_squared_error: 0.1217\n",
      "Epoch 11/11\n",
      "12/12 [==============================] - 115s 10s/step - loss: 1.9233 - acc: 0.2214 - top_k_categorical_accuracy: 0.8229 - top1_acc: 0.2214 - top5_acc: 0.8229 - mean_squared_error: 0.1206 - val_loss: 1.8838 - val_acc: 0.2031 - val_top_k_categorical_accuracy: 0.8438 - val_top1_acc: 0.2031 - val_top5_acc: 0.8438 - val_mean_squared_error: 0.1206\n",
      "Model training time in seconds:  1569.264093875885\n"
     ]
    }
   ],
   "source": [
    "#Fit the model to the dataset\n",
    "MNv2_st = time.time()\n",
    "history = MblNetV2_model.fit(\n",
    "    train_generator,\n",
    "    steps_per_epoch = steps_per_epoch,\n",
    "    epochs = epochs,\n",
    "    #workers = 4,\n",
    "    validation_data = validation_generator,\n",
    "    validation_steps = validation_steps)\n",
    "MNv2_et = time.time()\n",
    "MNv2_training_time = MNv2_et - MNv2_st\n",
    "print('Model training time in seconds: ', MNv2_training_time)"
   ]
  },
  {
   "cell_type": "markdown",
   "id": "2e3b0e21",
   "metadata": {},
   "source": [
    "### Evaluate results"
   ]
  },
  {
   "cell_type": "code",
   "execution_count": 21,
   "id": "a1a7a101",
   "metadata": {},
   "outputs": [
    {
     "data": {
      "image/png": "[encoded data removed]",
      "text/plain": [
       "<Figure size 640x480 with 2 Axes>"
      ]
     },
     "metadata": {},
     "output_type": "display_data"
    }
   ],
   "source": [
    "fig1, (ax1,ax2) = plt.subplots(nrows=1,ncols=2)\n",
    "ax1.plot(history.history['loss'], 'bo',label='Training Loss')\n",
    "ax1.plot(history.history['val_loss'], '-r', label='Validation Loss')\n",
    "ax1.legend()\n",
    "ax1.set_xlabel('Epoch')\n",
    "#ax1.set_ylabel('Loss')\n",
    "##plt.savefig('LossVal_loss')\n",
    "\n",
    "ax2.plot(history.history['acc'], 'bo',label='Training Accuracy')\n",
    "ax2.plot(history.history['val_acc'], '-r', label='Validation Accuracy')\n",
    "ax2.legend()\n",
    "ax2.set_xlabel('Epoch')\n",
    "#ax2.set_ylabel('Accuracy')\n",
    "plt.show()"
   ]
  },
  {
   "cell_type": "code",
   "execution_count": 22,
   "id": "d273e94f",
   "metadata": {},
   "outputs": [
    {
     "data": {
      "text/plain": [
       "\"\\n#Find the maximum accuracy and its corresponding losses\\nvalAccuracy = np.array(history.history['val_acc'])\\ntrainAccuracy = np.array(history.history['acc'])\\nvalLoss = np.array(history.history['val_loss'])\\ntrainLoss = np.array(history.history['loss'])\\n\\nepoch0 = np.where(valAccuracy==max(valAccuracy))\\nprint(epoch0)\\nmax_val_acc = valAccuracy[epoch0]\\ncor_train_acc = trainAccuracy[epoch0] # Train accuracy corresponding to the max val accuracy\\ncor_val_loss = valLoss[epoch0]\\ncor_train_loss = trainLoss[epoch0]\\n\\nprint('epoch for max val acc: ', epoch0)\\nprint('max val acc; ', max_val_acc)\\nprint('cor_val_loss: ', cor_val_loss)\\nprint('cor_train_loss: ', cor_train_loss)\\nprint('cor_train_acc: ', cor_train_acc)\\n\""
      ]
     },
     "execution_count": 22,
     "metadata": {},
     "output_type": "execute_result"
    }
   ],
   "source": [
    "'''\n",
    "#Find the maximum accuracy and its corresponding losses\n",
    "valAccuracy = np.array(history.history['val_acc'])\n",
    "trainAccuracy = np.array(history.history['acc'])\n",
    "valLoss = np.array(history.history['val_loss'])\n",
    "trainLoss = np.array(history.history['loss'])\n",
    "\n",
    "epoch0 = np.where(valAccuracy==max(valAccuracy))\n",
    "print(epoch0)\n",
    "max_val_acc = valAccuracy[epoch0]\n",
    "cor_train_acc = trainAccuracy[epoch0] # Train accuracy corresponding to the max val accuracy\n",
    "cor_val_loss = valLoss[epoch0]\n",
    "cor_train_loss = trainLoss[epoch0]\n",
    "\n",
    "print('epoch for max val acc: ', epoch0)\n",
    "print('max val acc; ', max_val_acc)\n",
    "print('cor_val_loss: ', cor_val_loss)\n",
    "print('cor_train_loss: ', cor_train_loss)\n",
    "print('cor_train_acc: ', cor_train_acc)\n",
    "'''"
   ]
  },
  {
   "cell_type": "code",
   "execution_count": 23,
   "id": "3481f75a",
   "metadata": {},
   "outputs": [
    {
     "name": "stdout",
     "output_type": "stream",
     "text": [
      "13/13 [==============================] - 98s 7s/step - loss: 1.8924 - acc: 0.2195 - top_k_categorical_accuracy: 0.7951 - top1_acc: 0.2195 - top5_acc: 0.7951 - mean_squared_error: 0.1204\n",
      "loss  :  1.892434000968933\n",
      "acc  :  0.2195121943950653\n",
      "top_k_categorical_accuracy  :  0.795121967792511\n",
      "top1_acc  :  0.2195121943950653\n",
      "top5_acc  :  0.795121967792511\n",
      "mean_squared_error  :  0.12044570595026016\n"
     ]
    }
   ],
   "source": [
    "#Evaluate model performance on test dataset\n",
    "results = MblNetV2_model.evaluate(test_generator)\n",
    "for i in range(len(MblNetV2_model.metrics_names)):\n",
    "    print(MblNetV2_model.metrics_names[i], \" : \", results[i])"
   ]
  },
  {
   "cell_type": "markdown",
   "id": "cdffcbfe",
   "metadata": {},
   "source": [
    "## Compute performance metrics, e.g. recall and precision"
   ]
  },
  {
   "cell_type": "code",
   "execution_count": 24,
   "id": "ccc84ed0",
   "metadata": {},
   "outputs": [
    {
     "data": {
      "text/plain": [
       "'\\nY_pred = MblNetV2_model.predict(test_generator,\\n        len(os.listdir(test_paper))//batchSize + 1)\\ny_pred = np.argmax(Y_pred, axis=1)\\nres = classification_performance(test_generator.classes, y_pred)\\nprint(res.recall)\\nprint(res.precision)\\nprint(res.f1_score)\\nprint(res.accuracy)\\n'"
      ]
     },
     "execution_count": 24,
     "metadata": {},
     "output_type": "execute_result"
    }
   ],
   "source": [
    "'''\n",
    "Y_pred = MblNetV2_model.predict(test_generator,\n",
    "        len(os.listdir(test_paper))//batchSize + 1)\n",
    "y_pred = np.argmax(Y_pred, axis=1)\n",
    "res = classification_performance(test_generator.classes, y_pred)\n",
    "print(res.recall)\n",
    "print(res.precision)\n",
    "print(res.f1_score)\n",
    "print(res.accuracy)\n",
    "'''"
   ]
  },
  {
   "cell_type": "markdown",
   "id": "ff008e88",
   "metadata": {},
   "source": [
    "### Use model for prediction and compute the confusion matrix (CM)"
   ]
  },
  {
   "cell_type": "code",
   "execution_count": 25,
   "id": "20fb474d",
   "metadata": {},
   "outputs": [
    {
     "name": "stdout",
     "output_type": "stream",
     "text": [
      "13/13 [==============================] - 102s 7s/step\n",
      "Confusion Matrix\n",
      "[[ 0  0  0  0 61  0  0]\n",
      " [ 0  0  0  0 76  0  0]\n",
      " [ 0  0  0  0 26  0  0]\n",
      " [ 0  0  0  0 62  0  0]\n",
      " [ 0  0  0  0 90  0  0]\n",
      " [ 0  0  0  0 73  0  0]\n",
      " [ 0  0  0  0 22  0  0]]\n",
      "Classification Report\n",
      "              precision    recall  f1-score   support\n",
      "\n",
      "   cardboard       0.00      0.00      0.00        61\n",
      "       glass       0.00      0.00      0.00        76\n",
      "         ied       0.00      0.00      0.00        26\n",
      "       metal       0.00      0.00      0.00        62\n",
      "       paper       0.22      1.00      0.36        90\n",
      "     plastic       0.00      0.00      0.00        73\n",
      "       trash       0.00      0.00      0.00        22\n",
      "\n",
      "    accuracy                           0.22       410\n",
      "   macro avg       0.03      0.14      0.05       410\n",
      "weighted avg       0.05      0.22      0.08       410\n",
      "\n"
     ]
    },
    {
     "data": {
      "image/png": "[encoded data removed]",
      "text/plain": [
       "<Figure size 640x480 with 2 Axes>"
      ]
     },
     "metadata": {},
     "output_type": "display_data"
    }
   ],
   "source": [
    "Y_pred = MblNetV2_model.predict(test_generator,\n",
    "        len(os.listdir(test_paper))//batchSize + 1)\n",
    "y_pred = np.argmax(Y_pred, axis=1)\n",
    "cm = confusion_matrix(test_generator.classes, y_pred)\n",
    "\n",
    "print('Confusion Matrix')\n",
    "print(cm)\n",
    "\n",
    "print('Classification Report')\n",
    "target_names = target_names\n",
    "print(classification_report(test_generator.classes, y_pred, target_names=target_names))\n",
    "\n",
    "disp = ConfusionMatrixDisplay(confusion_matrix=cm, display_labels=target_names)\n",
    "disp.plot(cmap=plt.cm.Blues)\n",
    "plt.show()\n"
   ]
  },
  {
   "cell_type": "markdown",
   "id": "0fbd3585",
   "metadata": {},
   "source": [
    "## TL 2: Transfer Learning with DenseNet121"
   ]
  },
  {
   "cell_type": "code",
   "execution_count": 26,
   "id": "ae19224b",
   "metadata": {},
   "outputs": [],
   "source": [
    "# Create the pretrained model as the base model\n",
    "base_model_DN121 = tf.keras.applications.DenseNet121(input_shape=(img_height, img_width, 3), \n",
    "                include_top=False, # ideal for feature extraction\n",
    "                weights='imagenet' )\n",
    "\n",
    "base_model_DN121.trainable = False # Prevent the weights of the base model from being updated before compiling & training the model\n"
   ]
  },
  {
   "cell_type": "code",
   "execution_count": 27,
   "id": "8609a08b",
   "metadata": {},
   "outputs": [],
   "source": [
    "##base_model_DN121.summary()"
   ]
  },
  {
   "cell_type": "code",
   "execution_count": 28,
   "id": "0eb49e00",
   "metadata": {},
   "outputs": [],
   "source": [
    "# Add extra layers to the pre-trained base model by function call\n",
    "DN121_model = new_top_layers(base_model_DN121)"
   ]
  },
  {
   "cell_type": "code",
   "execution_count": 29,
   "id": "3dbfd3d0",
   "metadata": {},
   "outputs": [
    {
     "name": "stdout",
     "output_type": "stream",
     "text": [
      "Model: \"sequential_1\"\n",
      "_________________________________________________________________\n",
      " Layer (type)                Output Shape              Param #   \n",
      "=================================================================\n",
      " densenet121 (Functional)    (None, 7, 7, 1024)        7037504   \n",
      "                                                                 \n",
      " flatten_1 (Flatten)         (None, 50176)             0         \n",
      "                                                                 \n",
      " dense_2 (Dense)             (None, 64)                3211328   \n",
      "                                                                 \n",
      " activation (Activation)     (None, 64)                0         \n",
      "                                                                 \n",
      " dropout_1 (Dropout)         (None, 64)                0         \n",
      "                                                                 \n",
      " dense_3 (Dense)             (None, 7)                 455       \n",
      "                                                                 \n",
      "=================================================================\n",
      "Total params: 10249287 (39.10 MB)\n",
      "Trainable params: 3211783 (12.25 MB)\n",
      "Non-trainable params: 7037504 (26.85 MB)\n",
      "_________________________________________________________________\n"
     ]
    }
   ],
   "source": [
    "# Find the number of parameters\n",
    "DN121_model.summary()"
   ]
  },
  {
   "cell_type": "code",
   "execution_count": 30,
   "id": "857de19b",
   "metadata": {},
   "outputs": [],
   "source": [
    "# Compile the model\n",
    "DN121_model.compile(loss='categorical_crossentropy', optimizer=optimizer, metrics=['acc'])"
   ]
  },
  {
   "cell_type": "code",
   "execution_count": 31,
   "id": "a85eee2f",
   "metadata": {},
   "outputs": [
    {
     "name": "stdout",
     "output_type": "stream",
     "text": [
      "Epoch 1/11\n",
      "12/12 [==============================] - 177s 14s/step - loss: 25.8029 - acc: 0.1536 - val_loss: 1.9168 - val_acc: 0.1562\n",
      "Epoch 2/11\n",
      "12/12 [==============================] - 154s 13s/step - loss: 1.9267 - acc: 0.1432 - val_loss: 1.8812 - val_acc: 0.3125\n",
      "Epoch 3/11\n",
      "12/12 [==============================] - 158s 13s/step - loss: 1.8786 - acc: 0.2292 - val_loss: 1.9052 - val_acc: 0.2031\n",
      "Epoch 4/11\n",
      "12/12 [==============================] - 157s 13s/step - loss: 2.0029 - acc: 0.2266 - val_loss: 1.9064 - val_acc: 0.1406\n",
      "Epoch 5/11\n",
      "12/12 [==============================] - 155s 13s/step - loss: 1.8679 - acc: 0.1927 - val_loss: 2.3179 - val_acc: 0.1562\n",
      "Epoch 6/11\n",
      "12/12 [==============================] - 160s 13s/step - loss: 1.7880 - acc: 0.2083 - val_loss: 1.7456 - val_acc: 0.2188\n",
      "Epoch 7/11\n",
      "12/12 [==============================] - 155s 13s/step - loss: 1.8711 - acc: 0.2292 - val_loss: 1.8822 - val_acc: 0.1250\n",
      "Epoch 8/11\n",
      "12/12 [==============================] - 154s 13s/step - loss: 1.8527 - acc: 0.2266 - val_loss: 1.7388 - val_acc: 0.1719\n",
      "Epoch 9/11\n",
      "12/12 [==============================] - 154s 13s/step - loss: 1.8450 - acc: 0.2396 - val_loss: 1.9250 - val_acc: 0.0469\n",
      "Epoch 10/11\n",
      "12/12 [==============================] - 164s 14s/step - loss: 1.7988 - acc: 0.2474 - val_loss: 1.7923 - val_acc: 0.0938\n",
      "Epoch 11/11\n",
      "12/12 [==============================] - 155s 13s/step - loss: 1.8343 - acc: 0.2396 - val_loss: 1.9148 - val_acc: 0.0781\n",
      "Model training time in minutes is:  29.158966155846915\n"
     ]
    }
   ],
   "source": [
    "#Fit the model to the dataset\n",
    "DN121_st = time.time() # start the clock\n",
    "history = DN121_model.fit(\n",
    "    train_generator,\n",
    "    steps_per_epoch = steps_per_epoch,\n",
    "    epochs = epochs,\n",
    "    #workers = 4,\n",
    "    validation_data = validation_generator,\n",
    "    validation_steps =  validation_steps)\n",
    "\n",
    "DN121_et = time.time()\n",
    "DN121_training_time = (DN121_et - DN121_st)/60\n",
    "print('Model training time in minutes is: ', DN121_training_time)"
   ]
  },
  {
   "cell_type": "code",
   "execution_count": 32,
   "id": "3240da3c",
   "metadata": {},
   "outputs": [
    {
     "data": {
      "image/png": "[encoded data removed]",
      "text/plain": [
       "<Figure size 640x480 with 2 Axes>"
      ]
     },
     "metadata": {},
     "output_type": "display_data"
    }
   ],
   "source": [
    "fig1, (ax1,ax2) = plt.subplots(nrows=1,ncols=2)\n",
    "ax1.plot(history.history['loss'], 'bo',label='Training Loss')\n",
    "ax1.plot(history.history['val_loss'], '-r', label='Validation Loss')\n",
    "ax1.legend()\n",
    "ax1.set_xlabel('Epoch')\n",
    "#ax1.set_ylabel('Loss')\n",
    "plt.savefig('LossVal_loss')\n",
    "\n",
    "ax2.plot(history.history['acc'], 'bo',label='Training Accuracy')\n",
    "ax2.plot(history.history['val_acc'], '-r', label='Validation Accuracy')\n",
    "ax2.legend()\n",
    "ax2.set_xlabel('Epoch')\n",
    "#ax2.set_ylabel('Accuracy')\n",
    "plt.show()\n",
    "#plt.savefig('AccVal_acc')"
   ]
  },
  {
   "cell_type": "code",
   "execution_count": 33,
   "id": "99569679",
   "metadata": {},
   "outputs": [
    {
     "data": {
      "text/plain": [
       "\"\\n#Find the maximum accuracy and its corresponding losses\\nvalAccuracy = np.array(history.history['val_acc'])\\ntrainAccuracy = np.array(history.history['acc'])\\nvalLoss = np.array(history.history['val_loss'])\\ntrainLoss = np.array(history.history['loss'])\\n\\nepoch0 = np.where(valAccuracy==max(valAccuracy))\\nprint(epoch0)\\nmax_val_acc = valAccuracy[epoch0]\\ncor_train_acc = trainAccuracy[epoch0] # Train accuracy corresponding to the max val accuracy\\ncor_val_loss = valLoss[epoch0]\\ncor_train_loss = trainLoss[epoch0]\\n\\nprint('epoch for max val acc: ', epoch0)\\nprint('max val acc; ', max_val_acc)\\nprint('cor_val_loss: ', cor_val_loss)\\nprint('cor_train_loss: ', cor_train_loss)\\nprint('cor_train_acc: ', cor_train_acc)\\n\""
      ]
     },
     "execution_count": 33,
     "metadata": {},
     "output_type": "execute_result"
    }
   ],
   "source": [
    "'''\n",
    "#Find the maximum accuracy and its corresponding losses\n",
    "valAccuracy = np.array(history.history['val_acc'])\n",
    "trainAccuracy = np.array(history.history['acc'])\n",
    "valLoss = np.array(history.history['val_loss'])\n",
    "trainLoss = np.array(history.history['loss'])\n",
    "\n",
    "epoch0 = np.where(valAccuracy==max(valAccuracy))\n",
    "print(epoch0)\n",
    "max_val_acc = valAccuracy[epoch0]\n",
    "cor_train_acc = trainAccuracy[epoch0] # Train accuracy corresponding to the max val accuracy\n",
    "cor_val_loss = valLoss[epoch0]\n",
    "cor_train_loss = trainLoss[epoch0]\n",
    "\n",
    "print('epoch for max val acc: ', epoch0)\n",
    "print('max val acc; ', max_val_acc)\n",
    "print('cor_val_loss: ', cor_val_loss)\n",
    "print('cor_train_loss: ', cor_train_loss)\n",
    "print('cor_train_acc: ', cor_train_acc)\n",
    "'''"
   ]
  },
  {
   "cell_type": "code",
   "execution_count": 34,
   "id": "f0d7dbc6",
   "metadata": {},
   "outputs": [
    {
     "name": "stdout",
     "output_type": "stream",
     "text": [
      "13/13 [==============================] - 138s 10s/step - loss: 1.9137 - acc: 0.0829\n",
      "loss  :  1.913681983947754\n",
      "acc  :  0.08292683213949203\n"
     ]
    }
   ],
   "source": [
    "#Evaluate model performance on test dataset\n",
    "results = DN121_model.evaluate(test_generator)\n",
    "for i in range(len(DN121_model.metrics_names)):\n",
    "    print(DN121_model.metrics_names[i], \" : \", results[i])"
   ]
  },
  {
   "cell_type": "code",
   "execution_count": 35,
   "id": "de3b0a06",
   "metadata": {},
   "outputs": [
    {
     "data": {
      "text/plain": [
       "'\\nY_pred = DN121_model.predict(test_generator,\\n        len(os.listdir(test_paper))//batchSize + 1)\\ny_pred = np.argmax(Y_pred, axis=1)\\nres = classification_performance(test_generator.classes, y_pred)\\nprint(res.recall)\\nprint(res.precision)\\nprint(res.f1_score)\\nprint(res.accuracy)\\n'"
      ]
     },
     "execution_count": 35,
     "metadata": {},
     "output_type": "execute_result"
    }
   ],
   "source": [
    "'''\n",
    "Y_pred = DN121_model.predict(test_generator,\n",
    "        len(os.listdir(test_paper))//batchSize + 1)\n",
    "y_pred = np.argmax(Y_pred, axis=1)\n",
    "res = classification_performance(test_generator.classes, y_pred)\n",
    "print(res.recall)\n",
    "print(res.precision)\n",
    "print(res.f1_score)\n",
    "print(res.accuracy)\n",
    "'''"
   ]
  },
  {
   "cell_type": "code",
   "execution_count": 36,
   "id": "3d3233a8",
   "metadata": {},
   "outputs": [
    {
     "name": "stdout",
     "output_type": "stream",
     "text": [
      "13/13 [==============================] - 142s 10s/step\n",
      "Confusion Matrix\n",
      "[[ 0  0 58  0  3  0  0]\n",
      " [ 0  0 74  0  2  0  0]\n",
      " [ 0  0 26  0  0  0  0]\n",
      " [ 0  0 61  0  1  0  0]\n",
      " [ 0  0 90  0  0  0  0]\n",
      " [ 0  0 71  0  2  0  0]\n",
      " [ 0  0 22  0  0  0  0]]\n",
      "Classification Report\n",
      "              precision    recall  f1-score   support\n",
      "\n",
      "   cardboard       0.00      0.00      0.00        61\n",
      "       glass       0.00      0.00      0.00        76\n",
      "         ied       0.06      1.00      0.12        26\n",
      "       metal       0.00      0.00      0.00        62\n",
      "       paper       0.00      0.00      0.00        90\n",
      "     plastic       0.00      0.00      0.00        73\n",
      "       trash       0.00      0.00      0.00        22\n",
      "\n",
      "    accuracy                           0.06       410\n",
      "   macro avg       0.01      0.14      0.02       410\n",
      "weighted avg       0.00      0.06      0.01       410\n",
      "\n"
     ]
    },
    {
     "data": {
      "image/png": "[encoded data removed]",
      "text/plain": [
       "<Figure size 640x480 with 2 Axes>"
      ]
     },
     "metadata": {},
     "output_type": "display_data"
    }
   ],
   "source": [
    "Y_pred = DN121_model.predict(test_generator,\n",
    "        len(os.listdir(test_paper))//batchSize + 1)\n",
    "y_pred = np.argmax(Y_pred, axis=1)\n",
    "cm = confusion_matrix(test_generator.classes, y_pred)\n",
    "\n",
    "print('Confusion Matrix')\n",
    "print(cm)\n",
    "\n",
    "print('Classification Report')\n",
    "target_names = target_names\n",
    "print(classification_report(test_generator.classes, y_pred, target_names=target_names))\n",
    "\n",
    "disp = ConfusionMatrixDisplay(confusion_matrix=cm, display_labels=target_names)\n",
    "disp.plot(cmap=plt.cm.Blues)\n",
    "plt.show()"
   ]
  },
  {
   "cell_type": "markdown",
   "id": "0b07256e",
   "metadata": {},
   "source": [
    "## TL 3: Transfer Learning with NASNetMobile"
   ]
  },
  {
   "cell_type": "code",
   "execution_count": 37,
   "id": "c8ebb996",
   "metadata": {},
   "outputs": [],
   "source": [
    "# Create the pretrained model as the base model\n",
    "base_model_NNmobile = tf.keras.applications.NASNetMobile(input_shape=(img_height, img_width, 3), \n",
    "                include_top=False, # ideal for feature extraction\n",
    "                weights='imagenet' )\n",
    "\n",
    "base_model_NNmobile.trainable = False # Prevent the weights of the base model from being updated before compiling & training the model"
   ]
  },
  {
   "cell_type": "code",
   "execution_count": 38,
   "id": "e55035bb",
   "metadata": {},
   "outputs": [
    {
     "data": {
      "text/plain": [
       "'\\nbase_model_NNmobile.summary()\\n'"
      ]
     },
     "execution_count": 38,
     "metadata": {},
     "output_type": "execute_result"
    }
   ],
   "source": [
    "# Number of base model parameters\n",
    "'''\n",
    "base_model_NNmobile.summary()\n",
    "'''"
   ]
  },
  {
   "cell_type": "code",
   "execution_count": 39,
   "id": "0402ca07",
   "metadata": {},
   "outputs": [],
   "source": [
    "# Add extra layers to the pre-trained base model by function call\n",
    "NNMobile_model = new_top_layers(base_model_NNmobile)"
   ]
  },
  {
   "cell_type": "code",
   "execution_count": 40,
   "id": "cc64b7ac",
   "metadata": {},
   "outputs": [
    {
     "name": "stdout",
     "output_type": "stream",
     "text": [
      "Model: \"sequential_2\"\n",
      "_________________________________________________________________\n",
      " Layer (type)                Output Shape              Param #   \n",
      "=================================================================\n",
      " NASNet (Functional)         (None, 7, 7, 1056)        4269716   \n",
      "                                                                 \n",
      " flatten_2 (Flatten)         (None, 51744)             0         \n",
      "                                                                 \n",
      " dense_4 (Dense)             (None, 64)                3311680   \n",
      "                                                                 \n",
      " activation (Activation)     (None, 64)                0         \n",
      "                                                                 \n",
      " dropout_2 (Dropout)         (None, 64)                0         \n",
      "                                                                 \n",
      " dense_5 (Dense)             (None, 7)                 455       \n",
      "                                                                 \n",
      "=================================================================\n",
      "Total params: 7581851 (28.92 MB)\n",
      "Trainable params: 3312135 (12.63 MB)\n",
      "Non-trainable params: 4269716 (16.29 MB)\n",
      "_________________________________________________________________\n"
     ]
    }
   ],
   "source": [
    "# Find number of model parameters\n",
    "NNMobile_model.summary()"
   ]
  },
  {
   "cell_type": "code",
   "execution_count": 41,
   "id": "35c00cdc",
   "metadata": {},
   "outputs": [],
   "source": [
    "# Compile the model\n",
    "NNMobile_model.compile(loss='categorical_crossentropy', optimizer=optimizer, metrics=metrics)"
   ]
  },
  {
   "cell_type": "code",
   "execution_count": 42,
   "id": "3c63dd6e",
   "metadata": {},
   "outputs": [
    {
     "name": "stdout",
     "output_type": "stream",
     "text": [
      "Epoch 1/11\n",
      "12/12 [==============================] - 153s 10s/step - loss: 13.5088 - acc: 0.1719 - top_k_categorical_accuracy: 0.7526 - top1_acc: 0.1719 - top5_acc: 0.7526 - mean_squared_error: 0.1376 - val_loss: 2.7203 - val_acc: 0.2656 - val_top_k_categorical_accuracy: 0.7812 - val_top1_acc: 0.2656 - val_top5_acc: 0.7812 - val_mean_squared_error: 0.1233\n",
      "Epoch 2/11\n",
      "12/12 [==============================] - 126s 11s/step - loss: 1.8649 - acc: 0.2344 - top_k_categorical_accuracy: 0.8516 - top1_acc: 0.2344 - top5_acc: 0.8516 - mean_squared_error: 0.1178 - val_loss: 1.9299 - val_acc: 0.2031 - val_top_k_categorical_accuracy: 0.7500 - val_top1_acc: 0.2031 - val_top5_acc: 0.7500 - val_mean_squared_error: 0.1217\n",
      "Epoch 3/11\n",
      "12/12 [==============================] - 115s 10s/step - loss: 1.9481 - acc: 0.1745 - top_k_categorical_accuracy: 0.8125 - top1_acc: 0.1745 - top5_acc: 0.8125 - mean_squared_error: 0.1217 - val_loss: 1.9147 - val_acc: 0.2031 - val_top_k_categorical_accuracy: 0.7500 - val_top1_acc: 0.2031 - val_top5_acc: 0.7500 - val_mean_squared_error: 0.1216\n",
      "Epoch 4/11\n",
      "12/12 [==============================] - 116s 10s/step - loss: 1.8755 - acc: 0.2005 - top_k_categorical_accuracy: 0.8151 - top1_acc: 0.2005 - top5_acc: 0.8151 - mean_squared_error: 0.1199 - val_loss: 1.9196 - val_acc: 0.1875 - val_top_k_categorical_accuracy: 0.8125 - val_top1_acc: 0.1875 - val_top5_acc: 0.8125 - val_mean_squared_error: 0.1218\n",
      "Epoch 5/11\n",
      "12/12 [==============================] - 114s 10s/step - loss: 1.9454 - acc: 0.1849 - top_k_categorical_accuracy: 0.8177 - top1_acc: 0.1849 - top5_acc: 0.8177 - mean_squared_error: 0.1210 - val_loss: 1.8759 - val_acc: 0.2656 - val_top_k_categorical_accuracy: 0.8438 - val_top1_acc: 0.2656 - val_top5_acc: 0.8438 - val_mean_squared_error: 0.1199\n",
      "Epoch 6/11\n",
      "12/12 [==============================] - 108s 9s/step - loss: 1.9145 - acc: 0.2119 - top_k_categorical_accuracy: 0.8616 - top1_acc: 0.2119 - top5_acc: 0.8616 - mean_squared_error: 0.1194 - val_loss: 7.9198 - val_acc: 0.1406 - val_top_k_categorical_accuracy: 0.7188 - val_top1_acc: 0.1406 - val_top5_acc: 0.7188 - val_mean_squared_error: 0.1495\n",
      "Epoch 7/11\n",
      "12/12 [==============================] - 114s 10s/step - loss: 2.1846 - acc: 0.1458 - top_k_categorical_accuracy: 0.7760 - top1_acc: 0.1458 - top5_acc: 0.7760 - mean_squared_error: 0.1239 - val_loss: 1.9098 - val_acc: 0.1875 - val_top_k_categorical_accuracy: 0.7656 - val_top1_acc: 0.1875 - val_top5_acc: 0.7656 - val_mean_squared_error: 0.1214\n",
      "Epoch 8/11\n",
      "12/12 [==============================] - 114s 10s/step - loss: 1.8959 - acc: 0.1719 - top_k_categorical_accuracy: 0.8177 - top1_acc: 0.1719 - top5_acc: 0.8177 - mean_squared_error: 0.1209 - val_loss: 1.8949 - val_acc: 0.2188 - val_top_k_categorical_accuracy: 0.8125 - val_top1_acc: 0.2188 - val_top5_acc: 0.8125 - val_mean_squared_error: 0.1208\n",
      "Epoch 9/11\n",
      "12/12 [==============================] - 113s 9s/step - loss: 1.8749 - acc: 0.1849 - top_k_categorical_accuracy: 0.8255 - top1_acc: 0.1849 - top5_acc: 0.8255 - mean_squared_error: 0.1200 - val_loss: 1.8775 - val_acc: 0.2031 - val_top_k_categorical_accuracy: 0.8281 - val_top1_acc: 0.2031 - val_top5_acc: 0.8281 - val_mean_squared_error: 0.1200\n",
      "Epoch 10/11\n",
      "12/12 [==============================] - 114s 10s/step - loss: 1.8707 - acc: 0.1745 - top_k_categorical_accuracy: 0.8333 - top1_acc: 0.1745 - top5_acc: 0.8333 - mean_squared_error: 0.1199 - val_loss: 1.8902 - val_acc: 0.1875 - val_top_k_categorical_accuracy: 0.7344 - val_top1_acc: 0.1875 - val_top5_acc: 0.7344 - val_mean_squared_error: 0.1209\n",
      "Epoch 11/11\n",
      "12/12 [==============================] - 115s 10s/step - loss: 1.8878 - acc: 0.1771 - top_k_categorical_accuracy: 0.8359 - top1_acc: 0.1771 - top5_acc: 0.8359 - mean_squared_error: 0.1204 - val_loss: 1.8640 - val_acc: 0.3125 - val_top_k_categorical_accuracy: 0.8125 - val_top1_acc: 0.3125 - val_top5_acc: 0.8125 - val_mean_squared_error: 0.1197\n",
      "Model training time in secs is:  1309.1325166225433\n"
     ]
    }
   ],
   "source": [
    "#Fit the model to the dataset\n",
    "start_time = time.time() # start the clock\n",
    "\n",
    "history = NNMobile_model.fit(\n",
    "    train_generator,\n",
    "    steps_per_epoch = steps_per_epoch,\n",
    "    epochs = epochs,\n",
    "    #workers = 4,\n",
    "    validation_data = validation_generator,\n",
    "    validation_steps =  validation_steps)\n",
    "\n",
    "end_time = time.time()\n",
    "training_time = end_time - start_time\n",
    "print('Model training time in secs is: ', training_time)"
   ]
  },
  {
   "cell_type": "code",
   "execution_count": 43,
   "id": "aad74806",
   "metadata": {},
   "outputs": [
    {
     "data": {
      "image/png": "[encoded data removed]",
      "text/plain": [
       "<Figure size 640x480 with 2 Axes>"
      ]
     },
     "metadata": {},
     "output_type": "display_data"
    }
   ],
   "source": [
    "fig1, (ax1,ax2) = plt.subplots(nrows=1,ncols=2)\n",
    "ax1.plot(history.history['loss'], 'bo',label='Training Loss')\n",
    "ax1.plot(history.history['val_loss'], '-r', label='Validation Loss')\n",
    "ax1.legend()\n",
    "ax1.set_xlabel('Epoch')\n",
    "#ax1.set_ylabel('Loss')\n",
    "plt.savefig('LossVal_loss')\n",
    "\n",
    "ax2.plot(history.history['acc'], 'bo',label='Training Accuracy')\n",
    "ax2.plot(history.history['val_acc'], '-r', label='Validation Accuracy')\n",
    "ax2.legend()\n",
    "ax2.set_xlabel('Epoch')\n",
    "#ax2.set_ylabel('Accuracy')\n",
    "plt.show()\n",
    "#plt.savefig('AccVal_acc')"
   ]
  },
  {
   "cell_type": "code",
   "execution_count": 44,
   "id": "a6b5b0b9",
   "metadata": {},
   "outputs": [
    {
     "data": {
      "text/plain": [
       "\"\\n#Find the maximum accuracy and its corresponding losses\\nvalAccuracy = np.array(history.history['val_acc'])\\ntrainAccuracy = np.array(history.history['acc'])\\nvalLoss = np.array(history.history['val_loss'])\\ntrainLoss = np.array(history.history['loss'])\\n\\nepoch0 = np.where(valAccuracy==max(valAccuracy))\\nprint(epoch0)\\nmax_val_acc = valAccuracy[epoch0]\\ncor_train_acc = trainAccuracy[epoch0] # Train accuracy corresponding to the max val accuracy\\ncor_val_loss = valLoss[epoch0]\\ncor_train_loss = trainLoss[epoch0]\\n\\nprint('epoch for max val acc: ', epoch0)\\nprint('max val acc; ', max_val_acc)\\nprint('cor_val_loss: ', cor_val_loss)\\nprint('cor_train_loss: ', cor_train_loss)\\nprint('cor_train_acc: ', cor_train_acc)\\n\""
      ]
     },
     "execution_count": 44,
     "metadata": {},
     "output_type": "execute_result"
    }
   ],
   "source": [
    "'''\n",
    "#Find the maximum accuracy and its corresponding losses\n",
    "valAccuracy = np.array(history.history['val_acc'])\n",
    "trainAccuracy = np.array(history.history['acc'])\n",
    "valLoss = np.array(history.history['val_loss'])\n",
    "trainLoss = np.array(history.history['loss'])\n",
    "\n",
    "epoch0 = np.where(valAccuracy==max(valAccuracy))\n",
    "print(epoch0)\n",
    "max_val_acc = valAccuracy[epoch0]\n",
    "cor_train_acc = trainAccuracy[epoch0] # Train accuracy corresponding to the max val accuracy\n",
    "cor_val_loss = valLoss[epoch0]\n",
    "cor_train_loss = trainLoss[epoch0]\n",
    "\n",
    "print('epoch for max val acc: ', epoch0)\n",
    "print('max val acc; ', max_val_acc)\n",
    "print('cor_val_loss: ', cor_val_loss)\n",
    "print('cor_train_loss: ', cor_train_loss)\n",
    "print('cor_train_acc: ', cor_train_acc)\n",
    "'''"
   ]
  },
  {
   "cell_type": "code",
   "execution_count": 45,
   "id": "b25343f2",
   "metadata": {},
   "outputs": [
    {
     "name": "stdout",
     "output_type": "stream",
     "text": [
      "13/13 [==============================] - 103s 8s/step - loss: 1.8969 - acc: 0.2195 - top_k_categorical_accuracy: 0.7976 - top1_acc: 0.2195 - top5_acc: 0.7976 - mean_squared_error: 0.1207\n",
      "loss  :  1.8968900442123413\n",
      "acc  :  0.2195121943950653\n",
      "top_k_categorical_accuracy  :  0.79756098985672\n",
      "top1_acc  :  0.2195121943950653\n",
      "top5_acc  :  0.79756098985672\n",
      "mean_squared_error  :  0.12067821621894836\n"
     ]
    }
   ],
   "source": [
    "#Evaluate model performance on test dataset\n",
    "results = NNMobile_model.evaluate(test_generator)\n",
    "for i in range(len(NNMobile_model.metrics_names)):\n",
    "    print(NNMobile_model.metrics_names[i], \" : \", results[i])"
   ]
  },
  {
   "cell_type": "code",
   "execution_count": 46,
   "id": "6502e60a",
   "metadata": {},
   "outputs": [
    {
     "data": {
      "text/plain": [
       "'\\nY_pred = NNMobile_model.predict(test_generator,\\n        len(os.listdir(test_paper))//batchSize + 1)\\ny_pred = np.argmax(Y_pred, axis=1)\\nres = classification_performance(test_generator.classes, y_pred)\\nprint(res.recall)\\nprint(res.precision)\\nprint(res.f1_score)\\nprint(res.accuracy)\\n'"
      ]
     },
     "execution_count": 46,
     "metadata": {},
     "output_type": "execute_result"
    }
   ],
   "source": [
    "'''\n",
    "Y_pred = NNMobile_model.predict(test_generator,\n",
    "        len(os.listdir(test_paper))//batchSize + 1)\n",
    "y_pred = np.argmax(Y_pred, axis=1)\n",
    "res = classification_performance(test_generator.classes, y_pred)\n",
    "print(res.recall)\n",
    "print(res.precision)\n",
    "print(res.f1_score)\n",
    "print(res.accuracy)\n",
    "'''"
   ]
  },
  {
   "cell_type": "code",
   "execution_count": 47,
   "id": "d1435c24",
   "metadata": {},
   "outputs": [
    {
     "name": "stdout",
     "output_type": "stream",
     "text": [
      "13/13 [==============================] - 109s 8s/step\n",
      "Confusion Matrix\n",
      "[[ 0  0  0  0 61  0  0]\n",
      " [ 0  0  0  0 76  0  0]\n",
      " [ 0  0  0  0 26  0  0]\n",
      " [ 0  0  0  0 62  0  0]\n",
      " [ 0  0  0  0 90  0  0]\n",
      " [ 0  0  0  0 73  0  0]\n",
      " [ 0  0  0  0 22  0  0]]\n",
      "Classification Report\n",
      "              precision    recall  f1-score   support\n",
      "\n",
      "   cardboard       0.00      0.00      0.00        61\n",
      "       glass       0.00      0.00      0.00        76\n",
      "         ied       0.00      0.00      0.00        26\n",
      "       metal       0.00      0.00      0.00        62\n",
      "       paper       0.22      1.00      0.36        90\n",
      "     plastic       0.00      0.00      0.00        73\n",
      "       trash       0.00      0.00      0.00        22\n",
      "\n",
      "    accuracy                           0.22       410\n",
      "   macro avg       0.03      0.14      0.05       410\n",
      "weighted avg       0.05      0.22      0.08       410\n",
      "\n"
     ]
    },
    {
     "data": {
      "image/png": "[encoded data removed]",
      "text/plain": [
       "<Figure size 640x480 with 2 Axes>"
      ]
     },
     "metadata": {},
     "output_type": "display_data"
    }
   ],
   "source": [
    "Y_pred = NNMobile_model.predict(test_generator,\n",
    "        len(os.listdir(test_paper))//batchSize + 1)\n",
    "y_pred = np.argmax(Y_pred, axis=1)\n",
    "cm = confusion_matrix(test_generator.classes, y_pred)\n",
    "\n",
    "print('Confusion Matrix')\n",
    "print(cm)\n",
    "\n",
    "print('Classification Report')\n",
    "target_names = target_names\n",
    "print(classification_report(test_generator.classes, y_pred, target_names=target_names))\n",
    "\n",
    "disp = ConfusionMatrixDisplay(confusion_matrix=cm, display_labels=target_names)\n",
    "disp.plot(cmap=plt.cm.Blues)\n",
    "plt.show()"
   ]
  },
  {
   "cell_type": "markdown",
   "id": "c8c96419",
   "metadata": {},
   "source": [
    "## TL 4: Transfer Learning with VGG16-D"
   ]
  },
  {
   "cell_type": "code",
   "execution_count": 48,
   "id": "9951c3b8",
   "metadata": {},
   "outputs": [],
   "source": [
    "# Create the pretrained model as the base model\n",
    "from tensorflow.keras.applications.vgg16 import VGG16\n",
    "base_model_vgg16d = VGG16(input_shape=(img_height, img_width, 3), \n",
    "                include_top=False, # ideal for feature extraction\n",
    "                weights='imagenet' )\n",
    "\n",
    "base_model_vgg16d.trainable = False # Prevent the weights of the base model from being updated before compiling & training the model\n"
   ]
  },
  {
   "cell_type": "code",
   "execution_count": 49,
   "id": "dfaf8c3f",
   "metadata": {},
   "outputs": [
    {
     "data": {
      "text/plain": [
       "'\\nbase_model_vgg16d.summary()\\n'"
      ]
     },
     "execution_count": 49,
     "metadata": {},
     "output_type": "execute_result"
    }
   ],
   "source": [
    "# Find number of base model parameters\n",
    "'''\n",
    "base_model_vgg16d.summary()\n",
    "'''"
   ]
  },
  {
   "cell_type": "code",
   "execution_count": 50,
   "id": "2ed3685c",
   "metadata": {},
   "outputs": [],
   "source": [
    "# Add extra layers to the pre-trained base model by function call\n",
    "vgg16d_model = new_top_layers(base_model_vgg16d)"
   ]
  },
  {
   "cell_type": "code",
   "execution_count": 51,
   "id": "afb178fa",
   "metadata": {},
   "outputs": [
    {
     "name": "stdout",
     "output_type": "stream",
     "text": [
      "Model: \"sequential_3\"\n",
      "_________________________________________________________________\n",
      " Layer (type)                Output Shape              Param #   \n",
      "=================================================================\n",
      " vgg16 (Functional)          (None, 7, 7, 512)         14714688  \n",
      "                                                                 \n",
      " flatten_3 (Flatten)         (None, 25088)             0         \n",
      "                                                                 \n",
      " dense_6 (Dense)             (None, 64)                1605696   \n",
      "                                                                 \n",
      " activation (Activation)     (None, 64)                0         \n",
      "                                                                 \n",
      " dropout_3 (Dropout)         (None, 64)                0         \n",
      "                                                                 \n",
      " dense_7 (Dense)             (None, 7)                 455       \n",
      "                                                                 \n",
      "=================================================================\n",
      "Total params: 16320839 (62.26 MB)\n",
      "Trainable params: 1606151 (6.13 MB)\n",
      "Non-trainable params: 14714688 (56.13 MB)\n",
      "_________________________________________________________________\n"
     ]
    }
   ],
   "source": [
    "# Find number of model parameters\n",
    "vgg16d_model.summary()"
   ]
  },
  {
   "cell_type": "code",
   "execution_count": 52,
   "id": "7c475869",
   "metadata": {},
   "outputs": [],
   "source": [
    "# Compile the model\n",
    "vgg16d_model.compile(loss='categorical_crossentropy', optimizer=optimizer, metrics=metrics)"
   ]
  },
  {
   "cell_type": "code",
   "execution_count": 53,
   "id": "74ea338b",
   "metadata": {},
   "outputs": [
    {
     "name": "stdout",
     "output_type": "stream",
     "text": [
      "Epoch 1/11\n",
      "12/12 [==============================] - 403s 34s/step - loss: 6.5035 - acc: 0.1536 - top_k_categorical_accuracy: 0.7266 - top1_acc: 0.1536 - top5_acc: 0.7266 - mean_squared_error: 0.1335 - val_loss: 1.9058 - val_acc: 0.2031 - val_top_k_categorical_accuracy: 0.9219 - val_top1_acc: 0.2031 - val_top5_acc: 0.9219 - val_mean_squared_error: 0.1213\n",
      "Epoch 2/11\n",
      "12/12 [==============================] - 400s 33s/step - loss: 1.9088 - acc: 0.2005 - top_k_categorical_accuracy: 0.8411 - top1_acc: 0.2005 - top5_acc: 0.8411 - mean_squared_error: 0.1213 - val_loss: 1.9130 - val_acc: 0.2031 - val_top_k_categorical_accuracy: 0.7969 - val_top1_acc: 0.2031 - val_top5_acc: 0.7969 - val_mean_squared_error: 0.1213\n",
      "Epoch 3/11\n",
      "12/12 [==============================] - 397s 33s/step - loss: 1.9082 - acc: 0.1979 - top_k_categorical_accuracy: 0.8047 - top1_acc: 0.1979 - top5_acc: 0.8047 - mean_squared_error: 0.1212 - val_loss: 1.8593 - val_acc: 0.2500 - val_top_k_categorical_accuracy: 0.8906 - val_top1_acc: 0.2500 - val_top5_acc: 0.8906 - val_mean_squared_error: 0.1192\n",
      "Epoch 4/11\n",
      "12/12 [==============================] - 398s 33s/step - loss: 1.9109 - acc: 0.1901 - top_k_categorical_accuracy: 0.8177 - top1_acc: 0.1901 - top5_acc: 0.8177 - mean_squared_error: 0.1212 - val_loss: 1.9544 - val_acc: 0.3125 - val_top_k_categorical_accuracy: 0.7344 - val_top1_acc: 0.3125 - val_top5_acc: 0.7344 - val_mean_squared_error: 0.1220\n",
      "Epoch 5/11\n",
      "12/12 [==============================] - 373s 31s/step - loss: 1.8857 - acc: 0.2147 - top_k_categorical_accuracy: 0.8390 - top1_acc: 0.2147 - top5_acc: 0.8390 - mean_squared_error: 0.1204 - val_loss: 1.9223 - val_acc: 0.2188 - val_top_k_categorical_accuracy: 0.7344 - val_top1_acc: 0.2188 - val_top5_acc: 0.7344 - val_mean_squared_error: 0.1212\n",
      "Epoch 6/11\n",
      "12/12 [==============================] - 395s 33s/step - loss: 1.8921 - acc: 0.1771 - top_k_categorical_accuracy: 0.8333 - top1_acc: 0.1771 - top5_acc: 0.8333 - mean_squared_error: 0.1208 - val_loss: 1.9269 - val_acc: 0.1406 - val_top_k_categorical_accuracy: 0.7812 - val_top1_acc: 0.1406 - val_top5_acc: 0.7812 - val_mean_squared_error: 0.1217\n",
      "Epoch 7/11\n",
      "12/12 [==============================] - 396s 33s/step - loss: 1.9005 - acc: 0.1953 - top_k_categorical_accuracy: 0.7943 - top1_acc: 0.1953 - top5_acc: 0.7943 - mean_squared_error: 0.1209 - val_loss: 1.8880 - val_acc: 0.2031 - val_top_k_categorical_accuracy: 0.8281 - val_top1_acc: 0.2031 - val_top5_acc: 0.8281 - val_mean_squared_error: 0.1208\n",
      "Epoch 8/11\n",
      "12/12 [==============================] - 371s 31s/step - loss: 1.8977 - acc: 0.1921 - top_k_categorical_accuracy: 0.7881 - top1_acc: 0.1921 - top5_acc: 0.7881 - mean_squared_error: 0.1209 - val_loss: 1.8663 - val_acc: 0.1719 - val_top_k_categorical_accuracy: 0.7969 - val_top1_acc: 0.1719 - val_top5_acc: 0.7969 - val_mean_squared_error: 0.1202\n",
      "Epoch 9/11\n",
      "12/12 [==============================] - 397s 33s/step - loss: 1.8998 - acc: 0.1875 - top_k_categorical_accuracy: 0.8255 - top1_acc: 0.1875 - top5_acc: 0.8255 - mean_squared_error: 0.1210 - val_loss: 2.0015 - val_acc: 0.1875 - val_top_k_categorical_accuracy: 0.7031 - val_top1_acc: 0.1875 - val_top5_acc: 0.7031 - val_mean_squared_error: 0.1239\n",
      "Epoch 10/11\n",
      "12/12 [==============================] - 405s 34s/step - loss: 1.8799 - acc: 0.1901 - top_k_categorical_accuracy: 0.8177 - top1_acc: 0.1901 - top5_acc: 0.8177 - mean_squared_error: 0.1205 - val_loss: 1.8537 - val_acc: 0.3125 - val_top_k_categorical_accuracy: 0.8281 - val_top1_acc: 0.3125 - val_top5_acc: 0.8281 - val_mean_squared_error: 0.1192\n",
      "Epoch 11/11\n",
      "12/12 [==============================] - 396s 33s/step - loss: 1.8792 - acc: 0.2005 - top_k_categorical_accuracy: 0.8177 - top1_acc: 0.2005 - top5_acc: 0.8177 - mean_squared_error: 0.1204 - val_loss: 1.8688 - val_acc: 0.2344 - val_top_k_categorical_accuracy: 0.7969 - val_top1_acc: 0.2344 - val_top5_acc: 0.7969 - val_mean_squared_error: 0.1200\n",
      "Model training time in secs is:  4336.910297870636\n"
     ]
    }
   ],
   "source": [
    "#Fit the model to the dataset\n",
    "start_time = time.time() # start the clock\n",
    "\n",
    "history = vgg16d_model.fit(\n",
    "    train_generator,\n",
    "    steps_per_epoch = steps_per_epoch,\n",
    "    epochs = epochs,\n",
    "    #workers = 4,\n",
    "    validation_data = validation_generator,\n",
    "    validation_steps = validation_steps)\n",
    "\n",
    "end_time = time.time()\n",
    "training_time = end_time - start_time\n",
    "print('Model training time in secs is: ', training_time)"
   ]
  },
  {
   "cell_type": "code",
   "execution_count": 54,
   "id": "4340b640",
   "metadata": {},
   "outputs": [
    {
     "data": {
      "image/png": "[encoded data removed]",
      "text/plain": [
       "<Figure size 640x480 with 2 Axes>"
      ]
     },
     "metadata": {},
     "output_type": "display_data"
    }
   ],
   "source": [
    "fig1, (ax1,ax2) = plt.subplots(nrows=1,ncols=2)\n",
    "ax1.plot(history.history['loss'], 'bo',label='Training Loss')\n",
    "ax1.plot(history.history['val_loss'], '-r', label='Validation Loss')\n",
    "ax1.legend()\n",
    "ax1.set_xlabel('Epoch')\n",
    "#ax1.set_ylabel('Loss')\n",
    "plt.savefig('LossVal_loss')\n",
    "\n",
    "ax2.plot(history.history['acc'], 'bo',label='Training Accuracy')\n",
    "ax2.plot(history.history['val_acc'], '-r', label='Validation Accuracy')\n",
    "ax2.legend()\n",
    "ax2.set_xlabel('Epoch')\n",
    "#ax2.set_ylabel('Accuracy')\n",
    "plt.show()\n",
    "#plt.savefig('AccVal_acc')"
   ]
  },
  {
   "cell_type": "code",
   "execution_count": 55,
   "id": "949ec62a",
   "metadata": {},
   "outputs": [
    {
     "data": {
      "text/plain": [
       "\"\\n#Find the maximum accuracy and its corresponding losses\\nvalAccuracy = np.array(history.history['val_acc'])\\ntrainAccuracy = np.array(history.history['acc'])\\nvalLoss = np.array(history.history['val_loss'])\\ntrainLoss = np.array(history.history['loss'])\\n\\nepoch0 = np.where(valAccuracy==max(valAccuracy))\\nprint(epoch0)\\nmax_val_acc = valAccuracy[epoch0]\\ncor_train_acc = trainAccuracy[epoch0] # Train accuracy corresponding to the max val accuracy\\ncor_val_loss = valLoss[epoch0]\\ncor_train_loss = trainLoss[epoch0]\\n\\nprint('epoch for max val acc: ', epoch0)\\nprint('max val acc; ', max_val_acc)\\nprint('cor_val_loss: ', cor_val_loss)\\nprint('cor_train_loss: ', cor_train_loss)\\nprint('cor_train_acc: ', cor_train_acc)\\n\""
      ]
     },
     "execution_count": 55,
     "metadata": {},
     "output_type": "execute_result"
    }
   ],
   "source": [
    "'''\n",
    "#Find the maximum accuracy and its corresponding losses\n",
    "valAccuracy = np.array(history.history['val_acc'])\n",
    "trainAccuracy = np.array(history.history['acc'])\n",
    "valLoss = np.array(history.history['val_loss'])\n",
    "trainLoss = np.array(history.history['loss'])\n",
    "\n",
    "epoch0 = np.where(valAccuracy==max(valAccuracy))\n",
    "print(epoch0)\n",
    "max_val_acc = valAccuracy[epoch0]\n",
    "cor_train_acc = trainAccuracy[epoch0] # Train accuracy corresponding to the max val accuracy\n",
    "cor_val_loss = valLoss[epoch0]\n",
    "cor_train_loss = trainLoss[epoch0]\n",
    "\n",
    "print('epoch for max val acc: ', epoch0)\n",
    "print('max val acc; ', max_val_acc)\n",
    "print('cor_val_loss: ', cor_val_loss)\n",
    "print('cor_train_loss: ', cor_train_loss)\n",
    "print('cor_train_acc: ', cor_train_acc)\n",
    "'''"
   ]
  },
  {
   "cell_type": "code",
   "execution_count": 56,
   "id": "d2151d38",
   "metadata": {},
   "outputs": [
    {
     "name": "stdout",
     "output_type": "stream",
     "text": [
      "13/13 [==============================] - 355s 27s/step - loss: 1.9035 - acc: 0.2195 - top_k_categorical_accuracy: 0.7951 - top1_acc: 0.2195 - top5_acc: 0.7951 - mean_squared_error: 0.1210\n",
      "loss  :  1.9035345315933228\n",
      "acc  :  0.2195121943950653\n",
      "top_k_categorical_accuracy  :  0.795121967792511\n",
      "top1_acc  :  0.2195121943950653\n",
      "top5_acc  :  0.795121967792511\n",
      "mean_squared_error  :  0.12097971141338348\n"
     ]
    }
   ],
   "source": [
    "#Evaluate model performance on test dataset\n",
    "results = vgg16d_model.evaluate(test_generator)\n",
    "for i in range(len(vgg16d_model.metrics_names)):\n",
    "    print(vgg16d_model.metrics_names[i], \" : \", results[i])"
   ]
  },
  {
   "cell_type": "code",
   "execution_count": 57,
   "id": "7776afb0",
   "metadata": {},
   "outputs": [
    {
     "data": {
      "text/plain": [
       "'\\nY_pred = vgg16d_model.predict(test_generator,\\n        len(os.listdir(test_paper))//batchSize + 1)\\ny_pred = np.argmax(Y_pred, axis=1)\\nres = classification_performance(test_generator.classes, y_pred)\\nprint(res.recall)\\nprint(res.precision)\\nprint(res.f1_score)\\nprint(res.accuracy)\\n'"
      ]
     },
     "execution_count": 57,
     "metadata": {},
     "output_type": "execute_result"
    }
   ],
   "source": [
    "'''\n",
    "Y_pred = vgg16d_model.predict(test_generator,\n",
    "        len(os.listdir(test_paper))//batchSize + 1)\n",
    "y_pred = np.argmax(Y_pred, axis=1)\n",
    "res = classification_performance(test_generator.classes, y_pred)\n",
    "print(res.recall)\n",
    "print(res.precision)\n",
    "print(res.f1_score)\n",
    "print(res.accuracy)\n",
    "'''"
   ]
  },
  {
   "cell_type": "code",
   "execution_count": 58,
   "id": "c63524e7",
   "metadata": {},
   "outputs": [
    {
     "name": "stdout",
     "output_type": "stream",
     "text": [
      "13/13 [==============================] - 355s 27s/step\n",
      "Confusion Matrix\n",
      "[[ 0  0  0  0 61  0  0]\n",
      " [ 0  0  0  0 76  0  0]\n",
      " [ 0  0  0  0 26  0  0]\n",
      " [ 0  0  0  0 62  0  0]\n",
      " [ 0  0  0  0 90  0  0]\n",
      " [ 0  0  0  0 73  0  0]\n",
      " [ 0  0  0  0 22  0  0]]\n",
      "Classification Report\n",
      "              precision    recall  f1-score   support\n",
      "\n",
      "   cardboard       0.00      0.00      0.00        61\n",
      "       glass       0.00      0.00      0.00        76\n",
      "         ied       0.00      0.00      0.00        26\n",
      "       metal       0.00      0.00      0.00        62\n",
      "       paper       0.22      1.00      0.36        90\n",
      "     plastic       0.00      0.00      0.00        73\n",
      "       trash       0.00      0.00      0.00        22\n",
      "\n",
      "    accuracy                           0.22       410\n",
      "   macro avg       0.03      0.14      0.05       410\n",
      "weighted avg       0.05      0.22      0.08       410\n",
      "\n"
     ]
    },
    {
     "data": {
      "image/png": "[encoded data removed]",
      "text/plain": [
       "<Figure size 640x480 with 2 Axes>"
      ]
     },
     "metadata": {},
     "output_type": "display_data"
    }
   ],
   "source": [
    "Y_pred = vgg16d_model.predict(test_generator,\n",
    "        len(os.listdir(test_paper))//batchSize + 1)\n",
    "y_pred = np.argmax(Y_pred, axis=1)\n",
    "cm = confusion_matrix(test_generator.classes, y_pred)\n",
    "\n",
    "print('Confusion Matrix')\n",
    "print(cm)\n",
    "\n",
    "print('Classification Report')\n",
    "target_names = target_names\n",
    "print(classification_report(test_generator.classes, y_pred, target_names=target_names))\n",
    "\n",
    "disp = ConfusionMatrixDisplay(confusion_matrix=cm, display_labels=target_names)\n",
    "disp.plot(cmap=plt.cm.Blues)\n",
    "plt.show()"
   ]
  }
 ],
 "metadata": {
  "kernelspec": {
   "display_name": "Python 3 (ipykernel)",
   "language": "python",
   "name": "python3"
  },
  "language_info": {
   "codemirror_mode": {
    "name": "ipython",
    "version": 3
   },
   "file_extension": ".py",
   "mimetype": "text/x-python",
   "name": "python",
   "nbconvert_exporter": "python",
   "pygments_lexer": "ipython3",
   "version": "3.10.9"
  }
 },
 "nbformat": 4,
 "nbformat_minor": 5
}
